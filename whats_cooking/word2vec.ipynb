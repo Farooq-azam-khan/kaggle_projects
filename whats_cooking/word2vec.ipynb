{
 "cells": [
  {
   "cell_type": "code",
   "execution_count": 1,
   "metadata": {},
   "outputs": [],
   "source": [
    "# haandle data\n",
    "import json\n",
    "import operator\n",
    "import collections\n",
    "# https://docs.python.org/3/library/re.html\n",
    "import re # regular expression"
   ]
  },
  {
   "cell_type": "code",
   "execution_count": 2,
   "metadata": {},
   "outputs": [],
   "source": [
    "# handle table data\n",
    "import numpy as np\n",
    "import pandas as pd"
   ]
  },
  {
   "cell_type": "code",
   "execution_count": 4,
   "metadata": {},
   "outputs": [],
   "source": [
    "# algorithms\n",
    "# https://rare-technologies.com/word2vec-tutorial/\n",
    "from gensim.models import word2vec\n",
    "# modeling helpers\n",
    "# http://scikit-learn.org/stable/modules/generated/sklearn.manifold.TSNE.html\n",
    "# tool to visualize high-dimensional data. \n",
    "from sklearn.manifold import TSNE"
   ]
  },
  {
   "cell_type": "code",
   "execution_count": 5,
   "metadata": {},
   "outputs": [],
   "source": [
    "# Visualisation\n",
    "import matplotlib.pyplot as plt\n",
    "import matplotlib.patches as mpatches\n",
    "import seaborn as sns\n",
    "%matplotlib inline"
   ]
  },
  {
   "cell_type": "code",
   "execution_count": 7,
   "metadata": {},
   "outputs": [],
   "source": [
    "trainrecipts = json.load(open('./data/train.json','r'))"
   ]
  },
  {
   "cell_type": "code",
   "execution_count": 8,
   "metadata": {},
   "outputs": [],
   "source": [
    "raw_ingredients = list()\n",
    "\n",
    "for recipt in trainrecipts:\n",
    "    for ingredient in recipt[u'ingredients']:\n",
    "        raw_ingredients.append(ingredient.strip())\n",
    "        \n",
    "\n",
    "raw_cuisines = list()\n",
    "for recipt in trainrecipts:\n",
    "    raw_cuisines.append(recipt[u'cuisine'].strip())"
   ]
  },
  {
   "cell_type": "code",
   "execution_count": 9,
   "metadata": {},
   "outputs": [],
   "source": [
    "# use Counter to get frequencies \n",
    "counts_ingr = collections.Counter(raw_ingredients)\n",
    "counts_cuis = collections.Counter(raw_cuisines)"
   ]
  },
  {
   "cell_type": "code",
   "execution_count": 10,
   "metadata": {},
   "outputs": [
    {
     "name": "stdout",
     "output_type": "stream",
     "text": [
      "Size Ingredients dataset (with repetition):  \t428275\n",
      "Unique Ingredients dataset: \t\t\t6714\n",
      "Total # of recipts \t\t\t\t39774\n",
      "Total # of Cuisines \t\t\t\t20\n"
     ]
    }
   ],
   "source": [
    "# this will help us to have an idea how our corpora of \n",
    "# ingredients looks like\n",
    "print('Size Ingredients dataset (with repetition):  \\t{}'.format((len(raw_ingredients))))\n",
    "print('Unique Ingredients dataset: \\t\\t\\t{}'.format((len(counts_ingr.values()))))\n",
    "\n",
    "# This will provide a distribution of cusines, indirect \n",
    "# info of the ingredients\n",
    "print('Total # of recipts \\t\\t\\t\\t{}'.format(len(raw_cuisines)))\n",
    "print('Total # of Cuisines \\t\\t\\t\\t{}'.format((len(counts_cuis.values()))))"
   ]
  },
  {
   "cell_type": "code",
   "execution_count": 11,
   "metadata": {},
   "outputs": [
    {
     "data": {
      "text/plain": [
       "[('italian', 7838),\n",
       " ('mexican', 6438),\n",
       " ('southern_us', 4320),\n",
       " ('indian', 3003),\n",
       " ('chinese', 2673),\n",
       " ('french', 2646),\n",
       " ('cajun_creole', 1546),\n",
       " ('thai', 1539),\n",
       " ('japanese', 1423),\n",
       " ('greek', 1175)]"
      ]
     },
     "execution_count": 11,
     "metadata": {},
     "output_type": "execute_result"
    }
   ],
   "source": [
    "# top 10\n",
    "counts_cuis.most_common(10)"
   ]
  },
  {
   "cell_type": "code",
   "execution_count": 13,
   "metadata": {},
   "outputs": [
    {
     "data": {
      "image/png": "[encoded data removed]",
      "text/plain": [
       "<Figure size 1080x504 with 1 Axes>"
      ]
     },
     "metadata": {},
     "output_type": "display_data"
    }
   ],
   "source": [
    "# sort\n",
    "plt.figure(figsize=(15,7))\n",
    "plt.xticks(rotation=45)\n",
    "x_cu = [cu for cu, frq in counts_cuis.most_common()]\n",
    "y_frq = [frq for cu, frq in counts_cuis.most_common()]\n",
    "fbar = sns.barplot(x = x_cu, y = y_frq)"
   ]
  },
  {
   "cell_type": "code",
   "execution_count": 14,
   "metadata": {},
   "outputs": [
    {
     "name": "stdout",
     "output_type": "stream",
     "text": [
      "20\n"
     ]
    }
   ],
   "source": [
    "# init a dict with a empty list\n",
    "num_ingredients = dict(zip(counts_cuis.keys(), [list() for x in counts_cuis.keys()]))\n",
    "for recipt in trainrecipts:\n",
    "    # append the number in the list\n",
    "    num_ingredients[recipt['cuisine']].append(len(recipt['ingredients']))\n",
    "\n",
    "print(len(num_ingredients))"
   ]
  },
  {
   "cell_type": "code",
   "execution_count": 19,
   "metadata": {},
   "outputs": [
    {
     "name": "stdout",
     "output_type": "stream",
     "text": [
      "greek                   10.18\n",
      "southern_us             9.63\n",
      "filipino                10.00\n",
      "indian                  12.71\n",
      "jamaican                12.21\n",
      "spanish                 10.42\n",
      "italian                 9.91\n",
      "mexican                 10.88\n",
      "chinese                 11.98\n",
      "british                 9.71\n",
      "thai                    12.55\n",
      "vietnamese              12.68\n",
      "cajun_creole            12.62\n",
      "brazilian               9.52\n",
      "french                  9.82\n",
      "japanese                9.74\n",
      "irish                   9.30\n",
      "korean                  11.28\n",
      "moroccan                12.91\n",
      "russian                 10.22\n"
     ]
    }
   ],
   "source": [
    "for cu, frq in num_ingredients.items():\n",
    "    print('{:20}    {:.2f}'.format(cu, np.mean(frq)))"
   ]
  },
  {
   "cell_type": "code",
   "execution_count": 20,
   "metadata": {},
   "outputs": [
    {
     "data": {
      "text/plain": [
       "[('salt', 18049),\n",
       " ('onions', 7972),\n",
       " ('olive oil', 7972),\n",
       " ('water', 7457),\n",
       " ('garlic', 7380),\n",
       " ('sugar', 6434),\n",
       " ('garlic cloves', 6237),\n",
       " ('butter', 4848),\n",
       " ('ground black pepper', 4785),\n",
       " ('all-purpose flour', 4632),\n",
       " ('pepper', 4438),\n",
       " ('vegetable oil', 4385),\n",
       " ('eggs', 3388),\n",
       " ('soy sauce', 3296),\n",
       " ('kosher salt', 3113)]"
      ]
     },
     "execution_count": 20,
     "metadata": {},
     "output_type": "execute_result"
    }
   ],
   "source": [
    "# top 15\n",
    "counts_ingr.most_common(15)"
   ]
  },
  {
   "cell_type": "code",
   "execution_count": 23,
   "metadata": {},
   "outputs": [
    {
     "data": {
      "text/plain": [
       "[('Oscar Mayer Cotto Salami', 1),\n",
       " ('Challenge Butter', 1),\n",
       " ('orange glaze', 1),\n",
       " ('cholesterol free egg substitute', 1),\n",
       " ('ciabatta loaf', 1),\n",
       " ('LiptonÂ® Iced Tea Brew Family Size Tea Bags', 1),\n",
       " ('Hidden ValleyÂ® Greek Yogurt Original RanchÂ® Dip Mix', 1),\n",
       " ('lop chong', 1),\n",
       " ('tomato garlic pasta sauce', 1),\n",
       " ('crushed cheese crackers', 1)]"
      ]
     },
     "execution_count": 23,
     "metadata": {},
     "output_type": "execute_result"
    }
   ],
   "source": [
    "# Tail 50\n",
    "counts_ingr.most_common()[-10:]"
   ]
  },
  {
   "cell_type": "code",
   "execution_count": 24,
   "metadata": {},
   "outputs": [
    {
     "data": {
      "text/plain": [
       "[('(    oz.) tomato sauce', 11),\n",
       " ('(   oz.) tomato paste', 9),\n",
       " ('(14.5 oz.) diced tomatoes', 3),\n",
       " ('(15 oz.) refried beans', 3),\n",
       " ('(10 oz.) frozen chopped spinach', 3),\n",
       " ('(10 oz.) frozen chopped spinach, thawed and squeezed dry', 2),\n",
       " ('(14 oz.) sweetened condensed milk', 2)]"
      ]
     },
     "execution_count": 24,
     "metadata": {},
     "output_type": "execute_result"
    }
   ],
   "source": [
    "symbols = list()\n",
    "\n",
    "for recipt in trainrecipts:\n",
    "\n",
    "    # I want ingredient remove \n",
    "    for ingredient in recipt['ingredients']:\n",
    "        if re.match(\"\\(|@|\\$\\?\", ingredient.lower()):\n",
    "            symbols.append(ingredient)\n",
    "len(symbols)\n",
    "counts_symbols = collections.Counter(symbols)\n",
    "counts_symbols.most_common(20)"
   ]
  },
  {
   "cell_type": "code",
   "execution_count": 25,
   "metadata": {},
   "outputs": [
    {
     "data": {
      "text/plain": [
       "39774"
      ]
     },
     "execution_count": 25,
     "metadata": {},
     "output_type": "execute_result"
    }
   ],
   "source": [
    "# remove key words and adjectives\n",
    "sentences = list()\n",
    "# one hot ingredients\n",
    "\n",
    "\n",
    "for recipt in trainrecipts:\n",
    "    clean_recipt = list()\n",
    "    # I want ingredient remove \n",
    "    for ingredient in recipt['ingredients']:\n",
    "        # remove this description from the ingredients\n",
    "        # minimal preprocessing\n",
    "        ingredient =  re.sub(r'\\(.*oz.\\)|crushed|crumbles|ground|minced|powder|chopped|sliced',\n",
    "                             '', \n",
    "                             ingredient)\n",
    "        clean_recipt.append(ingredient.strip())\n",
    "    sentences.append(clean_recipt)\n",
    "        \n",
    "len(sentences)"
   ]
  },
  {
   "cell_type": "code",
   "execution_count": 28,
   "metadata": {},
   "outputs": [
    {
     "name": "stdout",
     "output_type": "stream",
     "text": [
      "['romaine lettuce', 'black olives', 'grape tomatoes', 'garlic', 'pepper', 'purple onion', 'seasoning', 'garbanzo beans', 'feta cheese']\n"
     ]
    }
   ],
   "source": [
    "print(sentences[0])"
   ]
  },
  {
   "cell_type": "code",
   "execution_count": 26,
   "metadata": {},
   "outputs": [],
   "source": [
    "# Set values for NN parameters\n",
    "num_features = 300    # Word vector dimensionality                      \n",
    "min_word_count = 3    # 50% of the corpus                    \n",
    "num_workers = 4       # Number of CPUs\n",
    "context = 10          # Context window size; \n",
    "                      # let's use avg recipte size                                                                                  \n",
    "downsampling = 1e-3   # threshold for configuring which \n",
    "                    # higher-frequency words are randomly downsampled"
   ]
  },
  {
   "cell_type": "code",
   "execution_count": 29,
   "metadata": {},
   "outputs": [],
   "source": [
    "# initalize model \n",
    "model = word2vec.Word2Vec(sentences, workers=num_workers, \\\n",
    "            size=num_features, min_count = min_word_count, \\\n",
    "            window = context, sample = downsampling)"
   ]
  },
  {
   "cell_type": "code",
   "execution_count": 30,
   "metadata": {},
   "outputs": [],
   "source": [
    "# If you don't plan to train the model any further, calling \n",
    "# init_sims will make the model much more memory-efficient.\n",
    "model.init_sims(replace=True)"
   ]
  },
  {
   "cell_type": "code",
   "execution_count": 33,
   "metadata": {},
   "outputs": [
    {
     "name": "stderr",
     "output_type": "stream",
     "text": [
      "c:\\users\\faroo\\documents\\kaggle_project\\lib\\site-packages\\gensim\\matutils.py:737: FutureWarning: Conversion of the second argument of issubdtype from `int` to `np.signedinteger` is deprecated. In future, it will be treated as `np.int32 == np.dtype(int).type`.\n",
      "  if np.issubdtype(vec.dtype, np.int):\n"
     ]
    },
    {
     "data": {
      "text/plain": [
       "[('kalamata', 0.9325991272926331),\n",
       " ('olives', 0.9132055640220642),\n",
       " ('pitted kalamata olives', 0.9127309322357178),\n",
       " ('fresh oregano', 0.911074161529541),\n",
       " ('roasted red peppers', 0.9001317024230957),\n",
       " ('pitas', 0.8930472135543823),\n",
       " ('grape tomatoes', 0.8924123048782349),\n",
       " ('greek seasoning', 0.8898167610168457),\n",
       " ('cherry tomatoes', 0.8734899759292603),\n",
       " ('pitted black olives', 0.8622173070907593)]"
      ]
     },
     "execution_count": 33,
     "metadata": {},
     "output_type": "execute_result"
    }
   ],
   "source": [
    "model.wv.most_similar('feta cheese')"
   ]
  },
  {
   "cell_type": "code",
   "execution_count": 35,
   "metadata": {},
   "outputs": [
    {
     "name": "stderr",
     "output_type": "stream",
     "text": [
      "c:\\users\\faroo\\documents\\kaggle_project\\lib\\site-packages\\gensim\\matutils.py:737: FutureWarning: Conversion of the second argument of issubdtype from `int` to `np.signedinteger` is deprecated. In future, it will be treated as `np.int32 == np.dtype(int).type`.\n",
      "  if np.issubdtype(vec.dtype, np.int):\n"
     ]
    },
    {
     "data": {
      "text/plain": [
       "0.36447132"
      ]
     },
     "execution_count": 35,
     "metadata": {},
     "output_type": "execute_result"
    }
   ],
   "source": [
    "model.wv.similarity('broccoli', 'bacon')"
   ]
  },
  {
   "cell_type": "code",
   "execution_count": 36,
   "metadata": {},
   "outputs": [
    {
     "ename": "AttributeError",
     "evalue": "'Word2Vec' object has no attribute 'predict'",
     "output_type": "error",
     "traceback": [
      "\u001b[1;31m---------------------------------------------------------------------------\u001b[0m",
      "\u001b[1;31mAttributeError\u001b[0m                            Traceback (most recent call last)",
      "\u001b[1;32m<ipython-input-36-c14c5ee82961>\u001b[0m in \u001b[0;36m<module>\u001b[1;34m()\u001b[0m\n\u001b[1;32m----> 1\u001b[1;33m \u001b[0mmodel\u001b[0m\u001b[1;33m.\u001b[0m\u001b[0mpredict\u001b[0m\u001b[1;33m(\u001b[0m\u001b[1;33m)\u001b[0m\u001b[1;33m\u001b[0m\u001b[0m\n\u001b[0m",
      "\u001b[1;31mAttributeError\u001b[0m: 'Word2Vec' object has no attribute 'predict'"
     ]
    }
   ],
   "source": []
  },
  {
   "cell_type": "code",
   "execution_count": null,
   "metadata": {},
   "outputs": [],
   "source": []
  }
 ],
 "metadata": {
  "kernelspec": {
   "display_name": "Python 3",
   "language": "python",
   "name": "python3"
  },
  "language_info": {
   "codemirror_mode": {
    "name": "ipython",
    "version": 3
   },
   "file_extension": ".py",
   "mimetype": "text/x-python",
   "name": "python",
   "nbconvert_exporter": "python",
   "pygments_lexer": "ipython3",
   "version": "3.6.6"
  }
 },
 "nbformat": 4,
 "nbformat_minor": 2
}
