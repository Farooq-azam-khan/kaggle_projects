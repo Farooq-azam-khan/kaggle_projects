{
 "cells": [
  {
   "cell_type": "code",
   "execution_count": 1,
   "metadata": {},
   "outputs": [],
   "source": [
    "# haandle data\n",
    "import json\n",
    "import operator\n",
    "import collections"
   ]
  },
  {
   "cell_type": "code",
   "execution_count": 2,
   "metadata": {},
   "outputs": [],
   "source": [
    "# handle table data\n",
    "import numpy as np\n",
    "import pandas as pd"
   ]
  },
  {
   "cell_type": "code",
   "execution_count": 3,
   "metadata": {},
   "outputs": [],
   "source": [
    "from sklearn import svm\n",
    "from sklearn import model_selection "
   ]
  },
  {
   "cell_type": "code",
   "execution_count": 4,
   "metadata": {},
   "outputs": [],
   "source": [
    "# load json file\n",
    "with open('./data/train.json') as data_file:\n",
    "    train_data = json.load(data_file)\n",
    "\n",
    "with open('./data/test.json') as data_file:\n",
    "    test_data = json.load(data_file)"
   ]
  },
  {
   "cell_type": "code",
   "execution_count": 5,
   "metadata": {},
   "outputs": [],
   "source": [
    "# get all ingredients in all dishes\n",
    "def get_ingredients(json):\n",
    "    raw_ingredients = list()\n",
    "    for dish in json:\n",
    "        for ingredient in dish['ingredients']:\n",
    "            raw_ingredients.append(ingredient.strip())\n",
    "    return raw_ingredients\n",
    "raw_ingredients = list(set(get_ingredients(train_data)))\n",
    "train_ingredients = collections.Counter(get_ingredients(train_data))\n",
    "# get all cusines\n",
    "\n",
    "def get_cuisine(json):\n",
    "    raw_cuisines = list()\n",
    "    for dish in json:\n",
    "        raw_cuisines.append(dish['cuisine'].strip())\n",
    "    return raw_cuisines\n",
    "raw_cuisines = list(set(get_cuisine(train_data)))\n",
    "train_cuisines =  collections.Counter(get_cuisine(train_data))"
   ]
  },
  {
   "cell_type": "code",
   "execution_count": 6,
   "metadata": {},
   "outputs": [
    {
     "name": "stdout",
     "output_type": "stream",
     "text": [
      "number of ingredients: 6714\n",
      "number of trainning dishes: 39774\n",
      "number of testing dishes: 9944\n"
     ]
    }
   ],
   "source": [
    "number_of_ingredients = len(train_ingredients)\n",
    "print(\"number of ingredients:\", number_of_ingredients)\n",
    "number_of_train_dishes = len(train_data)\n",
    "print(\"number of trainning dishes:\", number_of_train_dishes )\n",
    "number_of_test_dishes = len(test_data)\n",
    "print(\"number of testing dishes:\", number_of_test_dishes)"
   ]
  },
  {
   "cell_type": "code",
   "execution_count": 7,
   "metadata": {},
   "outputs": [],
   "source": [
    "# rows = dishes\n",
    "# cols = ingredients\n",
    "model_matrix = np.zeros((number_of_train_dishes, number_of_ingredients))"
   ]
  },
  {
   "cell_type": "code",
   "execution_count": 8,
   "metadata": {},
   "outputs": [],
   "source": [
    "for row, dish in enumerate(train_data):\n",
    "    ingredients = dish['ingredients']\n",
    "    for ingredient in ingredients:\n",
    "        col = raw_ingredients.index(ingredient)\n",
    "        model_matrix[row, col] = 1"
   ]
  },
  {
   "cell_type": "code",
   "execution_count": 24,
   "metadata": {},
   "outputs": [],
   "source": [
    "features = model_matrix[:10000]\n",
    "target = [raw_cuisines.index(dish['cuisine']) for dish in train_data][:10000]"
   ]
  },
  {
   "cell_type": "code",
   "execution_count": 25,
   "metadata": {},
   "outputs": [],
   "source": [
    "train_X, test_X, train_y, test_y = model_selection.train_test_split(features, target, random_state=0)"
   ]
  },
  {
   "cell_type": "code",
   "execution_count": 26,
   "metadata": {},
   "outputs": [
    {
     "name": "stdout",
     "output_type": "stream",
     "text": [
      "[[0. 0. 0. ... 0. 0. 0.]\n",
      " [0. 0. 0. ... 0. 0. 0.]\n",
      " [0. 0. 0. ... 0. 0. 0.]\n",
      " ...\n",
      " [0. 0. 0. ... 0. 0. 0.]\n",
      " [0. 0. 0. ... 0. 0. 0.]\n",
      " [0. 0. 0. ... 0. 0. 0.]]\n"
     ]
    }
   ],
   "source": [
    "print(train_X)"
   ]
  },
  {
   "cell_type": "code",
   "execution_count": null,
   "metadata": {},
   "outputs": [],
   "source": [
    "model = svm.SVC()\n",
    "model.fit(train_X, train_y)"
   ]
  },
  {
   "cell_type": "code",
   "execution_count": null,
   "metadata": {},
   "outputs": [],
   "source": [
    "print('train score: {}'.format(model.score(train_X, train_y)))\n",
    "print('test score: {}'.format(model.score(test_X, test_y)))"
   ]
  },
  {
   "cell_type": "code",
   "execution_count": null,
   "metadata": {},
   "outputs": [],
   "source": []
  }
 ],
 "metadata": {
  "kernelspec": {
   "display_name": "Python 3",
   "language": "python",
   "name": "python3"
  },
  "language_info": {
   "codemirror_mode": {
    "name": "ipython",
    "version": 3
   },
   "file_extension": ".py",
   "mimetype": "text/x-python",
   "name": "python",
   "nbconvert_exporter": "python",
   "pygments_lexer": "ipython3",
   "version": "3.6.6"
  }
 },
 "nbformat": 4,
 "nbformat_minor": 2
}
