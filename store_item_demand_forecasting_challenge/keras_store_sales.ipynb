{
 "cells": [
  {
   "cell_type": "code",
   "execution_count": 1,
   "metadata": {},
   "outputs": [],
   "source": [
    "import tensorflow as tf\n",
    "from sklearn.model_selection import train_test_split"
   ]
  },
  {
   "cell_type": "code",
   "execution_count": 2,
   "metadata": {},
   "outputs": [],
   "source": [
    "import pandas as pd \n",
    "import numpy as np"
   ]
  },
  {
   "cell_type": "code",
   "execution_count": 3,
   "metadata": {},
   "outputs": [],
   "source": [
    "df = pd.read_csv('./data/preprocessed_train_test_data.csv')"
   ]
  },
  {
   "cell_type": "code",
   "execution_count": 4,
   "metadata": {},
   "outputs": [
    {
     "data": {
      "text/html": [
       "<div>\n",
       "<style scoped>\n",
       "    .dataframe tbody tr th:only-of-type {\n",
       "        vertical-align: middle;\n",
       "    }\n",
       "\n",
       "    .dataframe tbody tr th {\n",
       "        vertical-align: top;\n",
       "    }\n",
       "\n",
       "    .dataframe thead th {\n",
       "        text-align: right;\n",
       "    }\n",
       "</style>\n",
       "<table border=\"1\" class=\"dataframe\">\n",
       "  <thead>\n",
       "    <tr style=\"text-align: right;\">\n",
       "      <th></th>\n",
       "      <th>date</th>\n",
       "      <th>store</th>\n",
       "      <th>item</th>\n",
       "      <th>sales</th>\n",
       "      <th>id</th>\n",
       "      <th>month</th>\n",
       "      <th>weekday</th>\n",
       "      <th>year</th>\n",
       "      <th>day</th>\n",
       "      <th>weekofyear</th>\n",
       "      <th>...</th>\n",
       "      <th>store_item_sales_mean</th>\n",
       "      <th>store_item_month_sales_sum</th>\n",
       "      <th>store_item_day_sales_sum</th>\n",
       "      <th>store_item_day_sales_median</th>\n",
       "      <th>store_item_weekday_sales_sum</th>\n",
       "      <th>store_item_weekday_sales_median</th>\n",
       "      <th>store_item_dayofyear_sales_sum</th>\n",
       "      <th>store_item_dayofyear_sales_median</th>\n",
       "      <th>store_item_weekofyear_sales_sum</th>\n",
       "      <th>store_item_weekofyear_sales_median</th>\n",
       "    </tr>\n",
       "  </thead>\n",
       "  <tbody>\n",
       "    <tr>\n",
       "      <th>0</th>\n",
       "      <td>2013-01-01</td>\n",
       "      <td>1</td>\n",
       "      <td>1</td>\n",
       "      <td>13.0</td>\n",
       "      <td>NaN</td>\n",
       "      <td>1</td>\n",
       "      <td>1</td>\n",
       "      <td>2013</td>\n",
       "      <td>1</td>\n",
       "      <td>1</td>\n",
       "      <td>...</td>\n",
       "      <td>19.971522</td>\n",
       "      <td>2125.0</td>\n",
       "      <td>1195.0</td>\n",
       "      <td>19.0</td>\n",
       "      <td>4742.0</td>\n",
       "      <td>18.0</td>\n",
       "      <td>73.0</td>\n",
       "      <td>13.0</td>\n",
       "      <td>475.0</td>\n",
       "      <td>13.5</td>\n",
       "    </tr>\n",
       "    <tr>\n",
       "      <th>1</th>\n",
       "      <td>2013-01-02</td>\n",
       "      <td>1</td>\n",
       "      <td>1</td>\n",
       "      <td>11.0</td>\n",
       "      <td>NaN</td>\n",
       "      <td>1</td>\n",
       "      <td>2</td>\n",
       "      <td>2013</td>\n",
       "      <td>2</td>\n",
       "      <td>1</td>\n",
       "      <td>...</td>\n",
       "      <td>19.971522</td>\n",
       "      <td>2125.0</td>\n",
       "      <td>1123.0</td>\n",
       "      <td>19.0</td>\n",
       "      <td>4905.0</td>\n",
       "      <td>19.0</td>\n",
       "      <td>72.0</td>\n",
       "      <td>14.0</td>\n",
       "      <td>475.0</td>\n",
       "      <td>13.5</td>\n",
       "    </tr>\n",
       "    <tr>\n",
       "      <th>2</th>\n",
       "      <td>2013-01-03</td>\n",
       "      <td>1</td>\n",
       "      <td>1</td>\n",
       "      <td>14.0</td>\n",
       "      <td>NaN</td>\n",
       "      <td>1</td>\n",
       "      <td>3</td>\n",
       "      <td>2013</td>\n",
       "      <td>3</td>\n",
       "      <td>1</td>\n",
       "      <td>...</td>\n",
       "      <td>19.971522</td>\n",
       "      <td>2125.0</td>\n",
       "      <td>1252.0</td>\n",
       "      <td>20.0</td>\n",
       "      <td>5077.0</td>\n",
       "      <td>19.0</td>\n",
       "      <td>63.0</td>\n",
       "      <td>12.0</td>\n",
       "      <td>475.0</td>\n",
       "      <td>13.5</td>\n",
       "    </tr>\n",
       "    <tr>\n",
       "      <th>3</th>\n",
       "      <td>2013-01-04</td>\n",
       "      <td>1</td>\n",
       "      <td>1</td>\n",
       "      <td>13.0</td>\n",
       "      <td>NaN</td>\n",
       "      <td>1</td>\n",
       "      <td>4</td>\n",
       "      <td>2013</td>\n",
       "      <td>4</td>\n",
       "      <td>1</td>\n",
       "      <td>...</td>\n",
       "      <td>19.971522</td>\n",
       "      <td>2125.0</td>\n",
       "      <td>1176.0</td>\n",
       "      <td>19.5</td>\n",
       "      <td>5485.0</td>\n",
       "      <td>21.0</td>\n",
       "      <td>75.0</td>\n",
       "      <td>14.0</td>\n",
       "      <td>475.0</td>\n",
       "      <td>13.5</td>\n",
       "    </tr>\n",
       "    <tr>\n",
       "      <th>4</th>\n",
       "      <td>2013-01-05</td>\n",
       "      <td>1</td>\n",
       "      <td>1</td>\n",
       "      <td>10.0</td>\n",
       "      <td>NaN</td>\n",
       "      <td>1</td>\n",
       "      <td>5</td>\n",
       "      <td>2013</td>\n",
       "      <td>5</td>\n",
       "      <td>1</td>\n",
       "      <td>...</td>\n",
       "      <td>19.971522</td>\n",
       "      <td>2125.0</td>\n",
       "      <td>1219.0</td>\n",
       "      <td>20.0</td>\n",
       "      <td>5996.0</td>\n",
       "      <td>22.0</td>\n",
       "      <td>67.0</td>\n",
       "      <td>14.0</td>\n",
       "      <td>475.0</td>\n",
       "      <td>13.5</td>\n",
       "    </tr>\n",
       "  </tbody>\n",
       "</table>\n",
       "<p>5 rows × 85 columns</p>\n",
       "</div>"
      ],
      "text/plain": [
       "         date  store  item  sales  id  month  weekday  year  day  weekofyear  \\\n",
       "0  2013-01-01      1     1   13.0 NaN      1        1  2013    1           1   \n",
       "1  2013-01-02      1     1   11.0 NaN      1        2  2013    2           1   \n",
       "2  2013-01-03      1     1   14.0 NaN      1        3  2013    3           1   \n",
       "3  2013-01-04      1     1   13.0 NaN      1        4  2013    4           1   \n",
       "4  2013-01-05      1     1   10.0 NaN      1        5  2013    5           1   \n",
       "\n",
       "                  ...                  store_item_sales_mean  \\\n",
       "0                 ...                              19.971522   \n",
       "1                 ...                              19.971522   \n",
       "2                 ...                              19.971522   \n",
       "3                 ...                              19.971522   \n",
       "4                 ...                              19.971522   \n",
       "\n",
       "   store_item_month_sales_sum  store_item_day_sales_sum  \\\n",
       "0                      2125.0                    1195.0   \n",
       "1                      2125.0                    1123.0   \n",
       "2                      2125.0                    1252.0   \n",
       "3                      2125.0                    1176.0   \n",
       "4                      2125.0                    1219.0   \n",
       "\n",
       "   store_item_day_sales_median  store_item_weekday_sales_sum  \\\n",
       "0                         19.0                        4742.0   \n",
       "1                         19.0                        4905.0   \n",
       "2                         20.0                        5077.0   \n",
       "3                         19.5                        5485.0   \n",
       "4                         20.0                        5996.0   \n",
       "\n",
       "   store_item_weekday_sales_median  store_item_dayofyear_sales_sum  \\\n",
       "0                             18.0                            73.0   \n",
       "1                             19.0                            72.0   \n",
       "2                             19.0                            63.0   \n",
       "3                             21.0                            75.0   \n",
       "4                             22.0                            67.0   \n",
       "\n",
       "   store_item_dayofyear_sales_median  store_item_weekofyear_sales_sum  \\\n",
       "0                               13.0                            475.0   \n",
       "1                               14.0                            475.0   \n",
       "2                               12.0                            475.0   \n",
       "3                               14.0                            475.0   \n",
       "4                               14.0                            475.0   \n",
       "\n",
       "   store_item_weekofyear_sales_median  \n",
       "0                                13.5  \n",
       "1                                13.5  \n",
       "2                                13.5  \n",
       "3                                13.5  \n",
       "4                                13.5  \n",
       "\n",
       "[5 rows x 85 columns]"
      ]
     },
     "execution_count": 4,
     "metadata": {},
     "output_type": "execute_result"
    }
   ],
   "source": [
    "df.head()"
   ]
  },
  {
   "cell_type": "code",
   "execution_count": 5,
   "metadata": {},
   "outputs": [
    {
     "name": "stdout",
     "output_type": "stream",
     "text": [
      "train.csv (913000, 85)\n",
      "test.csv (45000, 85)\n"
     ]
    }
   ],
   "source": [
    "train_data = df.loc[~df['sales'].isna()]\n",
    "print(\"train.csv\",train_data.shape)\n",
    "test_data = df.loc[df['sales'].isna()]\n",
    "print(\"test.csv\",test_data.shape)"
   ]
  },
  {
   "cell_type": "code",
   "execution_count": 6,
   "metadata": {},
   "outputs": [
    {
     "data": {
      "text/plain": [
       "Index(['date', 'store', 'item', 'sales', 'id', 'month', 'weekday', 'year',\n",
       "       'day', 'weekofyear', 'dayofyear', 'isHoliday', 'isWeekend', 'isSummer',\n",
       "       'isWinter', 'isAutumn', 'isSpring', 'month_sum', 'month_median',\n",
       "       'month_mean', 'day_sum', 'day_median', 'day_mean', 'weekofyear_sum',\n",
       "       'weekofyear_median', 'weekofyear_mean', 'dayofyear_sum',\n",
       "       'dayofyear_median', 'dayofyear_mean', 'weekday_sum', 'weekday_median',\n",
       "       'weekday_mean', 'isWeekend_sum', 'isWeekend_median', 'isWeekend_mean',\n",
       "       'isHoliday_sum', 'isHoliday_median', 'isHoliday_mean', 'isSummer_sum',\n",
       "       'isSummer_median', 'isSummer_mean', 'isAutumn_sum', 'isAutumn_median',\n",
       "       'isAutumn_mean', 'isWinter_sum', 'isWinter_median', 'isWinter_mean',\n",
       "       'store_sales_sum', 'store_sales_median', 'store_sales_mean',\n",
       "       'store_month_sales_sum', 'store_month_sales_median',\n",
       "       'store_day_sales_sum', 'store_day_sales_median',\n",
       "       'store_weekday_sales_sum', 'store_weekday_sales_median',\n",
       "       'store_dayofyear_sales_sum', 'store_dayofyear_sales_median',\n",
       "       'store_weekofyear_sales_sum', 'store_weekofyear_sales_median',\n",
       "       'item_sales_sum', 'item_sales_median', 'item_sales_mean',\n",
       "       'item_month_sales_sum', 'item_month_sales_median', 'item_day_sales_sum',\n",
       "       'item_day_sales_median', 'item_weekday_sales_sum',\n",
       "       'item_weekday_sales_median', 'item_dayofyear_sales_sum',\n",
       "       'item_dayofyear_sales_median', 'item_weekofyear_sales_sum',\n",
       "       'item_weekofyear_sales_median', 'store_item_sales_sum',\n",
       "       'store_item_sales_median', 'store_item_sales_mean',\n",
       "       'store_item_month_sales_sum', 'store_item_day_sales_sum',\n",
       "       'store_item_day_sales_median', 'store_item_weekday_sales_sum',\n",
       "       'store_item_weekday_sales_median', 'store_item_dayofyear_sales_sum',\n",
       "       'store_item_dayofyear_sales_median', 'store_item_weekofyear_sales_sum',\n",
       "       'store_item_weekofyear_sales_median'],\n",
       "      dtype='object')"
      ]
     },
     "execution_count": 6,
     "metadata": {},
     "output_type": "execute_result"
    }
   ],
   "source": [
    "train_data.columns"
   ]
  },
  {
   "cell_type": "code",
   "execution_count": 166,
   "metadata": {},
   "outputs": [],
   "source": [
    "features = train_data[['store', \n",
    "                       'item', \n",
    "                       'day', 'month', 'year', \n",
    "                       'weekofyear', 'dayofyear', 'weekday',\n",
    "                      'weekofyear_median', 'dayofyear_median', \n",
    "                      'store_sales_median', 'item_sales_median', \n",
    "                      'store_item_sales_median', \n",
    "                      'store_item_weekofyear_sales_median']] #train_data[['store', 'item', 'month', 'day', 'year', 'weekofyear', 'dayofyear']]\n",
    "#train_data.drop(['date', 'sales', 'id'], axis=1)\n",
    "targets = train_data['sales']\n"
   ]
  },
  {
   "cell_type": "code",
   "execution_count": 167,
   "metadata": {},
   "outputs": [
    {
     "data": {
      "text/plain": [
       "(913000, 14)"
      ]
     },
     "execution_count": 167,
     "metadata": {},
     "output_type": "execute_result"
    }
   ],
   "source": [
    "features.shape"
   ]
  },
  {
   "cell_type": "code",
   "execution_count": 168,
   "metadata": {},
   "outputs": [
    {
     "data": {
      "text/plain": [
       "0    13.0\n",
       "1    11.0\n",
       "2    14.0\n",
       "3    13.0\n",
       "4    10.0\n",
       "Name: sales, dtype: float64"
      ]
     },
     "execution_count": 168,
     "metadata": {},
     "output_type": "execute_result"
    }
   ],
   "source": [
    "targets.head()"
   ]
  },
  {
   "cell_type": "code",
   "execution_count": 169,
   "metadata": {},
   "outputs": [],
   "source": [
    "import keras.backend as K\n",
    "\n",
    "def custom_smape(x, x_):\n",
    "    return K.mean(2*K.abs(x-x_)/(K.abs(x)+K.abs(x_)))*100\n"
   ]
  },
  {
   "cell_type": "code",
   "execution_count": 170,
   "metadata": {},
   "outputs": [],
   "source": [
    "train_X, test_X, train_y, test_y = train_test_split(features, targets)"
   ]
  },
  {
   "cell_type": "code",
   "execution_count": 171,
   "metadata": {},
   "outputs": [],
   "source": [
    "from keras.layers import Dense, Dropout, Flatten, SpatialDropout1D\n",
    "from keras.models import Sequential\n",
    "from keras.optimizers import SGD, RMSprop, Adadelta, Adam"
   ]
  },
  {
   "cell_type": "code",
   "execution_count": 179,
   "metadata": {},
   "outputs": [],
   "source": [
    "# define model \n",
    "model = Sequential()\n",
    "model.add(Dense(256, input_dim=len(features.columns)))\n",
    "model.add(Dense(256, activation=tf.nn.relu))\n",
    "model.add(Dropout(0.25))\n",
    "model.add(Dense(256, activation=tf.nn.relu))\n",
    "model.add(Dropout(0.25))\n",
    "model.add(Dense(256, activation=tf.nn.relu))\n",
    "model.add(Dense(256, activation=tf.nn.relu))\n",
    "\n",
    "model.add(Dropout(0.25))\n",
    "\n",
    "model.add(Dense(256, activation=tf.nn.elu))\n",
    "model.add(Dense(256, activation=tf.nn.elu))\n",
    "\n",
    "model.add(Dropout(0.25))\n",
    "model.add(Dense(256, activation=tf.nn.elu))\n",
    "\n",
    "model.add(Dense(1, activation=tf.nn.relu))"
   ]
  },
  {
   "cell_type": "code",
   "execution_count": 180,
   "metadata": {},
   "outputs": [],
   "source": [
    "model.compile(optimizer=Adadelta(lr=0.03), \n",
    "                          loss=custom_smape,\n",
    "                          metrics=['mean_squared_logarithmic_error']\n",
    "                            )"
   ]
  },
  {
   "cell_type": "code",
   "execution_count": 182,
   "metadata": {},
   "outputs": [],
   "source": [
    "from keras.callbacks import TensorBoard\n",
    "TENSORBOARD_MODEL = 'Initial_Model'\n",
    "tensorboard = TensorBoard(log_dir=f'./logs/{TENSORBOARD_MODEL}')\n"
   ]
  },
  {
   "cell_type": "code",
   "execution_count": 184,
   "metadata": {},
   "outputs": [
    {
     "name": "stdout",
     "output_type": "stream",
     "text": [
      "Train on 684750 samples, validate on 228250 samples\n",
      "Epoch 1/5\n",
      "684750/684750 [==============================] - 96s 140us/step - loss: 16.4133 - mean_squared_logarithmic_error: 0.0426 - val_loss: 57.9005 - val_mean_squared_logarithmic_error: 0.3983\n",
      "Epoch 2/5\n",
      "684750/684750 [==============================] - 95s 139us/step - loss: 16.3464 - mean_squared_logarithmic_error: 0.0422 - val_loss: 46.1797 - val_mean_squared_logarithmic_error: 0.2629\n",
      "Epoch 3/5\n",
      "684750/684750 [==============================] - 96s 140us/step - loss: 16.2704 - mean_squared_logarithmic_error: 0.0419 - val_loss: 47.6221 - val_mean_squared_logarithmic_error: 0.2805\n",
      "Epoch 4/5\n",
      "684750/684750 [==============================] - 96s 140us/step - loss: 16.2289 - mean_squared_logarithmic_error: 0.0416 - val_loss: 54.2806 - val_mean_squared_logarithmic_error: 0.3581\n",
      "Epoch 5/5\n",
      "684750/684750 [==============================] - 96s 141us/step - loss: 16.1855 - mean_squared_logarithmic_error: 0.0414 - val_loss: 49.3159 - val_mean_squared_logarithmic_error: 0.2998\n"
     ]
    },
    {
     "data": {
      "text/plain": [
       "<keras.callbacks.History at 0x211edd4d048>"
      ]
     },
     "execution_count": 184,
     "metadata": {},
     "output_type": "execute_result"
    }
   ],
   "source": [
    "epochs = 5\n",
    "batchsize = 64\n",
    "model.fit(train_X.values, train_y.values, \n",
    "          batch_size=batchsize, \n",
    "          epochs=epochs, \n",
    "          shuffle=True,\n",
    "          validation_data=[test_X, test_y], \n",
    "          callbacks=[tensorboard]\n",
    "         )"
   ]
  },
  {
   "cell_type": "code",
   "execution_count": 175,
   "metadata": {},
   "outputs": [
    {
     "name": "stdout",
     "output_type": "stream",
     "text": [
      "_________________________________________________________________\n",
      "Layer (type)                 Output Shape              Param #   \n",
      "=================================================================\n",
      "dense_133 (Dense)            (None, 256)               3840      \n",
      "_________________________________________________________________\n",
      "dense_134 (Dense)            (None, 256)               65792     \n",
      "_________________________________________________________________\n",
      "dense_135 (Dense)            (None, 256)               65792     \n",
      "_________________________________________________________________\n",
      "dense_136 (Dense)            (None, 256)               65792     \n",
      "_________________________________________________________________\n",
      "dense_137 (Dense)            (None, 256)               65792     \n",
      "_________________________________________________________________\n",
      "dropout_24 (Dropout)         (None, 256)               0         \n",
      "_________________________________________________________________\n",
      "dense_138 (Dense)            (None, 256)               65792     \n",
      "_________________________________________________________________\n",
      "dense_139 (Dense)            (None, 256)               65792     \n",
      "_________________________________________________________________\n",
      "dropout_25 (Dropout)         (None, 256)               0         \n",
      "_________________________________________________________________\n",
      "dense_140 (Dense)            (None, 256)               65792     \n",
      "_________________________________________________________________\n",
      "dense_141 (Dense)            (None, 1)                 257       \n",
      "=================================================================\n",
      "Total params: 464,641\n",
      "Trainable params: 464,641\n",
      "Non-trainable params: 0\n",
      "_________________________________________________________________\n",
      "None\n"
     ]
    }
   ],
   "source": [
    "print(model.summary())"
   ]
  },
  {
   "cell_type": "code",
   "execution_count": 176,
   "metadata": {},
   "outputs": [
    {
     "name": "stdout",
     "output_type": "stream",
     "text": [
      "228250/228250 [==============================] - 9s 38us/step\n",
      "store_item_demand_forecasting_32.23917347192503_1535317488.2398238\n"
     ]
    }
   ],
   "source": [
    "import time\n",
    "smape_score = model.evaluate(test_X, test_y)[0]\n",
    "PROJECT_NAME = 'store_item_demand_forecasting'\n",
    "MODEL_NAME = f'{PROJECT_NAME}_{smape_score}_{time.time()}'\n",
    "print(MODEL_NAME)"
   ]
  },
  {
   "cell_type": "code",
   "execution_count": 158,
   "metadata": {},
   "outputs": [],
   "source": [
    "model.save(f'./models/{MODEL_NAME}')"
   ]
  },
  {
   "cell_type": "markdown",
   "metadata": {},
   "source": [
    "# predictions"
   ]
  },
  {
   "cell_type": "code",
   "execution_count": 159,
   "metadata": {},
   "outputs": [
    {
     "name": "stdout",
     "output_type": "stream",
     "text": [
      "[[12.416055]\n",
      " [12.413456]\n",
      " [12.470456]\n",
      " ...\n",
      " [59.774853]\n",
      " [65.70971 ]\n",
      " [70.60816 ]]\n"
     ]
    }
   ],
   "source": [
    "test_data_featues = test_data[features.columns]\n",
    "#test_data.drop(['date', 'id', 'sales'],axis=1)\n",
    "\n",
    "predictions = model.predict(test_data_featues)\n",
    "\n",
    "print(predictions)"
   ]
  },
  {
   "cell_type": "code",
   "execution_count": 162,
   "metadata": {},
   "outputs": [],
   "source": [
    "submission = pd.read_csv('./data/sample_submission.csv.zip')\n",
    "submission['sales'] = predictions"
   ]
  },
  {
   "cell_type": "code",
   "execution_count": 163,
   "metadata": {},
   "outputs": [
    {
     "data": {
      "text/html": [
       "<div>\n",
       "<style scoped>\n",
       "    .dataframe tbody tr th:only-of-type {\n",
       "        vertical-align: middle;\n",
       "    }\n",
       "\n",
       "    .dataframe tbody tr th {\n",
       "        vertical-align: top;\n",
       "    }\n",
       "\n",
       "    .dataframe thead th {\n",
       "        text-align: right;\n",
       "    }\n",
       "</style>\n",
       "<table border=\"1\" class=\"dataframe\">\n",
       "  <thead>\n",
       "    <tr style=\"text-align: right;\">\n",
       "      <th></th>\n",
       "      <th>id</th>\n",
       "      <th>sales</th>\n",
       "    </tr>\n",
       "  </thead>\n",
       "  <tbody>\n",
       "    <tr>\n",
       "      <th>0</th>\n",
       "      <td>0</td>\n",
       "      <td>12.416055</td>\n",
       "    </tr>\n",
       "    <tr>\n",
       "      <th>1</th>\n",
       "      <td>1</td>\n",
       "      <td>12.413456</td>\n",
       "    </tr>\n",
       "    <tr>\n",
       "      <th>2</th>\n",
       "      <td>2</td>\n",
       "      <td>12.470456</td>\n",
       "    </tr>\n",
       "    <tr>\n",
       "      <th>3</th>\n",
       "      <td>3</td>\n",
       "      <td>12.806584</td>\n",
       "    </tr>\n",
       "    <tr>\n",
       "      <th>4</th>\n",
       "      <td>4</td>\n",
       "      <td>12.872875</td>\n",
       "    </tr>\n",
       "  </tbody>\n",
       "</table>\n",
       "</div>"
      ],
      "text/plain": [
       "   id      sales\n",
       "0   0  12.416055\n",
       "1   1  12.413456\n",
       "2   2  12.470456\n",
       "3   3  12.806584\n",
       "4   4  12.872875"
      ]
     },
     "execution_count": 163,
     "metadata": {},
     "output_type": "execute_result"
    }
   ],
   "source": [
    "submission.head()"
   ]
  },
  {
   "cell_type": "code",
   "execution_count": 164,
   "metadata": {},
   "outputs": [],
   "source": [
    "submission.to_csv('./data/submission.csv', index=False)"
   ]
  }
 ],
 "metadata": {
  "kernelspec": {
   "display_name": "Python 3",
   "language": "python",
   "name": "python3"
  },
  "language_info": {
   "codemirror_mode": {
    "name": "ipython",
    "version": 3
   },
   "file_extension": ".py",
   "mimetype": "text/x-python",
   "name": "python",
   "nbconvert_exporter": "python",
   "pygments_lexer": "ipython3",
   "version": "3.6.6"
  }
 },
 "nbformat": 4,
 "nbformat_minor": 2
}
