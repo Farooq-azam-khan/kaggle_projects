{
 "cells": [
  {
   "cell_type": "code",
   "execution_count": 2,
   "metadata": {},
   "outputs": [],
   "source": [
    "from sklearn import model_selection, metrics\n",
    "from sklearn import (svm, \n",
    "                     neighbors, \n",
    "                     ensemble, \n",
    "                    linear_model, \n",
    "                    naive_bayes, \n",
    "                    tree, \n",
    "                    discriminant_analysis)\n",
    "import numpy as np"
   ]
  },
  {
   "cell_type": "code",
   "execution_count": 3,
   "metadata": {},
   "outputs": [],
   "source": [
    "import pandas as pd"
   ]
  },
  {
   "cell_type": "code",
   "execution_count": 4,
   "metadata": {},
   "outputs": [],
   "source": [
    "import time"
   ]
  },
  {
   "cell_type": "code",
   "execution_count": 8,
   "metadata": {},
   "outputs": [],
   "source": [
    "train_data = pd.read_csv('./data/preprocessed_train_data.csv')\n",
    "test_data = pd.read_csv('./data/preprocessed_test_data.csv')"
   ]
  },
  {
   "cell_type": "code",
   "execution_count": 9,
   "metadata": {},
   "outputs": [
    {
     "name": "stdout",
     "output_type": "stream",
     "text": [
      "<class 'pandas.core.frame.DataFrame'>\n",
      "RangeIndex: 913000 entries, 0 to 912999\n",
      "Data columns (total 53 columns):\n",
      "Unnamed: 0                           913000 non-null int64\n",
      "date                                 913000 non-null object\n",
      "store                                913000 non-null int64\n",
      "item                                 913000 non-null int64\n",
      "sales                                913000 non-null int64\n",
      "year                                 913000 non-null int64\n",
      "month                                913000 non-null int64\n",
      "day                                  913000 non-null int64\n",
      "weekday                              913000 non-null int64\n",
      "day_of_year                          913000 non-null int64\n",
      "week_of_year                         913000 non-null int64\n",
      "isWeekend                            913000 non-null int64\n",
      "isHoliday                            913000 non-null int64\n",
      "store_sales_sum                      913000 non-null int64\n",
      "store_sales_median                   913000 non-null int64\n",
      "store_year_sales_sum                 913000 non-null int64\n",
      "store_year_sales_median              913000 non-null float64\n",
      "store_month_sales_sum                913000 non-null int64\n",
      "store_month_sales_median             913000 non-null int64\n",
      "store_day_sales_sum                  913000 non-null int64\n",
      "store_day_sales_median               913000 non-null float64\n",
      "store_weekday_sales_sum              913000 non-null int64\n",
      "store_weekday_sales_median           913000 non-null int64\n",
      "store_dayofyear_sales_sum            913000 non-null int64\n",
      "store_dayofyear_sales_median         913000 non-null float64\n",
      "store_weekofyear_sales_sum           913000 non-null int64\n",
      "store_weekofyear_sales_median        913000 non-null float64\n",
      "item_sales_sum                       913000 non-null int64\n",
      "item_sales_median                    913000 non-null float64\n",
      "item_year_sales_sum                  913000 non-null int64\n",
      "item_year_sales_median               913000 non-null float64\n",
      "item_month_sales_sum                 913000 non-null int64\n",
      "item_month_sales_median              913000 non-null float64\n",
      "item_day_sales_sum                   913000 non-null int64\n",
      "item_day_sales_median                913000 non-null float64\n",
      "item_weekday_sales_sum               913000 non-null int64\n",
      "item_weekday_sales_median            913000 non-null float64\n",
      "item_dayofyear_sales_sum             913000 non-null int64\n",
      "item_dayofyear_sales_median          913000 non-null float64\n",
      "item_weekofyear_sales_sum            913000 non-null int64\n",
      "item_weekofyear_sales_median         913000 non-null float64\n",
      "sotre_item_sales_sum                 913000 non-null int64\n",
      "store_item_sales_median              913000 non-null float64\n",
      "store_item_year_sales_sum            913000 non-null int64\n",
      "store_item_year_sales_median         913000 non-null float64\n",
      "store_item_month_sales_sum           913000 non-null int64\n",
      "store_item_month_sales_median        913000 non-null float64\n",
      "store_item_day_sales_sum             913000 non-null int64\n",
      "store_item_day_sales_median          913000 non-null float64\n",
      "store_item_weekday_sales_sum         913000 non-null int64\n",
      "store_item_weekday_sales_median      913000 non-null float64\n",
      "store_item_dayofyear_sales_sum       913000 non-null int64\n",
      "store_item_dayofyear_sales_median    913000 non-null int64\n",
      "dtypes: float64(16), int64(36), object(1)\n",
      "memory usage: 369.2+ MB\n",
      "None\n"
     ]
    }
   ],
   "source": [
    "print(train_data.info())"
   ]
  },
  {
   "cell_type": "markdown",
   "metadata": {},
   "source": [
    "# Baseline Models"
   ]
  },
  {
   "cell_type": "code",
   "execution_count": 10,
   "metadata": {},
   "outputs": [
    {
     "name": "stdout",
     "output_type": "stream",
     "text": [
      "Baseline Model: 0.004694835680751174\n"
     ]
    }
   ],
   "source": [
    "print(\"Baseline Model:\", 1 / len(train_data['sales'].unique().tolist()))"
   ]
  },
  {
   "cell_type": "code",
   "execution_count": 18,
   "metadata": {},
   "outputs": [],
   "source": [
    "import math \n",
    "def SMAPE1(y_true, y_pred):\n",
    "    sum_val = 0 \n",
    "    for t, p in zip(y_true, y_pred):\n",
    "        numerator = math.fabs(p - t)\n",
    "        denominator = (math.fabs(t) + math.fabs(p)) / 2\n",
    "        if denominator == 0:\n",
    "            denominator = 0.0001\n",
    "        val = numerator / denominator\n",
    "        sum_val += val \n",
    "    \n",
    "    return (sum_val / len(y_true)) * 100 \n",
    "\n",
    "def SMAPE2(y_true, y_pred):\n",
    "    sum_val = 0 \n",
    "    for t, p in zip(y_true, y_pred):\n",
    "        numerator = math.fabs(p - t)\n",
    "        denominator = (math.fabs(t) + math.fabs(p))\n",
    "        if denominator == 0:\n",
    "            denominator = 0.0001\n",
    "        val = numerator / denominator\n",
    "        sum_val += val \n",
    "    \n",
    "    return (sum_val / len(y_true)) * 100 \n",
    "\n",
    "def SMAPE3(y_true, y_pred):\n",
    "    sum_1 = 0\n",
    "    sum_2 = 0\n",
    "    for t, p in zip(y_true, y_pred):\n",
    "        sum_1 += math.fabs(p - t)\n",
    "        sum_2 += (t + p) \n",
    "    if sum_2 == 0:\n",
    "        sum_2 = 0.000001\n",
    "    return (sum_1 / sum_2)"
   ]
  },
  {
   "cell_type": "markdown",
   "metadata": {},
   "source": [
    "# Train Test Split"
   ]
  },
  {
   "cell_type": "code",
   "execution_count": 21,
   "metadata": {},
   "outputs": [],
   "source": [
    "sample_data = train_data"
   ]
  },
  {
   "cell_type": "code",
   "execution_count": 22,
   "metadata": {},
   "outputs": [],
   "source": [
    "target = ['sales']\n",
    "features = np.delete(train_data.columns, [0,1,4])"
   ]
  },
  {
   "cell_type": "code",
   "execution_count": 23,
   "metadata": {},
   "outputs": [],
   "source": [
    "train_X, test_X, train_y, test_y = model_selection.train_test_split(sample_data[features], sample_data[target], random_state=0)\n",
    "train_y = train_y['sales']\n",
    "test_y = test_y['sales']"
   ]
  },
  {
   "cell_type": "code",
   "execution_count": 24,
   "metadata": {},
   "outputs": [],
   "source": [
    "# List of MLA Algorithms\n",
    "MLA = [\n",
    "    # ensemble\n",
    "#     ensemble.AdaBoostClassifier(),\n",
    "#     ensemble.AdaBoostRegressor(),\n",
    "#     ensemble.RandomForestClassifier(), \n",
    "    ensemble.RandomForestRegressor(),\n",
    "#     ensemble.BaggingClassifier(),\n",
    "    ensemble.GradientBoostingRegressor(),\n",
    "    ensemble.ExtraTreesRegressor(),\n",
    "    \n",
    "    #Nearest Neighbor\n",
    "#     neighbors.KNeighborsClassifier(),\n",
    "    \n",
    "    # svm\n",
    "    svm.LinearSVR(), \n",
    "    svm.SVR(), \n",
    "    svm.NuSVR(),\n",
    "    \n",
    "    \n",
    "    # tree\n",
    "#     tree.DecisionTreeClassifier(),\n",
    "    tree.DecisionTreeRegressor(),    \n",
    "]"
   ]
  },
  {
   "cell_type": "code",
   "execution_count": 25,
   "metadata": {},
   "outputs": [],
   "source": [
    "def ml_training(MLA):\n",
    "    pd_dataframe = pd.DataFrame(columns=['Name', 'Train_Score', 'Test_Score', 'SAMPE_Train', 'SAMPE_Test', 'Time', 'Parameters'])\n",
    "    row_number = 0\n",
    "    for alg in MLA:\n",
    "        alg_name = alg.__class__.__name__\n",
    "        print(\"starting:\", alg_name)\n",
    "\n",
    "        start_time = time.time()\n",
    "        alg.fit(train_X, train_y)\n",
    "        end_time = time.time()\n",
    "        time_taken = end_time - start_time\n",
    "\n",
    "        train_score = alg.score(train_X, train_y)\n",
    "        test_score = alg.score(test_X, test_y)\n",
    "        sampe_train = SMAPE1(alg.predict(train_X), train_y)\n",
    "        sampe_test = SMAPE1(alg.predict(test_X), test_y)\n",
    "\n",
    "        # add to pandas dataframe\n",
    "        pd_dataframe.loc[row_number] = [alg_name, train_score, test_score, sampe_train, sampe_test, time_taken, alg.get_params()]\n",
    "        row_number+=1\n",
    "        \n",
    "    pd_dataframe.sort_values(by=['SAMPE_Test'], ascending=False, inplace=True)\n",
    "    print('done')\n",
    "    return pd_dataframe"
   ]
  },
  {
   "cell_type": "code",
   "execution_count": null,
   "metadata": {},
   "outputs": [
    {
     "name": "stdout",
     "output_type": "stream",
     "text": [
      "starting: RandomForestRegressor\n",
      "starting: GradientBoostingRegressor\n",
      "starting: ExtraTreesRegressor\n",
      "starting: LinearSVR\n",
      "starting: SVR\n"
     ]
    }
   ],
   "source": [
    "MLA_Compare = ml_training(MLA)"
   ]
  },
  {
   "cell_type": "code",
   "execution_count": null,
   "metadata": {},
   "outputs": [],
   "source": [
    "MLA_Compare"
   ]
  },
  {
   "cell_type": "code",
   "execution_count": 26,
   "metadata": {},
   "outputs": [
    {
     "name": "stdout",
     "output_type": "stream",
     "text": [
      "0.9759100293146691\n",
      "3.805219587529634\n"
     ]
    }
   ],
   "source": [
    "best_clf = tree.DecisionTreeRegressor()\n",
    "best_clf.fit(train_X, train_y)\n",
    "print(best_clf.score(train_data[features], train_data['sales']))\n",
    "print(SMAPE1(best_clf.predict(train_data[features]), train_data['sales']))"
   ]
  },
  {
   "cell_type": "code",
   "execution_count": 29,
   "metadata": {},
   "outputs": [
    {
     "name": "stdout",
     "output_type": "stream",
     "text": [
      "0.9035019489120373\n",
      "15.220878350118408\n",
      "7.610439175059204\n",
      "0.06389892800151672\n"
     ]
    }
   ],
   "source": [
    "print(best_clf.score(test_X, test_y))\n",
    "print(SMAPE1(best_clf.predict(test_X), test_y))\n",
    "print(SMAPE2(best_clf.predict(test_X), test_y))\n",
    "print(SMAPE3(best_clf.predict(test_X), test_y))"
   ]
  },
  {
   "cell_type": "markdown",
   "metadata": {},
   "source": [
    "# Submission"
   ]
  },
  {
   "cell_type": "code",
   "execution_count": 63,
   "metadata": {},
   "outputs": [],
   "source": [
    "predictions = best_clf.predict(test_data[features])\n",
    "predictions = predictions.astype(int)\n",
    "pandas_id = [i for i in range(len(predictions))]"
   ]
  },
  {
   "cell_type": "code",
   "execution_count": 64,
   "metadata": {},
   "outputs": [
    {
     "name": "stdout",
     "output_type": "stream",
     "text": [
      "[ 5 19 19 ... 30 16 41]\n",
      "45000 45000\n"
     ]
    }
   ],
   "source": [
    "print(predictions)\n",
    "print(f'{len(pandas_id)} {len(predictions)}')"
   ]
  },
  {
   "cell_type": "code",
   "execution_count": 65,
   "metadata": {},
   "outputs": [
    {
     "data": {
      "text/html": [
       "<div>\n",
       "<style scoped>\n",
       "    .dataframe tbody tr th:only-of-type {\n",
       "        vertical-align: middle;\n",
       "    }\n",
       "\n",
       "    .dataframe tbody tr th {\n",
       "        vertical-align: top;\n",
       "    }\n",
       "\n",
       "    .dataframe thead th {\n",
       "        text-align: right;\n",
       "    }\n",
       "</style>\n",
       "<table border=\"1\" class=\"dataframe\">\n",
       "  <thead>\n",
       "    <tr style=\"text-align: right;\">\n",
       "      <th></th>\n",
       "      <th>id</th>\n",
       "      <th>sales</th>\n",
       "    </tr>\n",
       "  </thead>\n",
       "  <tbody>\n",
       "    <tr>\n",
       "      <th>0</th>\n",
       "      <td>0</td>\n",
       "      <td>52</td>\n",
       "    </tr>\n",
       "    <tr>\n",
       "      <th>1</th>\n",
       "      <td>1</td>\n",
       "      <td>52</td>\n",
       "    </tr>\n",
       "    <tr>\n",
       "      <th>2</th>\n",
       "      <td>2</td>\n",
       "      <td>52</td>\n",
       "    </tr>\n",
       "    <tr>\n",
       "      <th>3</th>\n",
       "      <td>3</td>\n",
       "      <td>52</td>\n",
       "    </tr>\n",
       "    <tr>\n",
       "      <th>4</th>\n",
       "      <td>4</td>\n",
       "      <td>52</td>\n",
       "    </tr>\n",
       "  </tbody>\n",
       "</table>\n",
       "</div>"
      ],
      "text/plain": [
       "   id  sales\n",
       "0   0     52\n",
       "1   1     52\n",
       "2   2     52\n",
       "3   3     52\n",
       "4   4     52"
      ]
     },
     "execution_count": 65,
     "metadata": {},
     "output_type": "execute_result"
    }
   ],
   "source": [
    "pd.read_csv('./data/sample_submission.csv.zip').head()"
   ]
  },
  {
   "cell_type": "code",
   "execution_count": 66,
   "metadata": {},
   "outputs": [],
   "source": [
    "submission_dataframe = pd.DataFrame({'id':pandas_id, 'sales':predictions})"
   ]
  },
  {
   "cell_type": "code",
   "execution_count": 67,
   "metadata": {},
   "outputs": [
    {
     "data": {
      "text/html": [
       "<div>\n",
       "<style scoped>\n",
       "    .dataframe tbody tr th:only-of-type {\n",
       "        vertical-align: middle;\n",
       "    }\n",
       "\n",
       "    .dataframe tbody tr th {\n",
       "        vertical-align: top;\n",
       "    }\n",
       "\n",
       "    .dataframe thead th {\n",
       "        text-align: right;\n",
       "    }\n",
       "</style>\n",
       "<table border=\"1\" class=\"dataframe\">\n",
       "  <thead>\n",
       "    <tr style=\"text-align: right;\">\n",
       "      <th></th>\n",
       "      <th>id</th>\n",
       "      <th>sales</th>\n",
       "    </tr>\n",
       "  </thead>\n",
       "  <tbody>\n",
       "    <tr>\n",
       "      <th>44995</th>\n",
       "      <td>44995</td>\n",
       "      <td>26</td>\n",
       "    </tr>\n",
       "    <tr>\n",
       "      <th>44996</th>\n",
       "      <td>44996</td>\n",
       "      <td>24</td>\n",
       "    </tr>\n",
       "    <tr>\n",
       "      <th>44997</th>\n",
       "      <td>44997</td>\n",
       "      <td>30</td>\n",
       "    </tr>\n",
       "    <tr>\n",
       "      <th>44998</th>\n",
       "      <td>44998</td>\n",
       "      <td>16</td>\n",
       "    </tr>\n",
       "    <tr>\n",
       "      <th>44999</th>\n",
       "      <td>44999</td>\n",
       "      <td>41</td>\n",
       "    </tr>\n",
       "  </tbody>\n",
       "</table>\n",
       "</div>"
      ],
      "text/plain": [
       "          id  sales\n",
       "44995  44995     26\n",
       "44996  44996     24\n",
       "44997  44997     30\n",
       "44998  44998     16\n",
       "44999  44999     41"
      ]
     },
     "execution_count": 67,
     "metadata": {},
     "output_type": "execute_result"
    }
   ],
   "source": [
    "submission_dataframe.tail()"
   ]
  },
  {
   "cell_type": "code",
   "execution_count": 68,
   "metadata": {},
   "outputs": [],
   "source": [
    "submission_dataframe.to_csv('./data/sumbission.csv', index=False)"
   ]
  }
 ],
 "metadata": {
  "kernelspec": {
   "display_name": "Python 3",
   "language": "python",
   "name": "python3"
  },
  "language_info": {
   "codemirror_mode": {
    "name": "ipython",
    "version": 3
   },
   "file_extension": ".py",
   "mimetype": "text/x-python",
   "name": "python",
   "nbconvert_exporter": "python",
   "pygments_lexer": "ipython3",
   "version": "3.6.2rc1"
  }
 },
 "nbformat": 4,
 "nbformat_minor": 2
}
