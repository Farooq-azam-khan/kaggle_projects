{
 "cells": [
  {
   "cell_type": "code",
   "execution_count": 3,
   "metadata": {},
   "outputs": [
    {
     "ename": "ModuleNotFoundError",
     "evalue": "No module named 'sklearn'",
     "output_type": "error",
     "traceback": [
      "\u001b[1;31m---------------------------------------------------------------------------\u001b[0m",
      "\u001b[1;31mModuleNotFoundError\u001b[0m                       Traceback (most recent call last)",
      "\u001b[1;32m<ipython-input-3-d7e60e609859>\u001b[0m in \u001b[0;36m<module>\u001b[1;34m()\u001b[0m\n\u001b[1;32m----> 1\u001b[1;33m \u001b[1;32mfrom\u001b[0m \u001b[0msklearn\u001b[0m \u001b[1;32mimport\u001b[0m \u001b[0mmodel_selection\u001b[0m\u001b[1;33m,\u001b[0m \u001b[0mmetrics\u001b[0m\u001b[1;33m\u001b[0m\u001b[0m\n\u001b[0m\u001b[0;32m      2\u001b[0m from sklearn import (svm, \n\u001b[0;32m      3\u001b[0m                      \u001b[0mneighbors\u001b[0m\u001b[1;33m,\u001b[0m\u001b[1;33m\u001b[0m\u001b[0m\n\u001b[0;32m      4\u001b[0m                      \u001b[0mensemble\u001b[0m\u001b[1;33m,\u001b[0m\u001b[1;33m\u001b[0m\u001b[0m\n\u001b[0;32m      5\u001b[0m                     \u001b[0mlinear_model\u001b[0m\u001b[1;33m,\u001b[0m\u001b[1;33m\u001b[0m\u001b[0m\n",
      "\u001b[1;31mModuleNotFoundError\u001b[0m: No module named 'sklearn'"
     ]
    }
   ],
   "source": [
    "from sklearn import model_selection, metrics\n",
    "from sklearn import (svm, \n",
    "                     neighbors, \n",
    "                     ensemble, \n",
    "                    linear_model, \n",
    "                    naive_bayes, \n",
    "                    tree, \n",
    "                    discriminant_analysis)\n",
    "import numpy as np"
   ]
  },
  {
   "cell_type": "code",
   "execution_count": null,
   "metadata": {},
   "outputs": [],
   "source": []
  },
  {
   "cell_type": "code",
   "execution_count": null,
   "metadata": {},
   "outputs": [],
   "source": []
  },
  {
   "cell_type": "code",
   "execution_count": 2,
   "metadata": {},
   "outputs": [
    {
     "ename": "ModuleNotFoundError",
     "evalue": "No module named 'pandas'",
     "output_type": "error",
     "traceback": [
      "\u001b[1;31m---------------------------------------------------------------------------\u001b[0m",
      "\u001b[1;31mModuleNotFoundError\u001b[0m                       Traceback (most recent call last)",
      "\u001b[1;32m<ipython-input-2-7dd3504c366f>\u001b[0m in \u001b[0;36m<module>\u001b[1;34m()\u001b[0m\n\u001b[1;32m----> 1\u001b[1;33m \u001b[1;32mimport\u001b[0m \u001b[0mpandas\u001b[0m \u001b[1;32mas\u001b[0m \u001b[0mpd\u001b[0m\u001b[1;33m\u001b[0m\u001b[0m\n\u001b[0m",
      "\u001b[1;31mModuleNotFoundError\u001b[0m: No module named 'pandas'"
     ]
    }
   ],
   "source": [
    "import pandas as pd"
   ]
  },
  {
   "cell_type": "code",
   "execution_count": 3,
   "metadata": {},
   "outputs": [],
   "source": [
    "import time"
   ]
  },
  {
   "cell_type": "code",
   "execution_count": 4,
   "metadata": {},
   "outputs": [],
   "source": [
    "# train_data = pd.read_csv('./data/preprocessed_train_data.csv')\n",
    "# test_data = pd.read_csv('./data/preprocessed_test_data.csv')\n",
    "df = pd.read_csv('./data/preprocessed_train_test_data.csv', index_col=False)"
   ]
  },
  {
   "cell_type": "code",
   "execution_count": 17,
   "metadata": {},
   "outputs": [
    {
     "name": "stdout",
     "output_type": "stream",
     "text": [
      "train_data (913000, 148)\n",
      "test_data (45000, 148)\n"
     ]
    }
   ],
   "source": [
    "train_data = df.loc[~df['sales'].isna()]\n",
    "print(\"train_data\", train_data.shape)\n",
    "test_data = df.loc[df['sales'].isna()]\n",
    "print(\"test_data\", test_data.shape)"
   ]
  },
  {
   "cell_type": "code",
   "execution_count": 18,
   "metadata": {},
   "outputs": [
    {
     "data": {
      "text/html": [
       "<div>\n",
       "<style scoped>\n",
       "    .dataframe tbody tr th:only-of-type {\n",
       "        vertical-align: middle;\n",
       "    }\n",
       "\n",
       "    .dataframe tbody tr th {\n",
       "        vertical-align: top;\n",
       "    }\n",
       "\n",
       "    .dataframe thead th {\n",
       "        text-align: right;\n",
       "    }\n",
       "</style>\n",
       "<table border=\"1\" class=\"dataframe\">\n",
       "  <thead>\n",
       "    <tr style=\"text-align: right;\">\n",
       "      <th></th>\n",
       "      <th>Unnamed: 0</th>\n",
       "      <th>date</th>\n",
       "      <th>store</th>\n",
       "      <th>item</th>\n",
       "      <th>sales</th>\n",
       "      <th>id</th>\n",
       "      <th>month</th>\n",
       "      <th>weekday</th>\n",
       "      <th>year</th>\n",
       "      <th>week_of_year</th>\n",
       "      <th>...</th>\n",
       "      <th>store_item_day_weekday_sales_sales_mean</th>\n",
       "      <th>store_item_day_dayofyear_sales_sum</th>\n",
       "      <th>store_item_day_dayofyear_sales_median</th>\n",
       "      <th>store_item_day_dayofyear_sales_mean</th>\n",
       "      <th>store_item_day_weekofyear_sales_sum</th>\n",
       "      <th>store_item_day_weekofyear_sales_median</th>\n",
       "      <th>store_item_day_weekofyear_sales_mean</th>\n",
       "      <th>store_item_year_month_day_weekofyear_dayofyear_weekday_sales_sum</th>\n",
       "      <th>store_item_year_month_day_weekofyear_dayofyear_weekday_sales_median</th>\n",
       "      <th>store_item_year_month_day_weekofyear_dayofyear_weekday_sales_mean</th>\n",
       "    </tr>\n",
       "  </thead>\n",
       "  <tbody>\n",
       "    <tr>\n",
       "      <th>0</th>\n",
       "      <td>0</td>\n",
       "      <td>2013-01-01</td>\n",
       "      <td>1</td>\n",
       "      <td>1</td>\n",
       "      <td>13.0</td>\n",
       "      <td>NaN</td>\n",
       "      <td>1</td>\n",
       "      <td>1</td>\n",
       "      <td>2013</td>\n",
       "      <td>1</td>\n",
       "      <td>...</td>\n",
       "      <td>17.333333</td>\n",
       "      <td>73.0</td>\n",
       "      <td>13.0</td>\n",
       "      <td>14.6</td>\n",
       "      <td>33.0</td>\n",
       "      <td>11.0</td>\n",
       "      <td>11.00</td>\n",
       "      <td>13.0</td>\n",
       "      <td>13.0</td>\n",
       "      <td>13.0</td>\n",
       "    </tr>\n",
       "    <tr>\n",
       "      <th>1</th>\n",
       "      <td>1</td>\n",
       "      <td>2013-01-02</td>\n",
       "      <td>1</td>\n",
       "      <td>1</td>\n",
       "      <td>11.0</td>\n",
       "      <td>NaN</td>\n",
       "      <td>1</td>\n",
       "      <td>2</td>\n",
       "      <td>2013</td>\n",
       "      <td>1</td>\n",
       "      <td>...</td>\n",
       "      <td>16.666667</td>\n",
       "      <td>72.0</td>\n",
       "      <td>14.0</td>\n",
       "      <td>14.4</td>\n",
       "      <td>59.0</td>\n",
       "      <td>14.5</td>\n",
       "      <td>14.75</td>\n",
       "      <td>11.0</td>\n",
       "      <td>11.0</td>\n",
       "      <td>11.0</td>\n",
       "    </tr>\n",
       "    <tr>\n",
       "      <th>2</th>\n",
       "      <td>2</td>\n",
       "      <td>2013-01-03</td>\n",
       "      <td>1</td>\n",
       "      <td>1</td>\n",
       "      <td>14.0</td>\n",
       "      <td>NaN</td>\n",
       "      <td>1</td>\n",
       "      <td>3</td>\n",
       "      <td>2013</td>\n",
       "      <td>1</td>\n",
       "      <td>...</td>\n",
       "      <td>18.555556</td>\n",
       "      <td>63.0</td>\n",
       "      <td>12.0</td>\n",
       "      <td>12.6</td>\n",
       "      <td>51.0</td>\n",
       "      <td>12.5</td>\n",
       "      <td>12.75</td>\n",
       "      <td>14.0</td>\n",
       "      <td>14.0</td>\n",
       "      <td>14.0</td>\n",
       "    </tr>\n",
       "    <tr>\n",
       "      <th>3</th>\n",
       "      <td>3</td>\n",
       "      <td>2013-01-04</td>\n",
       "      <td>1</td>\n",
       "      <td>1</td>\n",
       "      <td>13.0</td>\n",
       "      <td>NaN</td>\n",
       "      <td>1</td>\n",
       "      <td>4</td>\n",
       "      <td>2013</td>\n",
       "      <td>1</td>\n",
       "      <td>...</td>\n",
       "      <td>20.222222</td>\n",
       "      <td>75.0</td>\n",
       "      <td>14.0</td>\n",
       "      <td>15.0</td>\n",
       "      <td>75.0</td>\n",
       "      <td>14.0</td>\n",
       "      <td>15.00</td>\n",
       "      <td>13.0</td>\n",
       "      <td>13.0</td>\n",
       "      <td>13.0</td>\n",
       "    </tr>\n",
       "    <tr>\n",
       "      <th>4</th>\n",
       "      <td>4</td>\n",
       "      <td>2013-01-05</td>\n",
       "      <td>1</td>\n",
       "      <td>1</td>\n",
       "      <td>10.0</td>\n",
       "      <td>NaN</td>\n",
       "      <td>1</td>\n",
       "      <td>5</td>\n",
       "      <td>2013</td>\n",
       "      <td>1</td>\n",
       "      <td>...</td>\n",
       "      <td>21.888889</td>\n",
       "      <td>67.0</td>\n",
       "      <td>14.0</td>\n",
       "      <td>13.4</td>\n",
       "      <td>53.0</td>\n",
       "      <td>13.0</td>\n",
       "      <td>13.25</td>\n",
       "      <td>10.0</td>\n",
       "      <td>10.0</td>\n",
       "      <td>10.0</td>\n",
       "    </tr>\n",
       "  </tbody>\n",
       "</table>\n",
       "<p>5 rows × 148 columns</p>\n",
       "</div>"
      ],
      "text/plain": [
       "   Unnamed: 0        date  store  item  sales  id  month  weekday  year  \\\n",
       "0           0  2013-01-01      1     1   13.0 NaN      1        1  2013   \n",
       "1           1  2013-01-02      1     1   11.0 NaN      1        2  2013   \n",
       "2           2  2013-01-03      1     1   14.0 NaN      1        3  2013   \n",
       "3           3  2013-01-04      1     1   13.0 NaN      1        4  2013   \n",
       "4           4  2013-01-05      1     1   10.0 NaN      1        5  2013   \n",
       "\n",
       "   week_of_year  \\\n",
       "0             1   \n",
       "1             1   \n",
       "2             1   \n",
       "3             1   \n",
       "4             1   \n",
       "\n",
       "                                 ...                                  \\\n",
       "0                                ...                                   \n",
       "1                                ...                                   \n",
       "2                                ...                                   \n",
       "3                                ...                                   \n",
       "4                                ...                                   \n",
       "\n",
       "   store_item_day_weekday_sales_sales_mean  \\\n",
       "0                                17.333333   \n",
       "1                                16.666667   \n",
       "2                                18.555556   \n",
       "3                                20.222222   \n",
       "4                                21.888889   \n",
       "\n",
       "   store_item_day_dayofyear_sales_sum  store_item_day_dayofyear_sales_median  \\\n",
       "0                                73.0                                   13.0   \n",
       "1                                72.0                                   14.0   \n",
       "2                                63.0                                   12.0   \n",
       "3                                75.0                                   14.0   \n",
       "4                                67.0                                   14.0   \n",
       "\n",
       "   store_item_day_dayofyear_sales_mean  store_item_day_weekofyear_sales_sum  \\\n",
       "0                                 14.6                                 33.0   \n",
       "1                                 14.4                                 59.0   \n",
       "2                                 12.6                                 51.0   \n",
       "3                                 15.0                                 75.0   \n",
       "4                                 13.4                                 53.0   \n",
       "\n",
       "   store_item_day_weekofyear_sales_median  \\\n",
       "0                                    11.0   \n",
       "1                                    14.5   \n",
       "2                                    12.5   \n",
       "3                                    14.0   \n",
       "4                                    13.0   \n",
       "\n",
       "   store_item_day_weekofyear_sales_mean  \\\n",
       "0                                 11.00   \n",
       "1                                 14.75   \n",
       "2                                 12.75   \n",
       "3                                 15.00   \n",
       "4                                 13.25   \n",
       "\n",
       "   store_item_year_month_day_weekofyear_dayofyear_weekday_sales_sum  \\\n",
       "0                                               13.0                  \n",
       "1                                               11.0                  \n",
       "2                                               14.0                  \n",
       "3                                               13.0                  \n",
       "4                                               10.0                  \n",
       "\n",
       "   store_item_year_month_day_weekofyear_dayofyear_weekday_sales_median  \\\n",
       "0                                               13.0                     \n",
       "1                                               11.0                     \n",
       "2                                               14.0                     \n",
       "3                                               13.0                     \n",
       "4                                               10.0                     \n",
       "\n",
       "   store_item_year_month_day_weekofyear_dayofyear_weekday_sales_mean  \n",
       "0                                               13.0                  \n",
       "1                                               11.0                  \n",
       "2                                               14.0                  \n",
       "3                                               13.0                  \n",
       "4                                               10.0                  \n",
       "\n",
       "[5 rows x 148 columns]"
      ]
     },
     "execution_count": 18,
     "metadata": {},
     "output_type": "execute_result"
    }
   ],
   "source": [
    "train_data.head()"
   ]
  },
  {
   "cell_type": "markdown",
   "metadata": {},
   "source": [
    "# Baseline Models"
   ]
  },
  {
   "cell_type": "code",
   "execution_count": 8,
   "metadata": {},
   "outputs": [
    {
     "name": "stdout",
     "output_type": "stream",
     "text": [
      "Baseline Model: 0.4694835680751174 %\n"
     ]
    }
   ],
   "source": [
    "print(\"Baseline Model:\", 100 / len(train_data['sales'].unique().tolist()), '%')"
   ]
  },
  {
   "cell_type": "code",
   "execution_count": 9,
   "metadata": {},
   "outputs": [],
   "source": [
    "import math \n",
    "def SMAPE1(y_true, y_pred):\n",
    "    sum_val = 0 \n",
    "    for t, p in zip(y_true, y_pred):\n",
    "        numerator = math.fabs(p - t)\n",
    "        denominator = (math.fabs(t) + math.fabs(p)) / 2\n",
    "        if denominator == 0:\n",
    "            denominator = 0.0001\n",
    "        val = numerator / denominator\n",
    "        sum_val += val \n",
    "    \n",
    "    return (sum_val / len(y_true)) * 100 \n",
    "\n",
    "def SMAPE2(y_true, y_pred):\n",
    "    sum_val = 0 \n",
    "    for t, p in zip(y_true, y_pred):\n",
    "        numerator = math.fabs(p - t)\n",
    "        denominator = (math.fabs(t) + math.fabs(p))\n",
    "        if denominator == 0:\n",
    "            denominator = 0.0001\n",
    "        val = numerator / denominator\n",
    "        sum_val += val \n",
    "    \n",
    "    return (sum_val / len(y_true)) * 100 \n",
    "\n",
    "def SMAPE3(y_true, y_pred):\n",
    "    sum_1 = 0\n",
    "    sum_2 = 0\n",
    "    for t, p in zip(y_true, y_pred):\n",
    "        sum_1 += math.fabs(p - t)\n",
    "        sum_2 += (t + p) \n",
    "    if sum_2 == 0:\n",
    "        sum_2 = 0.000001\n",
    "    return (sum_1 / sum_2)"
   ]
  },
  {
   "cell_type": "markdown",
   "metadata": {},
   "source": [
    "# Train Test Split"
   ]
  },
  {
   "cell_type": "code",
   "execution_count": 10,
   "metadata": {},
   "outputs": [],
   "source": [
    "sample_data = train_data.sample(10000)"
   ]
  },
  {
   "cell_type": "code",
   "execution_count": 19,
   "metadata": {},
   "outputs": [
    {
     "data": {
      "text/plain": [
       "Index(['Unnamed: 0', 'date', 'store', 'item', 'sales', 'id', 'month',\n",
       "       'weekday', 'year', 'week_of_year',\n",
       "       ...\n",
       "       'store_item_day_weekday_sales_sales_mean',\n",
       "       'store_item_day_dayofyear_sales_sum',\n",
       "       'store_item_day_dayofyear_sales_median',\n",
       "       'store_item_day_dayofyear_sales_mean',\n",
       "       'store_item_day_weekofyear_sales_sum',\n",
       "       'store_item_day_weekofyear_sales_median',\n",
       "       'store_item_day_weekofyear_sales_mean',\n",
       "       'store_item_year_month_day_weekofyear_dayofyear_weekday_sales_sum',\n",
       "       'store_item_year_month_day_weekofyear_dayofyear_weekday_sales_median',\n",
       "       'store_item_year_month_day_weekofyear_dayofyear_weekday_sales_mean'],\n",
       "      dtype='object', length=148)"
      ]
     },
     "execution_count": 19,
     "metadata": {},
     "output_type": "execute_result"
    }
   ],
   "source": [
    "train_data.columns"
   ]
  },
  {
   "cell_type": "code",
   "execution_count": 20,
   "metadata": {},
   "outputs": [],
   "source": [
    "target = ['sales']\n",
    "features = np.delete(train_data.columns, [0,1,4, 5])"
   ]
  },
  {
   "cell_type": "code",
   "execution_count": 21,
   "metadata": {},
   "outputs": [],
   "source": [
    "train_X, test_X, train_y, test_y = model_selection.train_test_split(sample_data[features], sample_data[target], random_state=0)\n",
    "train_y = train_y['sales']\n",
    "test_y = test_y['sales']"
   ]
  },
  {
   "cell_type": "code",
   "execution_count": 22,
   "metadata": {},
   "outputs": [],
   "source": [
    "# List of MLA Algorithms\n",
    "MLA = [\n",
    "    # ensemble\n",
    "#     ensemble.AdaBoostClassifier(),\n",
    "#     ensemble.AdaBoostRegressor(),\n",
    "#     ensemble.RandomForestClassifier(), \n",
    "    ensemble.RandomForestRegressor(),\n",
    "#     ensemble.BaggingClassifier(),\n",
    "    ensemble.GradientBoostingRegressor(),\n",
    "    ensemble.ExtraTreesRegressor(),\n",
    "    \n",
    "    #Nearest Neighbor\n",
    "#     neighbors.KNeighborsClassifier(),\n",
    "    \n",
    "    # svm\n",
    "    svm.LinearSVR(), \n",
    "    svm.SVR(), \n",
    "    svm.NuSVR(),\n",
    "    \n",
    "    \n",
    "    # tree\n",
    "#     tree.DecisionTreeClassifier(),\n",
    "    tree.DecisionTreeRegressor(),    \n",
    "]"
   ]
  },
  {
   "cell_type": "code",
   "execution_count": 23,
   "metadata": {},
   "outputs": [],
   "source": [
    "def ml_training(MLA):\n",
    "    pd_dataframe = pd.DataFrame(columns=['Name', 'Train_Score', 'Test_Score', 'SAMPE_Train', 'SAMPE_Test', 'Time', 'Parameters'])\n",
    "    row_number = 0\n",
    "    for alg in MLA:\n",
    "        alg_name = alg.__class__.__name__\n",
    "        print(\"starting:\", alg_name)\n",
    "\n",
    "        start_time = time.time()\n",
    "        alg.fit(train_X, train_y)\n",
    "        end_time = time.time()\n",
    "        time_taken = end_time - start_time\n",
    "\n",
    "        train_score = alg.score(train_X, train_y)\n",
    "        test_score = alg.score(test_X, test_y)\n",
    "        sampe_train = SMAPE1(alg.predict(train_X), train_y)\n",
    "        sampe_test = SMAPE1(alg.predict(test_X), test_y)\n",
    "\n",
    "        # add to pandas dataframe\n",
    "        pd_dataframe.loc[row_number] = [alg_name, train_score, test_score, sampe_train, sampe_test, time_taken, alg.get_params()]\n",
    "        row_number+=1\n",
    "        \n",
    "    pd_dataframe.sort_values(by=['SAMPE_Test'], ascending=False, inplace=True)\n",
    "    print('done')\n",
    "    return pd_dataframe"
   ]
  },
  {
   "cell_type": "code",
   "execution_count": 24,
   "metadata": {},
   "outputs": [
    {
     "name": "stdout",
     "output_type": "stream",
     "text": [
      "starting: RandomForestRegressor\n",
      "starting: GradientBoostingRegressor\n",
      "starting: ExtraTreesRegressor\n",
      "starting: LinearSVR\n",
      "starting: SVR\n",
      "starting: NuSVR\n",
      "starting: DecisionTreeRegressor\n",
      "done\n"
     ]
    }
   ],
   "source": [
    "MLA_Compare = ml_training(MLA)"
   ]
  },
  {
   "cell_type": "code",
   "execution_count": null,
   "metadata": {},
   "outputs": [
    {
     "data": {
      "text/html": [
       "<div>\n",
       "<style scoped>\n",
       "    .dataframe tbody tr th:only-of-type {\n",
       "        vertical-align: middle;\n",
       "    }\n",
       "\n",
       "    .dataframe tbody tr th {\n",
       "        vertical-align: top;\n",
       "    }\n",
       "\n",
       "    .dataframe thead th {\n",
       "        text-align: right;\n",
       "    }\n",
       "</style>\n",
       "<table border=\"1\" class=\"dataframe\">\n",
       "  <thead>\n",
       "    <tr style=\"text-align: right;\">\n",
       "      <th></th>\n",
       "      <th>Name</th>\n",
       "      <th>Train_Score</th>\n",
       "      <th>Test_Score</th>\n",
       "      <th>SAMPE_Train</th>\n",
       "      <th>SAMPE_Test</th>\n",
       "      <th>Time</th>\n",
       "      <th>Parameters</th>\n",
       "    </tr>\n",
       "  </thead>\n",
       "  <tbody>\n",
       "    <tr>\n",
       "      <th>5</th>\n",
       "      <td>NuSVR</td>\n",
       "      <td>0.034203</td>\n",
       "      <td>-0.012022</td>\n",
       "      <td>45.021207</td>\n",
       "      <td>45.435170</td>\n",
       "      <td>10.948712</td>\n",
       "      <td>{'C': 1.0, 'cache_size': 200, 'coef0': 0.0, 'd...</td>\n",
       "    </tr>\n",
       "    <tr>\n",
       "      <th>4</th>\n",
       "      <td>SVR</td>\n",
       "      <td>0.020049</td>\n",
       "      <td>-0.040736</td>\n",
       "      <td>43.873103</td>\n",
       "      <td>45.403585</td>\n",
       "      <td>14.631797</td>\n",
       "      <td>{'C': 1.0, 'cache_size': 200, 'coef0': 0.0, 'd...</td>\n",
       "    </tr>\n",
       "    <tr>\n",
       "      <th>3</th>\n",
       "      <td>LinearSVR</td>\n",
       "      <td>0.854623</td>\n",
       "      <td>0.850293</td>\n",
       "      <td>18.628471</td>\n",
       "      <td>18.342273</td>\n",
       "      <td>3.261643</td>\n",
       "      <td>{'C': 1.0, 'dual': True, 'epsilon': 0.0, 'fit_...</td>\n",
       "    </tr>\n",
       "    <tr>\n",
       "      <th>1</th>\n",
       "      <td>GradientBoostingRegressor</td>\n",
       "      <td>0.999975</td>\n",
       "      <td>0.999956</td>\n",
       "      <td>0.148332</td>\n",
       "      <td>0.155181</td>\n",
       "      <td>6.124994</td>\n",
       "      <td>{'alpha': 0.9, 'criterion': 'friedman_mse', 'i...</td>\n",
       "    </tr>\n",
       "    <tr>\n",
       "      <th>0</th>\n",
       "      <td>RandomForestRegressor</td>\n",
       "      <td>0.999981</td>\n",
       "      <td>0.999995</td>\n",
       "      <td>0.010588</td>\n",
       "      <td>0.012108</td>\n",
       "      <td>3.627799</td>\n",
       "      <td>{'bootstrap': True, 'criterion': 'mse', 'max_d...</td>\n",
       "    </tr>\n",
       "    <tr>\n",
       "      <th>2</th>\n",
       "      <td>ExtraTreesRegressor</td>\n",
       "      <td>1.000000</td>\n",
       "      <td>0.999982</td>\n",
       "      <td>0.000000</td>\n",
       "      <td>0.010774</td>\n",
       "      <td>0.848513</td>\n",
       "      <td>{'bootstrap': False, 'criterion': 'mse', 'max_...</td>\n",
       "    </tr>\n",
       "    <tr>\n",
       "      <th>6</th>\n",
       "      <td>DecisionTreeRegressor</td>\n",
       "      <td>1.000000</td>\n",
       "      <td>0.999987</td>\n",
       "      <td>0.000000</td>\n",
       "      <td>0.003430</td>\n",
       "      <td>0.661627</td>\n",
       "      <td>{'criterion': 'mse', 'max_depth': None, 'max_f...</td>\n",
       "    </tr>\n",
       "  </tbody>\n",
       "</table>\n",
       "</div>"
      ],
      "text/plain": [
       "                        Name  Train_Score  Test_Score  SAMPE_Train  \\\n",
       "5                      NuSVR     0.034203   -0.012022    45.021207   \n",
       "4                        SVR     0.020049   -0.040736    43.873103   \n",
       "3                  LinearSVR     0.854623    0.850293    18.628471   \n",
       "1  GradientBoostingRegressor     0.999975    0.999956     0.148332   \n",
       "0      RandomForestRegressor     0.999981    0.999995     0.010588   \n",
       "2        ExtraTreesRegressor     1.000000    0.999982     0.000000   \n",
       "6      DecisionTreeRegressor     1.000000    0.999987     0.000000   \n",
       "\n",
       "   SAMPE_Test       Time                                         Parameters  \n",
       "5   45.435170  10.948712  {'C': 1.0, 'cache_size': 200, 'coef0': 0.0, 'd...  \n",
       "4   45.403585  14.631797  {'C': 1.0, 'cache_size': 200, 'coef0': 0.0, 'd...  \n",
       "3   18.342273   3.261643  {'C': 1.0, 'dual': True, 'epsilon': 0.0, 'fit_...  \n",
       "1    0.155181   6.124994  {'alpha': 0.9, 'criterion': 'friedman_mse', 'i...  \n",
       "0    0.012108   3.627799  {'bootstrap': True, 'criterion': 'mse', 'max_d...  \n",
       "2    0.010774   0.848513  {'bootstrap': False, 'criterion': 'mse', 'max_...  \n",
       "6    0.003430   0.661627  {'criterion': 'mse', 'max_depth': None, 'max_f...  "
      ]
     },
     "execution_count": 25,
     "metadata": {},
     "output_type": "execute_result"
    }
   ],
   "source": [
    "MLA_Compare"
   ]
  },
  {
   "cell_type": "code",
   "execution_count": 26,
   "metadata": {},
   "outputs": [
    {
     "name": "stdout",
     "output_type": "stream",
     "text": [
      "0.9759100293146691\n",
      "3.805219587529634\n"
     ]
    }
   ],
   "source": [
    "best_clf = tree.DecisionTreeRegressor()\n",
    "best_clf.fit(train_X, train_y)\n",
    "print(best_clf.score(train_data[features], train_data['sales']))\n",
    "print(SMAPE1(best_clf.predict(train_data[features]), train_data['sales']))"
   ]
  },
  {
   "cell_type": "code",
   "execution_count": 29,
   "metadata": {},
   "outputs": [
    {
     "name": "stdout",
     "output_type": "stream",
     "text": [
      "0.9035019489120373\n",
      "15.220878350118408\n",
      "7.610439175059204\n",
      "0.06389892800151672\n"
     ]
    }
   ],
   "source": [
    "print(best_clf.score(test_X, test_y))\n",
    "print(SMAPE1(best_clf.predict(test_X), test_y))\n",
    "print(SMAPE2(best_clf.predict(test_X), test_y))\n",
    "print(SMAPE3(best_clf.predict(test_X), test_y))"
   ]
  },
  {
   "cell_type": "markdown",
   "metadata": {},
   "source": [
    "# Submission"
   ]
  },
  {
   "cell_type": "code",
   "execution_count": 63,
   "metadata": {},
   "outputs": [],
   "source": [
    "predictions = best_clf.predict(test_data[features])\n",
    "pandas_id = [i for i in range(len(predictions))]"
   ]
  },
  {
   "cell_type": "code",
   "execution_count": 64,
   "metadata": {},
   "outputs": [
    {
     "name": "stdout",
     "output_type": "stream",
     "text": [
      "[ 5 19 19 ... 30 16 41]\n",
      "45000 45000\n"
     ]
    }
   ],
   "source": [
    "print(predictions)\n",
    "print(f'{len(pandas_id)} {len(predictions)}')"
   ]
  },
  {
   "cell_type": "code",
   "execution_count": 65,
   "metadata": {},
   "outputs": [
    {
     "data": {
      "text/html": [
       "<div>\n",
       "<style scoped>\n",
       "    .dataframe tbody tr th:only-of-type {\n",
       "        vertical-align: middle;\n",
       "    }\n",
       "\n",
       "    .dataframe tbody tr th {\n",
       "        vertical-align: top;\n",
       "    }\n",
       "\n",
       "    .dataframe thead th {\n",
       "        text-align: right;\n",
       "    }\n",
       "</style>\n",
       "<table border=\"1\" class=\"dataframe\">\n",
       "  <thead>\n",
       "    <tr style=\"text-align: right;\">\n",
       "      <th></th>\n",
       "      <th>id</th>\n",
       "      <th>sales</th>\n",
       "    </tr>\n",
       "  </thead>\n",
       "  <tbody>\n",
       "    <tr>\n",
       "      <th>0</th>\n",
       "      <td>0</td>\n",
       "      <td>52</td>\n",
       "    </tr>\n",
       "    <tr>\n",
       "      <th>1</th>\n",
       "      <td>1</td>\n",
       "      <td>52</td>\n",
       "    </tr>\n",
       "    <tr>\n",
       "      <th>2</th>\n",
       "      <td>2</td>\n",
       "      <td>52</td>\n",
       "    </tr>\n",
       "    <tr>\n",
       "      <th>3</th>\n",
       "      <td>3</td>\n",
       "      <td>52</td>\n",
       "    </tr>\n",
       "    <tr>\n",
       "      <th>4</th>\n",
       "      <td>4</td>\n",
       "      <td>52</td>\n",
       "    </tr>\n",
       "  </tbody>\n",
       "</table>\n",
       "</div>"
      ],
      "text/plain": [
       "   id  sales\n",
       "0   0     52\n",
       "1   1     52\n",
       "2   2     52\n",
       "3   3     52\n",
       "4   4     52"
      ]
     },
     "execution_count": 65,
     "metadata": {},
     "output_type": "execute_result"
    }
   ],
   "source": [
    "pd.read_csv('./data/sample_submission.csv.zip').head()"
   ]
  },
  {
   "cell_type": "code",
   "execution_count": 66,
   "metadata": {},
   "outputs": [],
   "source": [
    "submission_dataframe = pd.DataFrame({'id':pandas_id, 'sales':predictions})"
   ]
  },
  {
   "cell_type": "code",
   "execution_count": 67,
   "metadata": {},
   "outputs": [
    {
     "data": {
      "text/html": [
       "<div>\n",
       "<style scoped>\n",
       "    .dataframe tbody tr th:only-of-type {\n",
       "        vertical-align: middle;\n",
       "    }\n",
       "\n",
       "    .dataframe tbody tr th {\n",
       "        vertical-align: top;\n",
       "    }\n",
       "\n",
       "    .dataframe thead th {\n",
       "        text-align: right;\n",
       "    }\n",
       "</style>\n",
       "<table border=\"1\" class=\"dataframe\">\n",
       "  <thead>\n",
       "    <tr style=\"text-align: right;\">\n",
       "      <th></th>\n",
       "      <th>id</th>\n",
       "      <th>sales</th>\n",
       "    </tr>\n",
       "  </thead>\n",
       "  <tbody>\n",
       "    <tr>\n",
       "      <th>44995</th>\n",
       "      <td>44995</td>\n",
       "      <td>26</td>\n",
       "    </tr>\n",
       "    <tr>\n",
       "      <th>44996</th>\n",
       "      <td>44996</td>\n",
       "      <td>24</td>\n",
       "    </tr>\n",
       "    <tr>\n",
       "      <th>44997</th>\n",
       "      <td>44997</td>\n",
       "      <td>30</td>\n",
       "    </tr>\n",
       "    <tr>\n",
       "      <th>44998</th>\n",
       "      <td>44998</td>\n",
       "      <td>16</td>\n",
       "    </tr>\n",
       "    <tr>\n",
       "      <th>44999</th>\n",
       "      <td>44999</td>\n",
       "      <td>41</td>\n",
       "    </tr>\n",
       "  </tbody>\n",
       "</table>\n",
       "</div>"
      ],
      "text/plain": [
       "          id  sales\n",
       "44995  44995     26\n",
       "44996  44996     24\n",
       "44997  44997     30\n",
       "44998  44998     16\n",
       "44999  44999     41"
      ]
     },
     "execution_count": 67,
     "metadata": {},
     "output_type": "execute_result"
    }
   ],
   "source": [
    "submission_dataframe.tail()"
   ]
  },
  {
   "cell_type": "code",
   "execution_count": 68,
   "metadata": {},
   "outputs": [],
   "source": [
    "submission_dataframe.to_csv('./data/sumbission.csv', index=False)"
   ]
  }
 ],
 "metadata": {
  "kernelspec": {
   "display_name": "Python 3",
   "language": "python",
   "name": "python3"
  },
  "language_info": {
   "codemirror_mode": {
    "name": "ipython",
    "version": 3
   },
   "file_extension": ".py",
   "mimetype": "text/x-python",
   "name": "python",
   "nbconvert_exporter": "python",
   "pygments_lexer": "ipython3",
   "version": "3.6.6"
  }
 },
 "nbformat": 4,
 "nbformat_minor": 2
}
