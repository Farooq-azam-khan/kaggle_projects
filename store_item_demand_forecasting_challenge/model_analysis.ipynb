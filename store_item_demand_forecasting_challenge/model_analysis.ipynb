{
 "cells": [
  {
   "cell_type": "code",
   "execution_count": 1,
   "metadata": {},
   "outputs": [],
   "source": [
    "from sklearn import model_selection, metrics\n",
    "from sklearn import (svm, \n",
    "                     neighbors, \n",
    "                     ensemble, \n",
    "                    linear_model, \n",
    "                    naive_bayes, \n",
    "                    tree, \n",
    "                    discriminant_analysis)"
   ]
  },
  {
   "cell_type": "code",
   "execution_count": 2,
   "metadata": {},
   "outputs": [],
   "source": [
    "import pandas as pd"
   ]
  },
  {
   "cell_type": "code",
   "execution_count": 3,
   "metadata": {},
   "outputs": [],
   "source": [
    "import time"
   ]
  },
  {
   "cell_type": "code",
   "execution_count": 4,
   "metadata": {},
   "outputs": [],
   "source": [
    "train_data = pd.read_csv('./data/preprocessed_train_data.csv')\n",
    "test_data = pd.read_csv('./data/preprocessed_test_data.csv')"
   ]
  },
  {
   "cell_type": "code",
   "execution_count": 5,
   "metadata": {},
   "outputs": [
    {
     "name": "stdout",
     "output_type": "stream",
     "text": [
      "<class 'pandas.core.frame.DataFrame'>\n",
      "RangeIndex: 913000 entries, 0 to 912999\n",
      "Data columns (total 18 columns):\n",
      "Unnamed: 0                 913000 non-null int64\n",
      "date                       913000 non-null object\n",
      "store                      913000 non-null int64\n",
      "item                       913000 non-null int64\n",
      "sales                      913000 non-null int64\n",
      "Datetime_date              913000 non-null object\n",
      "year                       913000 non-null int64\n",
      "month                      913000 non-null int64\n",
      "day                        913000 non-null int64\n",
      "weekday                    913000 non-null int64\n",
      "week_of_year               913000 non-null int64\n",
      "isWeekend                  913000 non-null int64\n",
      "isHoliday                  913000 non-null int64\n",
      "store_sales_sum            913000 non-null int64\n",
      "store_monthly_sales_sum    913000 non-null int64\n",
      "store_item_sales_sum       913000 non-null int64\n",
      "store_item_sales_median    913000 non-null float64\n",
      "item_sales_sum             913000 non-null int64\n",
      "dtypes: float64(1), int64(15), object(2)\n",
      "memory usage: 125.4+ MB\n",
      "None\n"
     ]
    }
   ],
   "source": [
    "print(train_data.info())"
   ]
  },
  {
   "cell_type": "markdown",
   "metadata": {},
   "source": [
    "# Baseline Models"
   ]
  },
  {
   "cell_type": "code",
   "execution_count": 6,
   "metadata": {},
   "outputs": [
    {
     "name": "stdout",
     "output_type": "stream",
     "text": [
      "Baseline Model: 0.004694835680751174\n"
     ]
    }
   ],
   "source": [
    "print(\"Baseline Model:\", 1 / len(train_data['sales'].unique().tolist()))"
   ]
  },
  {
   "cell_type": "markdown",
   "metadata": {},
   "source": [
    "# Train Test Split"
   ]
  },
  {
   "cell_type": "code",
   "execution_count": 7,
   "metadata": {},
   "outputs": [],
   "source": [
    "sample_data = train_data.sample(20000)"
   ]
  },
  {
   "cell_type": "code",
   "execution_count": 8,
   "metadata": {},
   "outputs": [],
   "source": [
    "target = ['sales']\n",
    "features = ['store', 'item', \n",
    "            'year', 'month', 'day',\n",
    "            'weekday', 'week_of_year','isWeekend', 'isHoliday',\n",
    "            'store_sales_sum', 'store_monthly_sales_sum',\n",
    "            'store_item_sales_sum', 'store_item_sales_median', \n",
    "            'item_sales_sum'\n",
    "           ]"
   ]
  },
  {
   "cell_type": "code",
   "execution_count": 9,
   "metadata": {},
   "outputs": [],
   "source": [
    "train_X, test_X, train_y, test_y = model_selection.train_test_split(sample_data[features], sample_data[target], random_state=0)\n",
    "train_y = train_y['sales']\n",
    "test_y = test_y['sales']"
   ]
  },
  {
   "cell_type": "code",
   "execution_count": 10,
   "metadata": {},
   "outputs": [],
   "source": [
    "# List of MLA Algorithms\n",
    "MLA = [\n",
    "    # ensemble\n",
    "    ensemble.AdaBoostClassifier(),\n",
    "    ensemble.AdaBoostRegressor(),\n",
    "    ensemble.RandomForestClassifier(), \n",
    "    ensemble.RandomForestRegressor(),\n",
    "    ensemble.BaggingClassifier(),\n",
    "    ensemble.GradientBoostingRegressor(),\n",
    "    ensemble.ExtraTreesRegressor(),\n",
    "    \n",
    "    #Nearest Neighbor\n",
    "    neighbors.KNeighborsClassifier(),\n",
    "    \n",
    "    # svm\n",
    "    svm.LinearSVR(), \n",
    "    svm.SVR(), \n",
    "    svm.NuSVR(),\n",
    "    \n",
    "    \n",
    "    # tree\n",
    "    tree.DecisionTreeClassifier(),\n",
    "    tree.DecisionTreeRegressor(),    \n",
    "]"
   ]
  },
  {
   "cell_type": "code",
   "execution_count": 11,
   "metadata": {},
   "outputs": [],
   "source": [
    "def ml_training(MLA):\n",
    "    pd_dataframe = pd.DataFrame(columns=['Name', 'Train_Score', 'Test_Score', 'Time', 'Parameters'])\n",
    "    row_number = 0\n",
    "    for alg in MLA:\n",
    "        alg_name = alg.__class__.__name__\n",
    "        print(\"starting:\", alg_name)\n",
    "\n",
    "        start_time = time.time()\n",
    "        alg.fit(train_X, train_y)\n",
    "        end_time = time.time()\n",
    "        time_taken = end_time - start_time\n",
    "\n",
    "        train_score = alg.score(train_X, train_y)\n",
    "        test_score = alg.score(test_X, test_y)\n",
    "\n",
    "        # add to pandas dataframe\n",
    "        pd_dataframe.loc[row_number] = [alg_name, train_score, test_score, time_taken, alg.get_params()]\n",
    "        row_number+=1\n",
    "        \n",
    "    pd_dataframe.sort_values(by=['Test_Score'], ascending=False, inplace=True)\n",
    "    print('done')\n",
    "    return pd_dataframe"
   ]
  },
  {
   "cell_type": "code",
   "execution_count": 12,
   "metadata": {},
   "outputs": [
    {
     "name": "stdout",
     "output_type": "stream",
     "text": [
      "starting: AdaBoostClassifier\n",
      "starting: AdaBoostRegressor\n",
      "starting: RandomForestClassifier\n",
      "starting: RandomForestRegressor\n",
      "starting: BaggingClassifier\n",
      "starting: GradientBoostingRegressor\n",
      "starting: ExtraTreesRegressor\n",
      "starting: KNeighborsClassifier\n",
      "starting: LinearSVR\n",
      "starting: SVR\n",
      "starting: NuSVR\n",
      "starting: DecisionTreeClassifier\n",
      "starting: DecisionTreeRegressor\n",
      "done\n"
     ]
    }
   ],
   "source": [
    "MLA_Compare = ml_training(MLA)"
   ]
  },
  {
   "cell_type": "code",
   "execution_count": 13,
   "metadata": {},
   "outputs": [
    {
     "data": {
      "text/html": [
       "<div>\n",
       "<style scoped>\n",
       "    .dataframe tbody tr th:only-of-type {\n",
       "        vertical-align: middle;\n",
       "    }\n",
       "\n",
       "    .dataframe tbody tr th {\n",
       "        vertical-align: top;\n",
       "    }\n",
       "\n",
       "    .dataframe thead th {\n",
       "        text-align: right;\n",
       "    }\n",
       "</style>\n",
       "<table border=\"1\" class=\"dataframe\">\n",
       "  <thead>\n",
       "    <tr style=\"text-align: right;\">\n",
       "      <th></th>\n",
       "      <th>Name</th>\n",
       "      <th>Train_Score</th>\n",
       "      <th>Test_Score</th>\n",
       "      <th>Time</th>\n",
       "      <th>Parameters</th>\n",
       "    </tr>\n",
       "  </thead>\n",
       "  <tbody>\n",
       "    <tr>\n",
       "      <th>5</th>\n",
       "      <td>GradientBoostingRegressor</td>\n",
       "      <td>0.938103</td>\n",
       "      <td>0.937171</td>\n",
       "      <td>1.352149</td>\n",
       "      <td>{'alpha': 0.9, 'criterion': 'friedman_mse', 'i...</td>\n",
       "    </tr>\n",
       "    <tr>\n",
       "      <th>3</th>\n",
       "      <td>RandomForestRegressor</td>\n",
       "      <td>0.985322</td>\n",
       "      <td>0.924343</td>\n",
       "      <td>0.943507</td>\n",
       "      <td>{'bootstrap': True, 'criterion': 'mse', 'max_d...</td>\n",
       "    </tr>\n",
       "    <tr>\n",
       "      <th>6</th>\n",
       "      <td>ExtraTreesRegressor</td>\n",
       "      <td>1.000000</td>\n",
       "      <td>0.920069</td>\n",
       "      <td>0.645207</td>\n",
       "      <td>{'bootstrap': False, 'criterion': 'mse', 'max_...</td>\n",
       "    </tr>\n",
       "    <tr>\n",
       "      <th>1</th>\n",
       "      <td>AdaBoostRegressor</td>\n",
       "      <td>0.895708</td>\n",
       "      <td>0.897941</td>\n",
       "      <td>1.286327</td>\n",
       "      <td>{'base_estimator': None, 'learning_rate': 1.0,...</td>\n",
       "    </tr>\n",
       "    <tr>\n",
       "      <th>12</th>\n",
       "      <td>DecisionTreeRegressor</td>\n",
       "      <td>1.000000</td>\n",
       "      <td>0.861496</td>\n",
       "      <td>0.158909</td>\n",
       "      <td>{'criterion': 'mse', 'max_depth': None, 'max_f...</td>\n",
       "    </tr>\n",
       "    <tr>\n",
       "      <th>8</th>\n",
       "      <td>LinearSVR</td>\n",
       "      <td>0.681426</td>\n",
       "      <td>0.698091</td>\n",
       "      <td>2.802752</td>\n",
       "      <td>{'C': 1.0, 'dual': True, 'epsilon': 0.0, 'fit_...</td>\n",
       "    </tr>\n",
       "    <tr>\n",
       "      <th>4</th>\n",
       "      <td>BaggingClassifier</td>\n",
       "      <td>0.990733</td>\n",
       "      <td>0.044600</td>\n",
       "      <td>3.004971</td>\n",
       "      <td>{'base_estimator': None, 'bootstrap': True, 'b...</td>\n",
       "    </tr>\n",
       "    <tr>\n",
       "      <th>11</th>\n",
       "      <td>DecisionTreeClassifier</td>\n",
       "      <td>1.000000</td>\n",
       "      <td>0.043600</td>\n",
       "      <td>0.441736</td>\n",
       "      <td>{'class_weight': None, 'criterion': 'gini', 'm...</td>\n",
       "    </tr>\n",
       "    <tr>\n",
       "      <th>2</th>\n",
       "      <td>RandomForestClassifier</td>\n",
       "      <td>0.988467</td>\n",
       "      <td>0.040200</td>\n",
       "      <td>1.282248</td>\n",
       "      <td>{'bootstrap': True, 'class_weight': None, 'cri...</td>\n",
       "    </tr>\n",
       "    <tr>\n",
       "      <th>0</th>\n",
       "      <td>AdaBoostClassifier</td>\n",
       "      <td>0.036733</td>\n",
       "      <td>0.032200</td>\n",
       "      <td>5.755534</td>\n",
       "      <td>{'algorithm': 'SAMME.R', 'base_estimator': Non...</td>\n",
       "    </tr>\n",
       "    <tr>\n",
       "      <th>7</th>\n",
       "      <td>KNeighborsClassifier</td>\n",
       "      <td>0.255000</td>\n",
       "      <td>0.028000</td>\n",
       "      <td>0.081680</td>\n",
       "      <td>{'algorithm': 'auto', 'leaf_size': 30, 'metric...</td>\n",
       "    </tr>\n",
       "    <tr>\n",
       "      <th>10</th>\n",
       "      <td>NuSVR</td>\n",
       "      <td>0.044759</td>\n",
       "      <td>-0.002266</td>\n",
       "      <td>25.182674</td>\n",
       "      <td>{'C': 1.0, 'cache_size': 200, 'coef0': 0.0, 'd...</td>\n",
       "    </tr>\n",
       "    <tr>\n",
       "      <th>9</th>\n",
       "      <td>SVR</td>\n",
       "      <td>0.031279</td>\n",
       "      <td>-0.030386</td>\n",
       "      <td>24.147083</td>\n",
       "      <td>{'C': 1.0, 'cache_size': 200, 'coef0': 0.0, 'd...</td>\n",
       "    </tr>\n",
       "  </tbody>\n",
       "</table>\n",
       "</div>"
      ],
      "text/plain": [
       "                         Name  Train_Score  Test_Score       Time  \\\n",
       "5   GradientBoostingRegressor     0.938103    0.937171   1.352149   \n",
       "3       RandomForestRegressor     0.985322    0.924343   0.943507   \n",
       "6         ExtraTreesRegressor     1.000000    0.920069   0.645207   \n",
       "1           AdaBoostRegressor     0.895708    0.897941   1.286327   \n",
       "12      DecisionTreeRegressor     1.000000    0.861496   0.158909   \n",
       "8                   LinearSVR     0.681426    0.698091   2.802752   \n",
       "4           BaggingClassifier     0.990733    0.044600   3.004971   \n",
       "11     DecisionTreeClassifier     1.000000    0.043600   0.441736   \n",
       "2      RandomForestClassifier     0.988467    0.040200   1.282248   \n",
       "0          AdaBoostClassifier     0.036733    0.032200   5.755534   \n",
       "7        KNeighborsClassifier     0.255000    0.028000   0.081680   \n",
       "10                      NuSVR     0.044759   -0.002266  25.182674   \n",
       "9                         SVR     0.031279   -0.030386  24.147083   \n",
       "\n",
       "                                           Parameters  \n",
       "5   {'alpha': 0.9, 'criterion': 'friedman_mse', 'i...  \n",
       "3   {'bootstrap': True, 'criterion': 'mse', 'max_d...  \n",
       "6   {'bootstrap': False, 'criterion': 'mse', 'max_...  \n",
       "1   {'base_estimator': None, 'learning_rate': 1.0,...  \n",
       "12  {'criterion': 'mse', 'max_depth': None, 'max_f...  \n",
       "8   {'C': 1.0, 'dual': True, 'epsilon': 0.0, 'fit_...  \n",
       "4   {'base_estimator': None, 'bootstrap': True, 'b...  \n",
       "11  {'class_weight': None, 'criterion': 'gini', 'm...  \n",
       "2   {'bootstrap': True, 'class_weight': None, 'cri...  \n",
       "0   {'algorithm': 'SAMME.R', 'base_estimator': Non...  \n",
       "7   {'algorithm': 'auto', 'leaf_size': 30, 'metric...  \n",
       "10  {'C': 1.0, 'cache_size': 200, 'coef0': 0.0, 'd...  \n",
       "9   {'C': 1.0, 'cache_size': 200, 'coef0': 0.0, 'd...  "
      ]
     },
     "execution_count": 13,
     "metadata": {},
     "output_type": "execute_result"
    }
   ],
   "source": [
    "MLA_Compare"
   ]
  },
  {
   "cell_type": "code",
   "execution_count": 15,
   "metadata": {},
   "outputs": [
    {
     "data": {
      "text/plain": [
       "0.9371618116803591"
      ]
     },
     "execution_count": 15,
     "metadata": {},
     "output_type": "execute_result"
    }
   ],
   "source": [
    "best_clf = ensemble.GradientBoostingRegressor()\n",
    "best_clf.fit(train_X, train_y)\n",
    "best_clf.score(test_X, test_y)"
   ]
  },
  {
   "cell_type": "markdown",
   "metadata": {},
   "source": [
    "# Submission"
   ]
  },
  {
   "cell_type": "code",
   "execution_count": 26,
   "metadata": {},
   "outputs": [],
   "source": [
    "predictions = best_clf.predict(test_data[features])\n",
    "predictions = predictions.astype(int)\n",
    "pandas_id = [i for i in range(len(predictions))]"
   ]
  },
  {
   "cell_type": "code",
   "execution_count": 28,
   "metadata": {},
   "outputs": [
    {
     "name": "stdout",
     "output_type": "stream",
     "text": [
      "[12 15 15 ... 29 31 32]\n",
      "45000 45000\n"
     ]
    }
   ],
   "source": [
    "print(predictions)\n",
    "print(f'{len(pandas_id)} {len(predictions)}')"
   ]
  },
  {
   "cell_type": "code",
   "execution_count": 20,
   "metadata": {},
   "outputs": [
    {
     "data": {
      "text/html": [
       "<div>\n",
       "<style scoped>\n",
       "    .dataframe tbody tr th:only-of-type {\n",
       "        vertical-align: middle;\n",
       "    }\n",
       "\n",
       "    .dataframe tbody tr th {\n",
       "        vertical-align: top;\n",
       "    }\n",
       "\n",
       "    .dataframe thead th {\n",
       "        text-align: right;\n",
       "    }\n",
       "</style>\n",
       "<table border=\"1\" class=\"dataframe\">\n",
       "  <thead>\n",
       "    <tr style=\"text-align: right;\">\n",
       "      <th></th>\n",
       "      <th>id</th>\n",
       "      <th>sales</th>\n",
       "    </tr>\n",
       "  </thead>\n",
       "  <tbody>\n",
       "    <tr>\n",
       "      <th>0</th>\n",
       "      <td>0</td>\n",
       "      <td>52</td>\n",
       "    </tr>\n",
       "    <tr>\n",
       "      <th>1</th>\n",
       "      <td>1</td>\n",
       "      <td>52</td>\n",
       "    </tr>\n",
       "    <tr>\n",
       "      <th>2</th>\n",
       "      <td>2</td>\n",
       "      <td>52</td>\n",
       "    </tr>\n",
       "    <tr>\n",
       "      <th>3</th>\n",
       "      <td>3</td>\n",
       "      <td>52</td>\n",
       "    </tr>\n",
       "    <tr>\n",
       "      <th>4</th>\n",
       "      <td>4</td>\n",
       "      <td>52</td>\n",
       "    </tr>\n",
       "  </tbody>\n",
       "</table>\n",
       "</div>"
      ],
      "text/plain": [
       "   id  sales\n",
       "0   0     52\n",
       "1   1     52\n",
       "2   2     52\n",
       "3   3     52\n",
       "4   4     52"
      ]
     },
     "execution_count": 20,
     "metadata": {},
     "output_type": "execute_result"
    }
   ],
   "source": [
    "pd.read_csv('./data/sample_submission.csv.zip').head()"
   ]
  },
  {
   "cell_type": "code",
   "execution_count": 29,
   "metadata": {},
   "outputs": [],
   "source": [
    "submission_dataframe = pd.DataFrame({'id':pandas_id, 'sales':predictions})"
   ]
  },
  {
   "cell_type": "code",
   "execution_count": 32,
   "metadata": {},
   "outputs": [
    {
     "data": {
      "text/html": [
       "<div>\n",
       "<style scoped>\n",
       "    .dataframe tbody tr th:only-of-type {\n",
       "        vertical-align: middle;\n",
       "    }\n",
       "\n",
       "    .dataframe tbody tr th {\n",
       "        vertical-align: top;\n",
       "    }\n",
       "\n",
       "    .dataframe thead th {\n",
       "        text-align: right;\n",
       "    }\n",
       "</style>\n",
       "<table border=\"1\" class=\"dataframe\">\n",
       "  <thead>\n",
       "    <tr style=\"text-align: right;\">\n",
       "      <th></th>\n",
       "      <th>id</th>\n",
       "      <th>sales</th>\n",
       "    </tr>\n",
       "  </thead>\n",
       "  <tbody>\n",
       "    <tr>\n",
       "      <th>44995</th>\n",
       "      <td>44995</td>\n",
       "      <td>27</td>\n",
       "    </tr>\n",
       "    <tr>\n",
       "      <th>44996</th>\n",
       "      <td>44996</td>\n",
       "      <td>27</td>\n",
       "    </tr>\n",
       "    <tr>\n",
       "      <th>44997</th>\n",
       "      <td>44997</td>\n",
       "      <td>29</td>\n",
       "    </tr>\n",
       "    <tr>\n",
       "      <th>44998</th>\n",
       "      <td>44998</td>\n",
       "      <td>31</td>\n",
       "    </tr>\n",
       "    <tr>\n",
       "      <th>44999</th>\n",
       "      <td>44999</td>\n",
       "      <td>32</td>\n",
       "    </tr>\n",
       "  </tbody>\n",
       "</table>\n",
       "</div>"
      ],
      "text/plain": [
       "          id  sales\n",
       "44995  44995     27\n",
       "44996  44996     27\n",
       "44997  44997     29\n",
       "44998  44998     31\n",
       "44999  44999     32"
      ]
     },
     "execution_count": 32,
     "metadata": {},
     "output_type": "execute_result"
    }
   ],
   "source": [
    "submission_dataframe.tail()"
   ]
  },
  {
   "cell_type": "code",
   "execution_count": 34,
   "metadata": {},
   "outputs": [],
   "source": [
    "submission_dataframe.to_csv('./data/sumbission.csv')"
   ]
  }
 ],
 "metadata": {
  "kernelspec": {
   "display_name": "Python 3",
   "language": "python",
   "name": "python3"
  },
  "language_info": {
   "codemirror_mode": {
    "name": "ipython",
    "version": 3
   },
   "file_extension": ".py",
   "mimetype": "text/x-python",
   "name": "python",
   "nbconvert_exporter": "python",
   "pygments_lexer": "ipython3",
   "version": "3.6.2rc1"
  }
 },
 "nbformat": 4,
 "nbformat_minor": 2
}
