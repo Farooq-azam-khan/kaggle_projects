{
 "cells": [
  {
   "cell_type": "code",
   "execution_count": 1,
   "metadata": {},
   "outputs": [],
   "source": [
    "import pandas as pd\n",
    "import numpy as np\n",
    "import datetime"
   ]
  },
  {
   "cell_type": "code",
   "execution_count": 2,
   "metadata": {},
   "outputs": [],
   "source": [
    "import matplotlib.pyplot as plt\n",
    "%matplotlib inline \n",
    "\n",
    "import seaborn as sns"
   ]
  },
  {
   "cell_type": "code",
   "execution_count": 3,
   "metadata": {},
   "outputs": [],
   "source": [
    "train_data = pd.read_csv('./data/train.csv.zip')"
   ]
  },
  {
   "cell_type": "code",
   "execution_count": 4,
   "metadata": {},
   "outputs": [
    {
     "name": "stdout",
     "output_type": "stream",
     "text": [
      "              date  store  item  sales\n",
      "912995  2017-12-27     10    50     63\n",
      "912996  2017-12-28     10    50     59\n",
      "912997  2017-12-29     10    50     74\n",
      "912998  2017-12-30     10    50     62\n",
      "912999  2017-12-31     10    50     82\n"
     ]
    }
   ],
   "source": [
    "print(train_data.tail())"
   ]
  },
  {
   "cell_type": "code",
   "execution_count": 5,
   "metadata": {},
   "outputs": [],
   "source": [
    "data = train_data.copy(deep=True)"
   ]
  },
  {
   "cell_type": "code",
   "execution_count": 6,
   "metadata": {},
   "outputs": [],
   "source": [
    "data['Datetime_date'] = data['date'].map(lambda x: datetime.datetime.strptime(x, '%Y-%m-%d'))"
   ]
  },
  {
   "cell_type": "code",
   "execution_count": 7,
   "metadata": {},
   "outputs": [],
   "source": [
    "data['year'] = data['Datetime_date'].map(lambda x: x.year)\n",
    "data['month'] = data['Datetime_date'].map(lambda x: x.month)\n",
    "data['day'] = data['Datetime_date'].map(lambda x: x.day)"
   ]
  },
  {
   "cell_type": "code",
   "execution_count": 8,
   "metadata": {},
   "outputs": [
    {
     "name": "stdout",
     "output_type": "stream",
     "text": [
      "[1, 2, 3, 4, 5, 6, 7, 8, 9, 10]\n"
     ]
    }
   ],
   "source": [
    "print(data['store'].unique().tolist())"
   ]
  },
  {
   "cell_type": "code",
   "execution_count": 9,
   "metadata": {},
   "outputs": [
    {
     "name": "stdout",
     "output_type": "stream",
     "text": [
      "[1, 2, 3, 4, 5, 6, 7, 8, 9, 10, 11, 12, 13, 14, 15, 16, 17, 18, 19, 20, 21, 22, 23, 24, 25, 26, 27, 28, 29, 30, 31, 32, 33, 34, 35, 36, 37, 38, 39, 40, 41, 42, 43, 44, 45, 46, 47, 48, 49, 50]\n"
     ]
    }
   ],
   "source": [
    "print(data['item'].unique().tolist())"
   ]
  },
  {
   "cell_type": "code",
   "execution_count": 11,
   "metadata": {},
   "outputs": [
    {
     "name": "stdout",
     "output_type": "stream",
     "text": [
      "[ 13  11  14  10  12   9   7   5  16  18  15   8   6  21  20  17  22  19\n",
      "  24  23  26  25  27  38  34  29  31  30   4  36  28  33  32  37  35  43\n",
      "  40  41  39  42  50  45  44  47  53  49  46  48  51  58  54  57  55  52\n",
      "   3   2   1  59  56  60  63  69  64  67  65  71  61  73  62  82  78  68\n",
      "  74  70  87  66  77  88  76  75 102  72  92  86  79  85  81  90  84  80\n",
      " 103  97  96  95  89 104  94 100  91  83 106 101  98 115  93 111 119  99\n",
      " 108 110 120 105 126 109 114 113 112 121 107 117 118 139 124 131 123 138\n",
      " 134 127 136 116 125 122 128 150 129 135 137 132 133 145 130 144   0 148\n",
      " 141 140 152 147 169 156 159 153 142 157 155 163 143 154 165 146 160 158\n",
      " 151 164 171 161 177 162 175 181 168 167 149 174 170 176 178 166 173 187\n",
      " 182 189 179 172 204 180 190 191 210 184 183 186 185 199 196 194 197 207\n",
      " 209 195 198 231 205 192 200 193 188 208 201 214 206 203 202]\n"
     ]
    }
   ],
   "source": [
    "print(data['sales'].unique())\n",
    "# Todo: bucket data"
   ]
  },
  {
   "cell_type": "code",
   "execution_count": 12,
   "metadata": {},
   "outputs": [],
   "source": [
    "data['weekday'] = data['Datetime_date'].map(lambda x: x.weekday())"
   ]
  },
  {
   "cell_type": "code",
   "execution_count": 13,
   "metadata": {},
   "outputs": [],
   "source": [
    "data['isWeekend'] = data['weekday'].map(lambda x: 1 if (x==6 or x==5) else 0)"
   ]
  },
  {
   "cell_type": "code",
   "execution_count": 14,
   "metadata": {},
   "outputs": [],
   "source": [
    "data['week'] = data['Datetime_date'].map(lambda x: x.isocalendar()[1])"
   ]
  },
  {
   "cell_type": "code",
   "execution_count": 21,
   "metadata": {},
   "outputs": [],
   "source": [
    "# get a list of us federal holidays as a datetime object\n",
    "from pandas.tseries.holiday import USFederalHolidayCalendar\n",
    "days_off = USFederalHolidayCalendar().holidays(start='2013-01-01', end='2017-12-27').to_pydatetime()"
   ]
  },
  {
   "cell_type": "code",
   "execution_count": 22,
   "metadata": {},
   "outputs": [
    {
     "name": "stdout",
     "output_type": "stream",
     "text": [
      "         date  store  item  sales Datetime_date  year  month  day  weekday  \\\n",
      "0  2013-01-01      1     1     13    2013-01-01  2013      1    1        1   \n",
      "1  2013-01-02      1     1     11    2013-01-02  2013      1    2        2   \n",
      "2  2013-01-03      1     1     14    2013-01-03  2013      1    3        3   \n",
      "3  2013-01-04      1     1     13    2013-01-04  2013      1    4        4   \n",
      "4  2013-01-05      1     1     10    2013-01-05  2013      1    5        5   \n",
      "\n",
      "   isWeekend  week  \n",
      "0          0     1  \n",
      "1          0     1  \n",
      "2          0     1  \n",
      "3          0     1  \n",
      "4          1     1  \n"
     ]
    }
   ],
   "source": [
    "print(data.head())"
   ]
  },
  {
   "cell_type": "code",
   "execution_count": 23,
   "metadata": {},
   "outputs": [],
   "source": [
    "data['isHoliday'] = data['Datetime_date'].map(lambda x: 1 if (x in days_off) else 0)"
   ]
  },
  {
   "cell_type": "markdown",
   "metadata": {},
   "source": [
    "# Export processed data"
   ]
  },
  {
   "cell_type": "code",
   "execution_count": 26,
   "metadata": {},
   "outputs": [],
   "source": [
    "data.to_csv('./data/preprocessed_train_data.csv')"
   ]
  }
 ],
 "metadata": {
  "kernelspec": {
   "display_name": "Python 3",
   "language": "python",
   "name": "python3"
  },
  "language_info": {
   "codemirror_mode": {
    "name": "ipython",
    "version": 3
   },
   "file_extension": ".py",
   "mimetype": "text/x-python",
   "name": "python",
   "nbconvert_exporter": "python",
   "pygments_lexer": "ipython3",
   "version": "3.6.2rc1"
  }
 },
 "nbformat": 4,
 "nbformat_minor": 2
}
