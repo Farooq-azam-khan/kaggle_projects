{
 "cells": [
  {
   "cell_type": "markdown",
   "metadata": {},
   "source": [
    "# Data Science Framework\n",
    "1. Define the Problem\n",
    "2. Gather Data\n",
    "3. Prepare Data \n",
    "4. Perform Statistical Analysis\n",
    "5. Model Data\n",
    "6. Validate\n",
    "7. Optimize"
   ]
  },
  {
   "cell_type": "markdown",
   "metadata": {},
   "source": [
    "# Load Libraries"
   ]
  },
  {
   "cell_type": "code",
   "execution_count": 3,
   "metadata": {},
   "outputs": [],
   "source": [
    "# System modules\n",
    "import sys\n",
    "import random\n",
    "import time\n",
    "import datetime \n",
    "\n",
    "# Data Analysis and Modeling modules\n",
    "import sklearn\n",
    "import pandas as pd\n",
    "import numpy as np\n",
    "import scipy as sp"
   ]
  },
  {
   "cell_type": "code",
   "execution_count": 4,
   "metadata": {},
   "outputs": [],
   "source": [
    "# modeling algorithms\n",
    "from sklearn import (svm, \n",
    "                     tree, \n",
    "                     linear_model, \n",
    "                     neighbors, \n",
    "                     naive_bayes, \n",
    "                     ensemble, \n",
    "                     discriminant_analysis, \n",
    "                     gaussian_process)\n",
    "\n",
    "# import xgboost\n",
    "\n",
    "# helper methods\n",
    "from sklearn.preprocessing import OneHotEncoder, LabelEncoder\n",
    "from sklearn import feature_selection\n",
    "from sklearn import model_selection\n",
    "from sklearn import metrics"
   ]
  },
  {
   "cell_type": "code",
   "execution_count": 5,
   "metadata": {},
   "outputs": [],
   "source": [
    "# Data Visualization modules\n",
    "import matplotlib.pyplot as plt\n",
    "from matplotlib import style\n",
    "import matplotlib.pylab as pylab\n",
    "import seaborn as sns\n",
    "from pandas.tools.plotting import scatter_matrix\n",
    "\n",
    "# Visualization Configuration\n",
    "# for jupyter notebook\n",
    "%matplotlib inline \n",
    "style.use('ggplot')\n",
    "sns.set_style('white')\n",
    "pylab.rcParams['figure.figsize'] = 12,8"
   ]
  },
  {
   "cell_type": "markdown",
   "metadata": {},
   "source": [
    "# Understanding Data"
   ]
  },
  {
   "cell_type": "code",
   "execution_count": 6,
   "metadata": {},
   "outputs": [],
   "source": [
    "train_data_raw = pd.read_csv(\"./data/train.csv\")\n",
    "test_data = pd.read_csv(\"./data/test.csv\")"
   ]
  },
  {
   "cell_type": "code",
   "execution_count": 5,
   "metadata": {},
   "outputs": [
    {
     "data": {
      "text/html": [
       "<div>\n",
       "<style>\n",
       "    .dataframe thead tr:only-child th {\n",
       "        text-align: right;\n",
       "    }\n",
       "\n",
       "    .dataframe thead th {\n",
       "        text-align: left;\n",
       "    }\n",
       "\n",
       "    .dataframe tbody tr th {\n",
       "        vertical-align: top;\n",
       "    }\n",
       "</style>\n",
       "<table border=\"1\" class=\"dataframe\">\n",
       "  <thead>\n",
       "    <tr style=\"text-align: right;\">\n",
       "      <th></th>\n",
       "      <th>Dates</th>\n",
       "      <th>Category</th>\n",
       "      <th>Descript</th>\n",
       "      <th>DayOfWeek</th>\n",
       "      <th>PdDistrict</th>\n",
       "      <th>Resolution</th>\n",
       "      <th>Address</th>\n",
       "      <th>X</th>\n",
       "      <th>Y</th>\n",
       "    </tr>\n",
       "  </thead>\n",
       "  <tbody>\n",
       "    <tr>\n",
       "      <th>0</th>\n",
       "      <td>2015-05-13 23:53:00</td>\n",
       "      <td>WARRANTS</td>\n",
       "      <td>WARRANT ARREST</td>\n",
       "      <td>Wednesday</td>\n",
       "      <td>NORTHERN</td>\n",
       "      <td>ARREST, BOOKED</td>\n",
       "      <td>OAK ST / LAGUNA ST</td>\n",
       "      <td>-122.425892</td>\n",
       "      <td>37.774599</td>\n",
       "    </tr>\n",
       "    <tr>\n",
       "      <th>1</th>\n",
       "      <td>2015-05-13 23:53:00</td>\n",
       "      <td>OTHER OFFENSES</td>\n",
       "      <td>TRAFFIC VIOLATION ARREST</td>\n",
       "      <td>Wednesday</td>\n",
       "      <td>NORTHERN</td>\n",
       "      <td>ARREST, BOOKED</td>\n",
       "      <td>OAK ST / LAGUNA ST</td>\n",
       "      <td>-122.425892</td>\n",
       "      <td>37.774599</td>\n",
       "    </tr>\n",
       "    <tr>\n",
       "      <th>2</th>\n",
       "      <td>2015-05-13 23:33:00</td>\n",
       "      <td>OTHER OFFENSES</td>\n",
       "      <td>TRAFFIC VIOLATION ARREST</td>\n",
       "      <td>Wednesday</td>\n",
       "      <td>NORTHERN</td>\n",
       "      <td>ARREST, BOOKED</td>\n",
       "      <td>VANNESS AV / GREENWICH ST</td>\n",
       "      <td>-122.424363</td>\n",
       "      <td>37.800414</td>\n",
       "    </tr>\n",
       "    <tr>\n",
       "      <th>3</th>\n",
       "      <td>2015-05-13 23:30:00</td>\n",
       "      <td>LARCENY/THEFT</td>\n",
       "      <td>GRAND THEFT FROM LOCKED AUTO</td>\n",
       "      <td>Wednesday</td>\n",
       "      <td>NORTHERN</td>\n",
       "      <td>NONE</td>\n",
       "      <td>1500 Block of LOMBARD ST</td>\n",
       "      <td>-122.426995</td>\n",
       "      <td>37.800873</td>\n",
       "    </tr>\n",
       "    <tr>\n",
       "      <th>4</th>\n",
       "      <td>2015-05-13 23:30:00</td>\n",
       "      <td>LARCENY/THEFT</td>\n",
       "      <td>GRAND THEFT FROM LOCKED AUTO</td>\n",
       "      <td>Wednesday</td>\n",
       "      <td>PARK</td>\n",
       "      <td>NONE</td>\n",
       "      <td>100 Block of BRODERICK ST</td>\n",
       "      <td>-122.438738</td>\n",
       "      <td>37.771541</td>\n",
       "    </tr>\n",
       "    <tr>\n",
       "      <th>5</th>\n",
       "      <td>2015-05-13 23:30:00</td>\n",
       "      <td>LARCENY/THEFT</td>\n",
       "      <td>GRAND THEFT FROM UNLOCKED AUTO</td>\n",
       "      <td>Wednesday</td>\n",
       "      <td>INGLESIDE</td>\n",
       "      <td>NONE</td>\n",
       "      <td>0 Block of TEDDY AV</td>\n",
       "      <td>-122.403252</td>\n",
       "      <td>37.713431</td>\n",
       "    </tr>\n",
       "    <tr>\n",
       "      <th>6</th>\n",
       "      <td>2015-05-13 23:30:00</td>\n",
       "      <td>VEHICLE THEFT</td>\n",
       "      <td>STOLEN AUTOMOBILE</td>\n",
       "      <td>Wednesday</td>\n",
       "      <td>INGLESIDE</td>\n",
       "      <td>NONE</td>\n",
       "      <td>AVALON AV / PERU AV</td>\n",
       "      <td>-122.423327</td>\n",
       "      <td>37.725138</td>\n",
       "    </tr>\n",
       "    <tr>\n",
       "      <th>7</th>\n",
       "      <td>2015-05-13 23:30:00</td>\n",
       "      <td>VEHICLE THEFT</td>\n",
       "      <td>STOLEN AUTOMOBILE</td>\n",
       "      <td>Wednesday</td>\n",
       "      <td>BAYVIEW</td>\n",
       "      <td>NONE</td>\n",
       "      <td>KIRKWOOD AV / DONAHUE ST</td>\n",
       "      <td>-122.371274</td>\n",
       "      <td>37.727564</td>\n",
       "    </tr>\n",
       "    <tr>\n",
       "      <th>8</th>\n",
       "      <td>2015-05-13 23:00:00</td>\n",
       "      <td>LARCENY/THEFT</td>\n",
       "      <td>GRAND THEFT FROM LOCKED AUTO</td>\n",
       "      <td>Wednesday</td>\n",
       "      <td>RICHMOND</td>\n",
       "      <td>NONE</td>\n",
       "      <td>600 Block of 47TH AV</td>\n",
       "      <td>-122.508194</td>\n",
       "      <td>37.776601</td>\n",
       "    </tr>\n",
       "    <tr>\n",
       "      <th>9</th>\n",
       "      <td>2015-05-13 23:00:00</td>\n",
       "      <td>LARCENY/THEFT</td>\n",
       "      <td>GRAND THEFT FROM LOCKED AUTO</td>\n",
       "      <td>Wednesday</td>\n",
       "      <td>CENTRAL</td>\n",
       "      <td>NONE</td>\n",
       "      <td>JEFFERSON ST / LEAVENWORTH ST</td>\n",
       "      <td>-122.419088</td>\n",
       "      <td>37.807802</td>\n",
       "    </tr>\n",
       "    <tr>\n",
       "      <th>10</th>\n",
       "      <td>2015-05-13 22:58:00</td>\n",
       "      <td>LARCENY/THEFT</td>\n",
       "      <td>PETTY THEFT FROM LOCKED AUTO</td>\n",
       "      <td>Wednesday</td>\n",
       "      <td>CENTRAL</td>\n",
       "      <td>NONE</td>\n",
       "      <td>JEFFERSON ST / LEAVENWORTH ST</td>\n",
       "      <td>-122.419088</td>\n",
       "      <td>37.807802</td>\n",
       "    </tr>\n",
       "    <tr>\n",
       "      <th>11</th>\n",
       "      <td>2015-05-13 22:30:00</td>\n",
       "      <td>OTHER OFFENSES</td>\n",
       "      <td>MISCELLANEOUS INVESTIGATION</td>\n",
       "      <td>Wednesday</td>\n",
       "      <td>TARAVAL</td>\n",
       "      <td>NONE</td>\n",
       "      <td>0 Block of ESCOLTA WY</td>\n",
       "      <td>-122.487983</td>\n",
       "      <td>37.737667</td>\n",
       "    </tr>\n",
       "    <tr>\n",
       "      <th>12</th>\n",
       "      <td>2015-05-13 22:30:00</td>\n",
       "      <td>VANDALISM</td>\n",
       "      <td>MALICIOUS MISCHIEF, VANDALISM OF VEHICLES</td>\n",
       "      <td>Wednesday</td>\n",
       "      <td>TENDERLOIN</td>\n",
       "      <td>NONE</td>\n",
       "      <td>TURK ST / JONES ST</td>\n",
       "      <td>-122.412414</td>\n",
       "      <td>37.783004</td>\n",
       "    </tr>\n",
       "    <tr>\n",
       "      <th>13</th>\n",
       "      <td>2015-05-13 22:06:00</td>\n",
       "      <td>LARCENY/THEFT</td>\n",
       "      <td>GRAND THEFT FROM LOCKED AUTO</td>\n",
       "      <td>Wednesday</td>\n",
       "      <td>NORTHERN</td>\n",
       "      <td>NONE</td>\n",
       "      <td>FILLMORE ST / GEARY BL</td>\n",
       "      <td>-122.432915</td>\n",
       "      <td>37.784353</td>\n",
       "    </tr>\n",
       "    <tr>\n",
       "      <th>14</th>\n",
       "      <td>2015-05-13 22:00:00</td>\n",
       "      <td>NON-CRIMINAL</td>\n",
       "      <td>FOUND PROPERTY</td>\n",
       "      <td>Wednesday</td>\n",
       "      <td>BAYVIEW</td>\n",
       "      <td>NONE</td>\n",
       "      <td>200 Block of WILLIAMS AV</td>\n",
       "      <td>-122.397744</td>\n",
       "      <td>37.729935</td>\n",
       "    </tr>\n",
       "  </tbody>\n",
       "</table>\n",
       "</div>"
      ],
      "text/plain": [
       "                  Dates        Category  \\\n",
       "0   2015-05-13 23:53:00        WARRANTS   \n",
       "1   2015-05-13 23:53:00  OTHER OFFENSES   \n",
       "2   2015-05-13 23:33:00  OTHER OFFENSES   \n",
       "3   2015-05-13 23:30:00   LARCENY/THEFT   \n",
       "4   2015-05-13 23:30:00   LARCENY/THEFT   \n",
       "5   2015-05-13 23:30:00   LARCENY/THEFT   \n",
       "6   2015-05-13 23:30:00   VEHICLE THEFT   \n",
       "7   2015-05-13 23:30:00   VEHICLE THEFT   \n",
       "8   2015-05-13 23:00:00   LARCENY/THEFT   \n",
       "9   2015-05-13 23:00:00   LARCENY/THEFT   \n",
       "10  2015-05-13 22:58:00   LARCENY/THEFT   \n",
       "11  2015-05-13 22:30:00  OTHER OFFENSES   \n",
       "12  2015-05-13 22:30:00       VANDALISM   \n",
       "13  2015-05-13 22:06:00   LARCENY/THEFT   \n",
       "14  2015-05-13 22:00:00    NON-CRIMINAL   \n",
       "\n",
       "                                     Descript  DayOfWeek  PdDistrict  \\\n",
       "0                              WARRANT ARREST  Wednesday    NORTHERN   \n",
       "1                    TRAFFIC VIOLATION ARREST  Wednesday    NORTHERN   \n",
       "2                    TRAFFIC VIOLATION ARREST  Wednesday    NORTHERN   \n",
       "3                GRAND THEFT FROM LOCKED AUTO  Wednesday    NORTHERN   \n",
       "4                GRAND THEFT FROM LOCKED AUTO  Wednesday        PARK   \n",
       "5              GRAND THEFT FROM UNLOCKED AUTO  Wednesday   INGLESIDE   \n",
       "6                           STOLEN AUTOMOBILE  Wednesday   INGLESIDE   \n",
       "7                           STOLEN AUTOMOBILE  Wednesday     BAYVIEW   \n",
       "8                GRAND THEFT FROM LOCKED AUTO  Wednesday    RICHMOND   \n",
       "9                GRAND THEFT FROM LOCKED AUTO  Wednesday     CENTRAL   \n",
       "10               PETTY THEFT FROM LOCKED AUTO  Wednesday     CENTRAL   \n",
       "11                MISCELLANEOUS INVESTIGATION  Wednesday     TARAVAL   \n",
       "12  MALICIOUS MISCHIEF, VANDALISM OF VEHICLES  Wednesday  TENDERLOIN   \n",
       "13               GRAND THEFT FROM LOCKED AUTO  Wednesday    NORTHERN   \n",
       "14                             FOUND PROPERTY  Wednesday     BAYVIEW   \n",
       "\n",
       "        Resolution                        Address           X          Y  \n",
       "0   ARREST, BOOKED             OAK ST / LAGUNA ST -122.425892  37.774599  \n",
       "1   ARREST, BOOKED             OAK ST / LAGUNA ST -122.425892  37.774599  \n",
       "2   ARREST, BOOKED      VANNESS AV / GREENWICH ST -122.424363  37.800414  \n",
       "3             NONE       1500 Block of LOMBARD ST -122.426995  37.800873  \n",
       "4             NONE      100 Block of BRODERICK ST -122.438738  37.771541  \n",
       "5             NONE            0 Block of TEDDY AV -122.403252  37.713431  \n",
       "6             NONE            AVALON AV / PERU AV -122.423327  37.725138  \n",
       "7             NONE       KIRKWOOD AV / DONAHUE ST -122.371274  37.727564  \n",
       "8             NONE           600 Block of 47TH AV -122.508194  37.776601  \n",
       "9             NONE  JEFFERSON ST / LEAVENWORTH ST -122.419088  37.807802  \n",
       "10            NONE  JEFFERSON ST / LEAVENWORTH ST -122.419088  37.807802  \n",
       "11            NONE          0 Block of ESCOLTA WY -122.487983  37.737667  \n",
       "12            NONE             TURK ST / JONES ST -122.412414  37.783004  \n",
       "13            NONE         FILLMORE ST / GEARY BL -122.432915  37.784353  \n",
       "14            NONE       200 Block of WILLIAMS AV -122.397744  37.729935  "
      ]
     },
     "execution_count": 5,
     "metadata": {},
     "output_type": "execute_result"
    }
   ],
   "source": [
    "train_data_raw.head(15)\n",
    "# train_data_raw.tail()"
   ]
  },
  {
   "cell_type": "code",
   "execution_count": 6,
   "metadata": {},
   "outputs": [
    {
     "data": {
      "text/html": [
       "<div>\n",
       "<style>\n",
       "    .dataframe thead tr:only-child th {\n",
       "        text-align: right;\n",
       "    }\n",
       "\n",
       "    .dataframe thead th {\n",
       "        text-align: left;\n",
       "    }\n",
       "\n",
       "    .dataframe tbody tr th {\n",
       "        vertical-align: top;\n",
       "    }\n",
       "</style>\n",
       "<table border=\"1\" class=\"dataframe\">\n",
       "  <thead>\n",
       "    <tr style=\"text-align: right;\">\n",
       "      <th></th>\n",
       "      <th>Id</th>\n",
       "      <th>Dates</th>\n",
       "      <th>DayOfWeek</th>\n",
       "      <th>PdDistrict</th>\n",
       "      <th>Address</th>\n",
       "      <th>X</th>\n",
       "      <th>Y</th>\n",
       "    </tr>\n",
       "  </thead>\n",
       "  <tbody>\n",
       "    <tr>\n",
       "      <th>884257</th>\n",
       "      <td>884257</td>\n",
       "      <td>2003-01-01 00:01:00</td>\n",
       "      <td>Wednesday</td>\n",
       "      <td>MISSION</td>\n",
       "      <td>2600 Block of BRYANT ST</td>\n",
       "      <td>-122.408983</td>\n",
       "      <td>37.751987</td>\n",
       "    </tr>\n",
       "    <tr>\n",
       "      <th>884258</th>\n",
       "      <td>884258</td>\n",
       "      <td>2003-01-01 00:01:00</td>\n",
       "      <td>Wednesday</td>\n",
       "      <td>NORTHERN</td>\n",
       "      <td>1900 Block of WASHINGTON ST</td>\n",
       "      <td>-122.425342</td>\n",
       "      <td>37.792681</td>\n",
       "    </tr>\n",
       "    <tr>\n",
       "      <th>884259</th>\n",
       "      <td>884259</td>\n",
       "      <td>2003-01-01 00:01:00</td>\n",
       "      <td>Wednesday</td>\n",
       "      <td>INGLESIDE</td>\n",
       "      <td>5500 Block of MISSION ST</td>\n",
       "      <td>-122.445418</td>\n",
       "      <td>37.712075</td>\n",
       "    </tr>\n",
       "    <tr>\n",
       "      <th>884260</th>\n",
       "      <td>884260</td>\n",
       "      <td>2003-01-01 00:01:00</td>\n",
       "      <td>Wednesday</td>\n",
       "      <td>BAYVIEW</td>\n",
       "      <td>1500 Block of HUDSON AV</td>\n",
       "      <td>-122.387394</td>\n",
       "      <td>37.739479</td>\n",
       "    </tr>\n",
       "    <tr>\n",
       "      <th>884261</th>\n",
       "      <td>884261</td>\n",
       "      <td>2003-01-01 00:01:00</td>\n",
       "      <td>Wednesday</td>\n",
       "      <td>TARAVAL</td>\n",
       "      <td>1500 Block of SLOAT BL</td>\n",
       "      <td>-122.489714</td>\n",
       "      <td>37.733950</td>\n",
       "    </tr>\n",
       "  </tbody>\n",
       "</table>\n",
       "</div>"
      ],
      "text/plain": [
       "            Id                Dates  DayOfWeek PdDistrict  \\\n",
       "884257  884257  2003-01-01 00:01:00  Wednesday    MISSION   \n",
       "884258  884258  2003-01-01 00:01:00  Wednesday   NORTHERN   \n",
       "884259  884259  2003-01-01 00:01:00  Wednesday  INGLESIDE   \n",
       "884260  884260  2003-01-01 00:01:00  Wednesday    BAYVIEW   \n",
       "884261  884261  2003-01-01 00:01:00  Wednesday    TARAVAL   \n",
       "\n",
       "                            Address           X          Y  \n",
       "884257      2600 Block of BRYANT ST -122.408983  37.751987  \n",
       "884258  1900 Block of WASHINGTON ST -122.425342  37.792681  \n",
       "884259     5500 Block of MISSION ST -122.445418  37.712075  \n",
       "884260      1500 Block of HUDSON AV -122.387394  37.739479  \n",
       "884261       1500 Block of SLOAT BL -122.489714  37.733950  "
      ]
     },
     "execution_count": 6,
     "metadata": {},
     "output_type": "execute_result"
    }
   ],
   "source": [
    "test_data.head()\n",
    "test_data.tail()"
   ]
  },
  {
   "cell_type": "markdown",
   "metadata": {},
   "source": [
    "## Columns\n",
    "- Dates: date it occured\n",
    "- Category: type of crime\n",
    "- Description: nature of crime\n",
    "- DayOfWeek: monday, tuesday, wednesday, friday, satuday, or sunday\n",
    "- PdDistric: general place where crime occured\n",
    "- Resolution: how the crime ended\n",
    "- Address: play of where the crime occcured\n",
    "- X, Y: latitue and longiture positions "
   ]
  },
  {
   "cell_type": "code",
   "execution_count": 7,
   "metadata": {},
   "outputs": [],
   "source": [
    "# Create a copy of the data to work on\n",
    "train_data = train_data_raw.copy(deep=True)\n",
    "data_cleaner = [train_data, test_data]"
   ]
  },
  {
   "cell_type": "code",
   "execution_count": 8,
   "metadata": {},
   "outputs": [
    {
     "name": "stdout",
     "output_type": "stream",
     "text": [
      "<class 'pandas.core.frame.DataFrame'>\n",
      "RangeIndex: 878049 entries, 0 to 878048\n",
      "Data columns (total 9 columns):\n",
      "Dates         878049 non-null object\n",
      "Category      878049 non-null object\n",
      "Descript      878049 non-null object\n",
      "DayOfWeek     878049 non-null object\n",
      "PdDistrict    878049 non-null object\n",
      "Resolution    878049 non-null object\n",
      "Address       878049 non-null object\n",
      "X             878049 non-null float64\n",
      "Y             878049 non-null float64\n",
      "dtypes: float64(2), object(7)\n",
      "memory usage: 60.3+ MB\n",
      "None\n"
     ]
    }
   ],
   "source": [
    "# Show the data\n",
    "print(train_data.info())"
   ]
  },
  {
   "cell_type": "code",
   "execution_count": 9,
   "metadata": {},
   "outputs": [
    {
     "name": "stdout",
     "output_type": "stream",
     "text": [
      "<class 'pandas.core.frame.DataFrame'>\n",
      "RangeIndex: 884262 entries, 0 to 884261\n",
      "Data columns (total 7 columns):\n",
      "Id            884262 non-null int64\n",
      "Dates         884262 non-null object\n",
      "DayOfWeek     884262 non-null object\n",
      "PdDistrict    884262 non-null object\n",
      "Address       884262 non-null object\n",
      "X             884262 non-null float64\n",
      "Y             884262 non-null float64\n",
      "dtypes: float64(2), int64(1), object(4)\n",
      "memory usage: 47.2+ MB\n",
      "None\n"
     ]
    }
   ],
   "source": [
    "print(test_data.info())"
   ]
  },
  {
   "cell_type": "markdown",
   "metadata": {},
   "source": [
    "# 4 C's\n",
    "- correcting\n",
    "- completing\n",
    "- creating\n",
    "- converting"
   ]
  },
  {
   "cell_type": "code",
   "execution_count": 10,
   "metadata": {},
   "outputs": [
    {
     "name": "stdout",
     "output_type": "stream",
     "text": [
      "Train Columns with null values:\n",
      "Dates         0\n",
      "Category      0\n",
      "Descript      0\n",
      "DayOfWeek     0\n",
      "PdDistrict    0\n",
      "Resolution    0\n",
      "Address       0\n",
      "X             0\n",
      "Y             0\n",
      "dtype: int64\n"
     ]
    }
   ],
   "source": [
    "# look for null values in training dataset\n",
    "print(\"Train Columns with null values:\")\n",
    "print(train_data.isnull().sum())"
   ]
  },
  {
   "cell_type": "code",
   "execution_count": 11,
   "metadata": {},
   "outputs": [
    {
     "name": "stdout",
     "output_type": "stream",
     "text": [
      "Test Columns with null vales:\n",
      "Id            0\n",
      "Dates         0\n",
      "DayOfWeek     0\n",
      "PdDistrict    0\n",
      "Address       0\n",
      "X             0\n",
      "Y             0\n",
      "dtype: int64\n"
     ]
    }
   ],
   "source": [
    "# Look for null values in testing dataset\n",
    "print(\"Test Columns with null vales:\")\n",
    "print(test_data.isnull().sum())"
   ]
  },
  {
   "cell_type": "code",
   "execution_count": 12,
   "metadata": {},
   "outputs": [
    {
     "name": "stdout",
     "output_type": "stream",
     "text": [
      "                   X              Y\n",
      "count  878049.000000  878049.000000\n",
      "mean     -122.422616      37.771020\n",
      "std         0.030354       0.456893\n",
      "min      -122.513642      37.707879\n",
      "25%      -122.432952      37.752427\n",
      "50%      -122.416420      37.775421\n",
      "75%      -122.406959      37.784369\n",
      "max      -120.500000      90.000000\n"
     ]
    }
   ],
   "source": [
    "print(train_data.describe()) # more info: include='all' as param"
   ]
  },
  {
   "cell_type": "markdown",
   "metadata": {},
   "source": [
    "## Clean Data\n",
    "- there are no null fileds so no null value needs to be filled\n",
    "- look for columns that will not give any information\n",
    "\n",
    "__Todo__\n",
    "- __date__:\n",
    "    - separate date filed with: year, month, day, hour, minutes, (seconds) \n",
    "    - or bin data\n",
    "        - bin with season(summer autum winter spring)\n",
    "        - easier bin based on month\n",
    "- __day__:\n",
    "    - make day field into numbers w/ LabelEncoder() and pd.dummy() \n",
    "    - maybe don't need due to date field\n",
    "    - or bin data: \n",
    "        - make into weekend/weekday columns\n",
    "- __PdDistric__:\n",
    "    - LabelEncoder() and pd.dummy()\n",
    "- __Address__:\n",
    "    - maybe drop due to X,Y\n",
    "    - maybe look at crimes that occured in the same area, they are probably linked\n",
    "- __X, Y__:\n",
    "    - do edit needed\n",
    "    \n",
    " ## Feature Engineering\n",
    " - look at crimes that occured on the same day\n",
    " - check if crime occured at day or night\n",
    " - look at crimes that occured close to each other \n",
    "     - check if they occured in same police distric\n",
    "     - check if they occured within some threshold of X, Y\n",
    "     - check if they occured within same address\n",
    " - look at crimes that occured on same day and close to each other\n",
    " - create feature for differnt times of year, months, and day\n",
    "     - _year_: just record year number. \n",
    "     - _month_: summer, autumn, winter, spring\n",
    "     - _week-day_: column for each day of week (just a dummy var)\n",
    "     - _day_: morning, eveining, afternoon, night\n",
    "     - _special day_: easter, christmas, ... \n",
    "      \n",
    "         \n",
    "    \n",
    " ## Targets\n",
    " - catergory, resolution, description are not provided in the testing file; therefore we will look at out trining set for those values. \n",
    " - __Category__: \n",
    "     - separate them with labelEncoder() and pd.dummy()\n",
    "     - find the severity of crime\n",
    " - __Description__:\n",
    "     - dont worry about, explained with category\n",
    " - __Resolution__:\n",
    "     - check if there is alot of data that is \"None\"\n",
    "         - if so then probably don't use \n",
    "    "
   ]
  },
  {
   "cell_type": "markdown",
   "metadata": {},
   "source": [
    "# Define our Targets and Features"
   ]
  },
  {
   "cell_type": "code",
   "execution_count": 13,
   "metadata": {},
   "outputs": [],
   "source": [
    "# Target = ['Category', 'Resolution']\n",
    "# print(train_data[Target].head())"
   ]
  },
  {
   "cell_type": "code",
   "execution_count": 9,
   "metadata": {},
   "outputs": [],
   "source": [
    "# modify Dates column\n",
    "for dataset in data_cleaner:\n",
    "    # split by '-' to get year, month, and day\n",
    "    dataset['List_Date'] = dataset['Dates'].map(lambda x: x.split('-'))\n",
    "    dataset['Year'] = dataset['List_Date'].map(lambda x: x[0])\n",
    "    dataset['Month'] = dataset['List_Date'].map(lambda x: x[1])\n",
    "    dataset['Day_Time'] = dataset['List_Date'].map(lambda x: x[2])\n",
    "    # split by ' ' to separate date and time\n",
    "    dataset['Day_Time_List'] = dataset['Day_Time'].map(lambda x: x.split(' '))\n",
    "    dataset['Day'] = dataset['Day_Time_List'].map(lambda x: x[0])\n",
    "    dataset['Time_List'] = dataset['Day_Time_List'].map(lambda x: x[1])\n",
    "    # split by ':' to get hour, minute, second\n",
    "    dataset['Time_List'] = dataset['Time_List'].map(lambda x: x.split(':'))\n",
    "    dataset['Hour'] = dataset['Time_List'].map(lambda x: x[0])\n",
    "    dataset['Minute'] = dataset['Time_List'].map(lambda x: x[1])\n",
    "    dataset['Second'] = dataset['Time_List'].map(lambda x: x[2])\n",
    "    "
   ]
  },
  {
   "cell_type": "code",
   "execution_count": 10,
   "metadata": {},
   "outputs": [
    {
     "name": "stdout",
     "output_type": "stream",
     "text": [
      "   Year Month Day Hour Minute Second\n",
      "0  2015    05  13   23     53     00\n",
      "1  2015    05  13   23     53     00\n",
      "2  2015    05  13   23     33     00\n",
      "3  2015    05  13   23     30     00\n",
      "4  2015    05  13   23     30     00\n",
      "5  2015    05  13   23     30     00\n",
      "6  2015    05  13   23     30     00\n",
      "7  2015    05  13   23     30     00\n",
      "8  2015    05  13   23     00     00\n",
      "9  2015    05  13   23     00     00\n",
      "        Year Month Day Hour Minute Second\n",
      "878039  2003    01  06   00     40     00\n",
      "878040  2003    01  06   00     33     00\n",
      "878041  2003    01  06   00     31     00\n",
      "878042  2003    01  06   00     20     00\n",
      "878043  2003    01  06   00     20     00\n",
      "878044  2003    01  06   00     15     00\n",
      "878045  2003    01  06   00     01     00\n",
      "878046  2003    01  06   00     01     00\n",
      "878047  2003    01  06   00     01     00\n",
      "878048  2003    01  06   00     01     00\n"
     ]
    }
   ],
   "source": [
    "date_time_columns = ['Year','Month', 'Day', 'Hour', 'Minute', 'Second']\n",
    "print(train_data[date_time_columns].head(10))\n",
    "print(train_data[date_time_columns].tail(10))"
   ]
  },
  {
   "cell_type": "code",
   "execution_count": 11,
   "metadata": {},
   "outputs": [],
   "source": [
    "day = datetime.datetime(2018, 11, 20)\n",
    "day.month\n",
    "# check if workday, holiday, daytime\n",
    "for dataset in data_cleaner:\n",
    "    dataset['Workhour'] = dataset['Hour'].map(lambda x: x in range(9, 17))"
   ]
  },
  {
   "cell_type": "code",
   "execution_count": 12,
   "metadata": {},
   "outputs": [],
   "source": [
    "# print(train_data['Workhour'].tail())\n",
    "from pandas.tseries.holiday import USFederalHolidayCalendar\n",
    "days_off = USFederalHolidayCalendar().holidays(start='2003-01-01', end='2015-05-31').to_pydatetime()\n",
    "# print(days_off)\n",
    "# print(days_off[0])\n",
    "year = int(train_data['Year'][0])\n",
    "month= int(train_data['Month'][0])\n",
    "day= int(train_data['Day'][0])\n",
    "hour= int(train_data['Hour'][0])\n",
    "minute= int(train_data['Minute'][0])\n",
    "second= int(train_data['Second'][0])\n",
    "# print(train_data[date_time_columns].apply(lambda x : datetime.datetime(int(x['Year']), int(x['Month']), int(x['Day']), int(x['Hour']), int(x['Minute']), int(x['Second'])) in days_off, axis=1))\n",
    "# print(datetime.datetime(year, month, day, hour, minute, second) in days_off)\n",
    "# print(datetime.datetime(2010, 11, 20, 11, 12, 23) in days_off)"
   ]
  },
  {
   "cell_type": "code",
   "execution_count": 13,
   "metadata": {},
   "outputs": [],
   "source": [
    "for dataset in data_cleaner:\n",
    "    dataset['intYear'] = dataset['Year'].map(lambda x: int(x))\n",
    "    dataset['intMonth'] = dataset['Month'].map(lambda x: int(x))\n",
    "    dataset['intDay'] = dataset['Day'].map(lambda x: int(x))\n",
    "    dataset['intHour'] = dataset['Hour'].map(lambda x: int(x))\n",
    "    dataset['intMinute'] = dataset['Minute'].map(lambda x: int(x))\n",
    "    dataset['intSecond'] = dataset['Second'].map(lambda x: int(x))"
   ]
  },
  {
   "cell_type": "code",
   "execution_count": 14,
   "metadata": {},
   "outputs": [
    {
     "name": "stdout",
     "output_type": "stream",
     "text": [
      "<class 'numpy.int64'>\n"
     ]
    }
   ],
   "source": [
    "print(type(dataset['intYear'][0]))"
   ]
  },
  {
   "cell_type": "code",
   "execution_count": 15,
   "metadata": {},
   "outputs": [
    {
     "name": "stdout",
     "output_type": "stream",
     "text": [
      "finished one\n",
      "finished one\n"
     ]
    }
   ],
   "source": [
    "int_date_clos = ['intYear', 'intMonth', 'intDay', 'intHour', 'intMinute', 'intSecond']\n",
    "for dataset in data_cleaner:\n",
    "    dataset['DateTimeModuel'] = train_data[int_date_clos].apply(lambda x: datetime.datetime(x['intYear'], x['intMonth'], x['intDay'], x['intHour'], x['intMinute'], x['intSecond']), axis=1)\n",
    "    print('finished one')"
   ]
  },
  {
   "cell_type": "code",
   "execution_count": 16,
   "metadata": {},
   "outputs": [
    {
     "name": "stdout",
     "output_type": "stream",
     "text": [
      "<class 'pandas._libs.tslib.Timestamp'>\n"
     ]
    }
   ],
   "source": [
    "print(type(dataset['DateTimeModuel'][0]))"
   ]
  },
  {
   "cell_type": "code",
   "execution_count": 17,
   "metadata": {},
   "outputs": [
    {
     "name": "stdout",
     "output_type": "stream",
     "text": [
      "finished one\n",
      "finished one\n"
     ]
    }
   ],
   "source": [
    "for dataset in data_cleaner:\n",
    "    # check if a datetime object is in the days_off list\n",
    "    dataset['isHoliday'] = train_data['DateTimeModuel'].map(lambda x : x in days_off)\n",
    "    print('finished one')"
   ]
  },
  {
   "cell_type": "code",
   "execution_count": 18,
   "metadata": {},
   "outputs": [
    {
     "name": "stdout",
     "output_type": "stream",
     "text": [
      "<class 'pandas.core.frame.DataFrame'>\n",
      "RangeIndex: 878049 entries, 0 to 878048\n",
      "Data columns (total 22 columns):\n",
      "Dates             878049 non-null object\n",
      "Category          878049 non-null object\n",
      "Descript          878049 non-null object\n",
      "DayOfWeek         878049 non-null object\n",
      "PdDistrict        878049 non-null object\n",
      "Resolution        878049 non-null object\n",
      "Address           878049 non-null object\n",
      "X                 878049 non-null float64\n",
      "Y                 878049 non-null float64\n",
      "List_Date         878049 non-null object\n",
      "Year              878049 non-null object\n",
      "Month             878049 non-null object\n",
      "Day_Time          878049 non-null object\n",
      "Day_Time_List     878049 non-null object\n",
      "Day               878049 non-null object\n",
      "Time_List         878049 non-null object\n",
      "Hour              878049 non-null object\n",
      "Minute            878049 non-null object\n",
      "Second            878049 non-null object\n",
      "Workhour          878049 non-null bool\n",
      "DateTimeModuel    878049 non-null datetime64[ns]\n",
      "isHoliday         878049 non-null bool\n",
      "dtypes: bool(2), datetime64[ns](1), float64(2), object(17)\n",
      "memory usage: 135.7+ MB\n"
     ]
    }
   ],
   "source": [
    "# train_data['Category'].head()\n",
    "# train_data.drop('List_Date', axis=1, inplace=True)\n",
    "# train_data.drop('List_Date', axis=1, inplace=True)\n",
    "for dataset in data_cleaner:\n",
    "    dataset.drop('intYear', axis=1, inplace=True)\n",
    "    dataset.drop('intMonth', axis=1, inplace=True)\n",
    "    dataset.drop('intDay', axis=1, inplace=True)\n",
    "    dataset.drop('intHour', axis=1, inplace=True)\n",
    "    dataset.drop('intMinute', axis=1, inplace=True)\n",
    "    dataset.drop('intSecond', axis=1, inplace=True)\n",
    "train_data.info()"
   ]
  },
  {
   "cell_type": "code",
   "execution_count": 19,
   "metadata": {},
   "outputs": [
    {
     "name": "stdout",
     "output_type": "stream",
     "text": [
      "0    False\n",
      "1    False\n",
      "2    False\n",
      "3    False\n",
      "4    False\n",
      "5    False\n",
      "6    False\n",
      "7    False\n",
      "8    False\n",
      "9    False\n",
      "Name: isHoliday, dtype: bool\n"
     ]
    }
   ],
   "source": [
    "print(train_data['isHoliday'].head(10))"
   ]
  },
  {
   "cell_type": "code",
   "execution_count": 20,
   "metadata": {},
   "outputs": [],
   "source": [
    "# bin data\n",
    "for dataset in data_cleaner:\n",
    "    dataset['YearBin'] = pd.cut(dataset['Year'].astype(int),13)\n",
    "    dataset['MonthBin'] = pd.cut(dataset['Month'].astype(int),12)\n",
    "    dataset['DayBin'] = pd.cut(dataset['Day'].astype(int),31)\n",
    "    # hour might be usefor to check the time of day crime occurs, \n",
    "    # minute and second are not useful to specific\n",
    "    dataset['HourBin'] = pd.cut(dataset['Hour'].astype(int),24)\n",
    "    \n",
    "    # bin longiture, and latitude\n",
    "    dataset['XBin'] = pd.qcut(dataset['X'], 5)\n",
    "    dataset['YBin'] = pd.qcut(dataset['Y'], 5)\n",
    "                                       \n",
    "                                       "
   ]
  },
  {
   "cell_type": "code",
   "execution_count": 35,
   "metadata": {},
   "outputs": [
    {
     "data": {
      "text/plain": [
       "<matplotlib.axes._subplots.AxesSubplot at 0x182015bc0f0>"
      ]
     },
     "execution_count": 35,
     "metadata": {},
     "output_type": "execute_result"
    },
    {
     "data": {
      "image/png": "[encoded data removed]",
      "text/plain": [
       "<Figure size 864x576 with 1 Axes>"
      ]
     },
     "metadata": {},
     "output_type": "display_data"
    }
   ],
   "source": [
    "train_data[train_data['X'] < 200].sample(1000).plot.scatter(x='X', y='Y')"
   ]
  },
  {
   "cell_type": "code",
   "execution_count": null,
   "metadata": {},
   "outputs": [],
   "source": []
  },
  {
   "cell_type": "code",
   "execution_count": 38,
   "metadata": {},
   "outputs": [],
   "source": [
    "# print(train_data[['Year', 'YearBin', 'Month', 'MonthBin', 'Day', 'DayBin', 'X', 'XBin', 'Y', 'YBin']].head(10))\n",
    "# print(train_data[['Year', 'YearBin', 'Month', 'MonthBin', 'Day', 'DayBin', 'X', 'XBin', 'Y', 'YBin']].tail(10))\n",
    "# print(train_data.info())"
   ]
  },
  {
   "cell_type": "code",
   "execution_count": 39,
   "metadata": {},
   "outputs": [],
   "source": [
    "weekday = ['Monday', 'Tuesday','Wednesday', 'Thursday','Friday']\n",
    "for dataset in data_cleaner:\n",
    "    # check if its a weekday or not \n",
    "    dataset['isWeekday'] = dataset['DayOfWeek'].map(lambda x: x in weekday)"
   ]
  },
  {
   "cell_type": "code",
   "execution_count": 40,
   "metadata": {},
   "outputs": [
    {
     "name": "stdout",
     "output_type": "stream",
     "text": [
      "    DayOfWeek  isWeekday\n",
      "0   Wednesday       True\n",
      "1   Wednesday       True\n",
      "2   Wednesday       True\n",
      "3   Wednesday       True\n",
      "4   Wednesday       True\n",
      "5   Wednesday       True\n",
      "6   Wednesday       True\n",
      "7   Wednesday       True\n",
      "8   Wednesday       True\n",
      "9   Wednesday       True\n",
      "10  Wednesday       True\n",
      "11  Wednesday       True\n",
      "12  Wednesday       True\n",
      "13  Wednesday       True\n",
      "14  Wednesday       True\n",
      "15  Wednesday       True\n",
      "16  Wednesday       True\n",
      "17  Wednesday       True\n",
      "18  Wednesday       True\n",
      "19  Wednesday       True\n",
      "       DayOfWeek  isWeekday\n",
      "878029    Monday       True\n",
      "878030    Monday       True\n",
      "878031    Monday       True\n",
      "878032    Monday       True\n",
      "878033    Monday       True\n",
      "878034    Monday       True\n",
      "878035    Monday       True\n",
      "878036    Monday       True\n",
      "878037    Monday       True\n",
      "878038    Monday       True\n",
      "878039    Monday       True\n",
      "878040    Monday       True\n",
      "878041    Monday       True\n",
      "878042    Monday       True\n",
      "878043    Monday       True\n",
      "878044    Monday       True\n",
      "878045    Monday       True\n",
      "878046    Monday       True\n",
      "878047    Monday       True\n",
      "878048    Monday       True\n"
     ]
    }
   ],
   "source": [
    "print(train_data[['DayOfWeek', 'isWeekday']].head(20))\n",
    "print(train_data[['DayOfWeek', 'isWeekday']].tail(20))"
   ]
  },
  {
   "cell_type": "code",
   "execution_count": 32,
   "metadata": {},
   "outputs": [],
   "source": [
    "# create a counter for crimes that occurred on same day\n",
    "# print(train_data['Year'].value_counts())\n",
    "# print(train_data['Month'].value_counts())\n",
    "# print(train_data['Day'].value_counts())"
   ]
  },
  {
   "cell_type": "code",
   "execution_count": 41,
   "metadata": {},
   "outputs": [],
   "source": [
    "for dataset in data_cleaner:\n",
    "    dataset['Date_Crime_Count'] = dataset['Year']+'-'+dataset['Month']+'-'+dataset['Day']\n",
    "    dict_crime_count = dataset['Date_Crime_Count'].value_counts().to_dict()\n",
    "    dataset['Same_Date_Crime_Counter'] = dataset['Date_Crime_Count'].map(lambda x: dict_crime_count[x])"
   ]
  },
  {
   "cell_type": "code",
   "execution_count": 43,
   "metadata": {},
   "outputs": [],
   "source": [
    "# print(train_data.head(10))\n",
    "# print(train_data.info())"
   ]
  },
  {
   "cell_type": "markdown",
   "metadata": {},
   "source": [
    "# Covert Formats"
   ]
  },
  {
   "cell_type": "code",
   "execution_count": 44,
   "metadata": {},
   "outputs": [],
   "source": [
    "label = LabelEncoder()"
   ]
  },
  {
   "cell_type": "code",
   "execution_count": 45,
   "metadata": {},
   "outputs": [],
   "source": [
    "for dataset in data_cleaner:\n",
    "    dataset['Address_Code'] = label.fit_transform(dataset['Address'])\n",
    "    dataset['isWeekday_Code'] = label.fit_transform(dataset['isWeekday'])\n",
    "    dataset['Address_Code'] = label.fit_transform(dataset['Address'])\n",
    "    dataset['Workhour_Code'] = label.fit_transform(dataset['Workhour'])\n",
    "    dataset['isHoliday_Code'] = label.fit_transform(dataset['isHoliday'])"
   ]
  },
  {
   "cell_type": "code",
   "execution_count": 37,
   "metadata": {},
   "outputs": [],
   "source": [
    "# labeled_data = ['Address_Code','isWeekday_Code','Address_Code','Workhour_Code','isHoliday_Code']\n",
    "# print(train_data[labeled_data])"
   ]
  },
  {
   "cell_type": "code",
   "execution_count": 46,
   "metadata": {},
   "outputs": [],
   "source": [
    "for dataset in data_cleaner:\n",
    "    dataset['Year'] = dataset['Year'].map(lambda x: int(x))\n",
    "    dataset['Month'] = dataset['Month'].map(lambda x: int(x))\n",
    "    dataset['Day'] = dataset['Day'].map(lambda x: int(x))\n",
    "    dataset['Hour'] = dataset['Hour'].map(lambda x: int(x))\n",
    "    dataset['Minute'] = dataset['Minute'].map(lambda x: int(x))\n",
    "    dataset['Second'] = dataset['Second'].map(lambda x: int(x))\n",
    "    dataset.drop('Day_Time', axis=1, inplace=True)\n",
    "    dataset.drop('Time_List', axis=1, inplace=True)\n",
    "    dataset.drop('Day_Time_List', axis=1, inplace=True)\n",
    "    dataset.drop('Date_Crime_Count', axis=1, inplace=True)\n",
    "    \n",
    "    "
   ]
  },
  {
   "cell_type": "code",
   "execution_count": 47,
   "metadata": {},
   "outputs": [],
   "source": [
    "# train_data['Same_Date_Crime_Counter'].head()"
   ]
  },
  {
   "cell_type": "code",
   "execution_count": 48,
   "metadata": {},
   "outputs": [],
   "source": [
    "# print(train_data.info())"
   ]
  },
  {
   "cell_type": "code",
   "execution_count": 50,
   "metadata": {},
   "outputs": [],
   "source": [
    "train_data['Category_Code'] = label.fit_transform(train_data['Category'])\n",
    "# print(type(train_data['Category_Code'].tolist()))"
   ]
  },
  {
   "cell_type": "code",
   "execution_count": 51,
   "metadata": {},
   "outputs": [],
   "source": [
    "# train_data['Category'].value_counts()"
   ]
  },
  {
   "cell_type": "code",
   "execution_count": 52,
   "metadata": {},
   "outputs": [],
   "source": [
    "Target = ['Category']"
   ]
  },
  {
   "cell_type": "code",
   "execution_count": 53,
   "metadata": {},
   "outputs": [],
   "source": [
    "Target_dummy = pd.get_dummies(train_data['Category'])"
   ]
  },
  {
   "cell_type": "code",
   "execution_count": 55,
   "metadata": {},
   "outputs": [],
   "source": [
    "# print(Target_dummy.head())"
   ]
  },
  {
   "cell_type": "code",
   "execution_count": 65,
   "metadata": {},
   "outputs": [],
   "source": [
    "data_x = ['Year', 'Month', 'Day', 'Hour', 'Address_Code', \n",
    "          'isWeekday_Code', 'isHoliday_Code', 'Workhour_Code', \n",
    "          'Same_Date_Crime_Counter']\n",
    "data_x_bin = ['YearBin', 'MonthBin', 'DayBin']\n",
    "# data_x_dummy = pd.get_dummies(train_data[data_x])\n",
    "# data_xy = Target + data_x\n",
    "# print(data_x_dummy.head())"
   ]
  },
  {
   "cell_type": "code",
   "execution_count": 57,
   "metadata": {},
   "outputs": [],
   "source": [
    "# train_data.info()\n",
    "data_x_dummy = pd.get_dummies(train_data[data_x])"
   ]
  },
  {
   "cell_type": "markdown",
   "metadata": {},
   "source": [
    "## Dummy data"
   ]
  },
  {
   "cell_type": "code",
   "execution_count": 58,
   "metadata": {},
   "outputs": [],
   "source": [
    "days_dummy = pd.get_dummies(train_data[\"DayOfWeek\"])\n",
    "district_dummy = pd.get_dummies(dataset['PdDistrict'])"
   ]
  },
  {
   "cell_type": "code",
   "execution_count": 59,
   "metadata": {},
   "outputs": [],
   "source": [
    "# print(data_x_dummy.shape)\n",
    "# print(days_dummy)"
   ]
  },
  {
   "cell_type": "markdown",
   "metadata": {},
   "source": [
    "# Statistics"
   ]
  },
  {
   "cell_type": "code",
   "execution_count": 60,
   "metadata": {},
   "outputs": [],
   "source": [
    "#correlation heatmap of dataset\n",
    "def correlation_heatmap(df):\n",
    "    _ , ax = plt.subplots(figsize =(14, 12))\n",
    "    colormap = sns.diverging_palette(220, 10, as_cmap = True)\n",
    "    \n",
    "    _ = sns.heatmap(\n",
    "        df.corr(), \n",
    "        cmap = colormap,\n",
    "        square=True, \n",
    "        cbar_kws={'shrink':.9 }, \n",
    "        ax=ax,\n",
    "        annot=True, \n",
    "        linewidths=0.1,vmax=1.0, linecolor='white',\n",
    "        annot_kws={'fontsize':12 }\n",
    "    )\n",
    "    \n",
    "    plt.title('Heatmap', y=1.05, size=15)"
   ]
  },
  {
   "cell_type": "code",
   "execution_count": 61,
   "metadata": {},
   "outputs": [],
   "source": [
    "# print(train_data.info())"
   ]
  },
  {
   "cell_type": "code",
   "execution_count": 62,
   "metadata": {},
   "outputs": [
    {
     "data": {
      "image/png": "[encoded data removed]",
      "text/plain": [
       "<Figure size 1008x864 with 2 Axes>"
      ]
     },
     "metadata": {},
     "output_type": "display_data"
    }
   ],
   "source": [
    "correlation_heatmap(train_data.drop(['Workhour', 'isHoliday', 'Workhour_Code', 'Second', 'isHoliday_Code'], axis=1))\n",
    "# plt.savefig('Heatmap_of_Features.png')"
   ]
  },
  {
   "cell_type": "code",
   "execution_count": 140,
   "metadata": {},
   "outputs": [],
   "source": [
    "# sns.barplot(x = 'isWeekday', y = 'Same_Date_Crime_Counter', data=train_data, ax = qaxis[0])\n",
    "# axis1.set_title('Weekend day crimes')\n",
    "\n",
    "# sns.barplot(x = 'isHoliday', y = 'Same_Date_Crime_Counter', data=train_data, ax = qaxis[1])\n",
    "# # axis2.set_title('Weekend day crimes')"
   ]
  },
  {
   "cell_type": "code",
   "execution_count": 141,
   "metadata": {},
   "outputs": [],
   "source": [
    "# plt.plot()"
   ]
  },
  {
   "cell_type": "markdown",
   "metadata": {},
   "source": [
    "# Machine Learning"
   ]
  },
  {
   "cell_type": "code",
   "execution_count": 63,
   "metadata": {},
   "outputs": [],
   "source": [
    "MLA = [\n",
    "    #Ensemble Methods\n",
    "    ensemble.AdaBoostClassifier(),\n",
    "    ensemble.BaggingClassifier(),\n",
    "    ensemble.ExtraTreesClassifier(),\n",
    "    ensemble.GradientBoostingClassifier(),\n",
    "    ensemble.RandomForestClassifier(),\n",
    "\n",
    "    #Gaussian Processes\n",
    "    gaussian_process.GaussianProcessClassifier(),\n",
    "    \n",
    "    #GLM\n",
    "    linear_model.LogisticRegressionCV(),\n",
    "    linear_model.PassiveAggressiveClassifier(),\n",
    "    linear_model.RidgeClassifierCV(),\n",
    "    linear_model.SGDClassifier(),\n",
    "    linear_model.Perceptron(),\n",
    "    \n",
    "    #Navies Bayes\n",
    "    naive_bayes.BernoulliNB(),\n",
    "    naive_bayes.GaussianNB(),\n",
    "    \n",
    "    #Nearest Neighbor\n",
    "    neighbors.KNeighborsClassifier(),\n",
    "    \n",
    "    #SVM\n",
    "    svm.SVC(probability=True),\n",
    "    svm.NuSVC(probability=True),\n",
    "    svm.LinearSVC(),\n",
    "    \n",
    "    #Trees    \n",
    "    tree.DecisionTreeClassifier(),\n",
    "    tree.ExtraTreeClassifier(),\n",
    "    \n",
    "    #Discriminant Analysis\n",
    "    discriminant_analysis.LinearDiscriminantAnalysis(),\n",
    "    discriminant_analysis.QuadraticDiscriminantAnalysis(),\n",
    "]\n"
   ]
  },
  {
   "cell_type": "markdown",
   "metadata": {},
   "source": [
    "## Train/Fit the Models"
   ]
  },
  {
   "cell_type": "markdown",
   "metadata": {},
   "source": [
    "## Train/Test Split\n",
    "- have plenty of data no need for cross validation"
   ]
  },
  {
   "cell_type": "code",
   "execution_count": 66,
   "metadata": {},
   "outputs": [
    {
     "name": "stdout",
     "output_type": "stream",
     "text": [
      "Total shape: (878049, 32) (878049, 39)\n",
      "Train shape: (658536, 9) (658536,)\n",
      "Test shape: (219513, 9) (219513,)\n"
     ]
    }
   ],
   "source": [
    "train_X, test_X, train_y, test_y = model_selection.train_test_split(train_data[data_x], train_data['Category_Code'], random_state=0)\n",
    "print('Total shape:', train_data.shape,  Target_dummy.shape)\n",
    "print('Train shape:', train_X.shape, train_y.shape)\n",
    "print('Test shape:', test_X.shape, test_y.shape)"
   ]
  },
  {
   "cell_type": "code",
   "execution_count": 67,
   "metadata": {},
   "outputs": [
    {
     "name": "stdout",
     "output_type": "stream",
     "text": [
      "alg: BernoulliNB\n"
     ]
    }
   ],
   "source": [
    "test_clf = MLA[11]\n",
    "print(\"alg:\", test_clf.__class__.__name__)\n",
    "# test_clf.fit(train_X, train_y)\n",
    "# print(test_clf.score(test_X, test_y))"
   ]
  },
  {
   "cell_type": "code",
   "execution_count": 68,
   "metadata": {},
   "outputs": [
    {
     "data": {
      "text/plain": [
       "BernoulliNB(alpha=1.0, binarize=0.0, class_prior=None, fit_prior=True)"
      ]
     },
     "execution_count": 68,
     "metadata": {},
     "output_type": "execute_result"
    }
   ],
   "source": [
    "test_clf.fit(train_X, train_y)"
   ]
  },
  {
   "cell_type": "code",
   "execution_count": 204,
   "metadata": {},
   "outputs": [
    {
     "name": "stdout",
     "output_type": "stream",
     "text": [
      "alg: AdaBoostClassifier\n"
     ]
    },
    {
     "ename": "KeyboardInterrupt",
     "evalue": "",
     "output_type": "error",
     "traceback": [
      "\u001b[1;31m---------------------------------------------------------------------------\u001b[0m",
      "\u001b[1;31mKeyboardInterrupt\u001b[0m                         Traceback (most recent call last)",
      "\u001b[1;32m<ipython-input-204-3af1f35c6612>\u001b[0m in \u001b[0;36m<module>\u001b[1;34m()\u001b[0m\n\u001b[0;32m      1\u001b[0m \u001b[1;32mfor\u001b[0m \u001b[0mmodel\u001b[0m \u001b[1;32min\u001b[0m \u001b[0mMLA\u001b[0m\u001b[1;33m:\u001b[0m\u001b[1;33m\u001b[0m\u001b[0m\n\u001b[0;32m      2\u001b[0m     \u001b[0mprint\u001b[0m\u001b[1;33m(\u001b[0m\u001b[1;34m'alg:'\u001b[0m\u001b[1;33m,\u001b[0m \u001b[0mmodel\u001b[0m\u001b[1;33m.\u001b[0m\u001b[0m__class__\u001b[0m\u001b[1;33m.\u001b[0m\u001b[0m__name__\u001b[0m\u001b[1;33m)\u001b[0m\u001b[1;33m\u001b[0m\u001b[0m\n\u001b[1;32m----> 3\u001b[1;33m     \u001b[0mmodel\u001b[0m\u001b[1;33m.\u001b[0m\u001b[0mfit\u001b[0m\u001b[1;33m(\u001b[0m\u001b[0mtrain_X\u001b[0m\u001b[1;33m,\u001b[0m \u001b[0mtrain_y\u001b[0m\u001b[1;33m)\u001b[0m\u001b[1;33m\u001b[0m\u001b[0m\n\u001b[0m\u001b[0;32m      4\u001b[0m     \u001b[0mprint\u001b[0m\u001b[1;33m(\u001b[0m\u001b[1;34m'train score'\u001b[0m\u001b[1;33m,\u001b[0m \u001b[0mmodel\u001b[0m\u001b[1;33m.\u001b[0m\u001b[0mscore\u001b[0m\u001b[1;33m(\u001b[0m\u001b[0mtrain_X\u001b[0m\u001b[1;33m,\u001b[0m \u001b[0mtrain_y\u001b[0m\u001b[1;33m)\u001b[0m\u001b[1;33m)\u001b[0m\u001b[1;33m\u001b[0m\u001b[0m\n\u001b[0;32m      5\u001b[0m     \u001b[0mprint\u001b[0m\u001b[1;33m(\u001b[0m\u001b[1;34m\"test score:\"\u001b[0m\u001b[1;33m,\u001b[0m \u001b[0mmodel\u001b[0m\u001b[1;33m.\u001b[0m\u001b[0mscore\u001b[0m\u001b[1;33m(\u001b[0m\u001b[0mtest_X\u001b[0m\u001b[1;33m,\u001b[0m \u001b[0mtest_y\u001b[0m\u001b[1;33m)\u001b[0m\u001b[1;33m)\u001b[0m\u001b[1;33m\u001b[0m\u001b[0m\n",
      "\u001b[1;32mc:\\users\\farooq\\appdata\\local\\programs\\python\\python36\\lib\\site-packages\\sklearn\\ensemble\\weight_boosting.py\u001b[0m in \u001b[0;36mfit\u001b[1;34m(self, X, y, sample_weight)\u001b[0m\n\u001b[0;32m    409\u001b[0m \u001b[1;33m\u001b[0m\u001b[0m\n\u001b[0;32m    410\u001b[0m         \u001b[1;31m# Fit\u001b[0m\u001b[1;33m\u001b[0m\u001b[1;33m\u001b[0m\u001b[0m\n\u001b[1;32m--> 411\u001b[1;33m         \u001b[1;32mreturn\u001b[0m \u001b[0msuper\u001b[0m\u001b[1;33m(\u001b[0m\u001b[0mAdaBoostClassifier\u001b[0m\u001b[1;33m,\u001b[0m \u001b[0mself\u001b[0m\u001b[1;33m)\u001b[0m\u001b[1;33m.\u001b[0m\u001b[0mfit\u001b[0m\u001b[1;33m(\u001b[0m\u001b[0mX\u001b[0m\u001b[1;33m,\u001b[0m \u001b[0my\u001b[0m\u001b[1;33m,\u001b[0m \u001b[0msample_weight\u001b[0m\u001b[1;33m)\u001b[0m\u001b[1;33m\u001b[0m\u001b[0m\n\u001b[0m\u001b[0;32m    412\u001b[0m \u001b[1;33m\u001b[0m\u001b[0m\n\u001b[0;32m    413\u001b[0m     \u001b[1;32mdef\u001b[0m \u001b[0m_validate_estimator\u001b[0m\u001b[1;33m(\u001b[0m\u001b[0mself\u001b[0m\u001b[1;33m)\u001b[0m\u001b[1;33m:\u001b[0m\u001b[1;33m\u001b[0m\u001b[0m\n",
      "\u001b[1;32mc:\\users\\farooq\\appdata\\local\\programs\\python\\python36\\lib\\site-packages\\sklearn\\ensemble\\weight_boosting.py\u001b[0m in \u001b[0;36mfit\u001b[1;34m(self, X, y, sample_weight)\u001b[0m\n\u001b[0;32m    154\u001b[0m                 \u001b[1;32mbreak\u001b[0m\u001b[1;33m\u001b[0m\u001b[0m\n\u001b[0;32m    155\u001b[0m \u001b[1;33m\u001b[0m\u001b[0m\n\u001b[1;32m--> 156\u001b[1;33m             \u001b[0msample_weight_sum\u001b[0m \u001b[1;33m=\u001b[0m \u001b[0mnp\u001b[0m\u001b[1;33m.\u001b[0m\u001b[0msum\u001b[0m\u001b[1;33m(\u001b[0m\u001b[0msample_weight\u001b[0m\u001b[1;33m)\u001b[0m\u001b[1;33m\u001b[0m\u001b[0m\n\u001b[0m\u001b[0;32m    157\u001b[0m \u001b[1;33m\u001b[0m\u001b[0m\n\u001b[0;32m    158\u001b[0m             \u001b[1;31m# Stop if the sum of sample weights has become non-positive\u001b[0m\u001b[1;33m\u001b[0m\u001b[1;33m\u001b[0m\u001b[0m\n",
      "\u001b[1;32mc:\\users\\farooq\\appdata\\local\\programs\\python\\python36\\lib\\site-packages\\numpy\\core\\fromnumeric.py\u001b[0m in \u001b[0;36msum\u001b[1;34m(a, axis, dtype, out, keepdims)\u001b[0m\n\u001b[0;32m   1880\u001b[0m             \u001b[1;32mreturn\u001b[0m \u001b[0msum\u001b[0m\u001b[1;33m(\u001b[0m\u001b[0maxis\u001b[0m\u001b[1;33m=\u001b[0m\u001b[0maxis\u001b[0m\u001b[1;33m,\u001b[0m \u001b[0mdtype\u001b[0m\u001b[1;33m=\u001b[0m\u001b[0mdtype\u001b[0m\u001b[1;33m,\u001b[0m \u001b[0mout\u001b[0m\u001b[1;33m=\u001b[0m\u001b[0mout\u001b[0m\u001b[1;33m,\u001b[0m \u001b[1;33m**\u001b[0m\u001b[0mkwargs\u001b[0m\u001b[1;33m)\u001b[0m\u001b[1;33m\u001b[0m\u001b[0m\n\u001b[0;32m   1881\u001b[0m     return _methods._sum(a, axis=axis, dtype=dtype,\n\u001b[1;32m-> 1882\u001b[1;33m                          out=out, **kwargs)\n\u001b[0m\u001b[0;32m   1883\u001b[0m \u001b[1;33m\u001b[0m\u001b[0m\n\u001b[0;32m   1884\u001b[0m \u001b[1;33m\u001b[0m\u001b[0m\n",
      "\u001b[1;32mc:\\users\\farooq\\appdata\\local\\programs\\python\\python36\\lib\\site-packages\\numpy\\core\\_methods.py\u001b[0m in \u001b[0;36m_sum\u001b[1;34m(a, axis, dtype, out, keepdims)\u001b[0m\n\u001b[0;32m     30\u001b[0m \u001b[1;33m\u001b[0m\u001b[0m\n\u001b[0;32m     31\u001b[0m \u001b[1;32mdef\u001b[0m \u001b[0m_sum\u001b[0m\u001b[1;33m(\u001b[0m\u001b[0ma\u001b[0m\u001b[1;33m,\u001b[0m \u001b[0maxis\u001b[0m\u001b[1;33m=\u001b[0m\u001b[1;32mNone\u001b[0m\u001b[1;33m,\u001b[0m \u001b[0mdtype\u001b[0m\u001b[1;33m=\u001b[0m\u001b[1;32mNone\u001b[0m\u001b[1;33m,\u001b[0m \u001b[0mout\u001b[0m\u001b[1;33m=\u001b[0m\u001b[1;32mNone\u001b[0m\u001b[1;33m,\u001b[0m \u001b[0mkeepdims\u001b[0m\u001b[1;33m=\u001b[0m\u001b[1;32mFalse\u001b[0m\u001b[1;33m)\u001b[0m\u001b[1;33m:\u001b[0m\u001b[1;33m\u001b[0m\u001b[0m\n\u001b[1;32m---> 32\u001b[1;33m     \u001b[1;32mreturn\u001b[0m \u001b[0mumr_sum\u001b[0m\u001b[1;33m(\u001b[0m\u001b[0ma\u001b[0m\u001b[1;33m,\u001b[0m \u001b[0maxis\u001b[0m\u001b[1;33m,\u001b[0m \u001b[0mdtype\u001b[0m\u001b[1;33m,\u001b[0m \u001b[0mout\u001b[0m\u001b[1;33m,\u001b[0m \u001b[0mkeepdims\u001b[0m\u001b[1;33m)\u001b[0m\u001b[1;33m\u001b[0m\u001b[0m\n\u001b[0m\u001b[0;32m     33\u001b[0m \u001b[1;33m\u001b[0m\u001b[0m\n\u001b[0;32m     34\u001b[0m \u001b[1;32mdef\u001b[0m \u001b[0m_prod\u001b[0m\u001b[1;33m(\u001b[0m\u001b[0ma\u001b[0m\u001b[1;33m,\u001b[0m \u001b[0maxis\u001b[0m\u001b[1;33m=\u001b[0m\u001b[1;32mNone\u001b[0m\u001b[1;33m,\u001b[0m \u001b[0mdtype\u001b[0m\u001b[1;33m=\u001b[0m\u001b[1;32mNone\u001b[0m\u001b[1;33m,\u001b[0m \u001b[0mout\u001b[0m\u001b[1;33m=\u001b[0m\u001b[1;32mNone\u001b[0m\u001b[1;33m,\u001b[0m \u001b[0mkeepdims\u001b[0m\u001b[1;33m=\u001b[0m\u001b[1;32mFalse\u001b[0m\u001b[1;33m)\u001b[0m\u001b[1;33m:\u001b[0m\u001b[1;33m\u001b[0m\u001b[0m\n",
      "\u001b[1;31mKeyboardInterrupt\u001b[0m: "
     ]
    }
   ],
   "source": [
    "for model in MLA:\n",
    "    print('alg:', model.__class__.__name__)\n",
    "    model.fit(train_X, train_y)\n",
    "    print('train score', model.score(train_X, train_y))\n",
    "    print(\"test score:\", model.score(test_X, test_y))\n",
    "    predictions = model.predict_proba(test_X)\n",
    "    print('log loss:', metrics.log_loss(test_y, predictions))"
   ]
  },
  {
   "cell_type": "markdown",
   "metadata": {},
   "source": [
    "## Log Loss / Score"
   ]
  },
  {
   "cell_type": "code",
   "execution_count": 69,
   "metadata": {},
   "outputs": [],
   "source": [
    "predictions = test_clf.predict_proba(test_X)\n",
    "# metrics.log_loss(Target, )"
   ]
  },
  {
   "cell_type": "code",
   "execution_count": 70,
   "metadata": {},
   "outputs": [
    {
     "name": "stdout",
     "output_type": "stream",
     "text": [
      "2.6749621635068026\n",
      "0.19866249379307832\n",
      "0.20065721539900627\n"
     ]
    }
   ],
   "source": [
    "print(metrics.log_loss(test_y, predictions))\n",
    "print(test_clf.score(test_X, test_y))\n",
    "print(test_clf.score(train_X, train_y))"
   ]
  },
  {
   "cell_type": "markdown",
   "metadata": {},
   "source": [
    "# Submit Test Data"
   ]
  },
  {
   "cell_type": "code",
   "execution_count": 192,
   "metadata": {},
   "outputs": [],
   "source": [
    "categories = [c for c in train_data['Category'].unique()]\n",
    "categories = sorted(categories)"
   ]
  },
  {
   "cell_type": "code",
   "execution_count": 193,
   "metadata": {},
   "outputs": [],
   "source": [
    "# print(categories)\n",
    "test_submission = test_data.copy(deep=True)"
   ]
  },
  {
   "cell_type": "code",
   "execution_count": 194,
   "metadata": {},
   "outputs": [],
   "source": [
    "for category in categories:\n",
    "    test_submission[category] = test_submission['X'].map(lambda x: 0)\n",
    "test_submission['WARRANTS'] = test_submission['X'].map(lambda x: 1)"
   ]
  },
  {
   "cell_type": "code",
   "execution_count": 195,
   "metadata": {},
   "outputs": [
    {
     "name": "stdout",
     "output_type": "stream",
     "text": [
      "            Id                Dates  DayOfWeek PdDistrict  \\\n",
      "884257  884257  2003-01-01 00:01:00  Wednesday    MISSION   \n",
      "884258  884258  2003-01-01 00:01:00  Wednesday   NORTHERN   \n",
      "884259  884259  2003-01-01 00:01:00  Wednesday  INGLESIDE   \n",
      "884260  884260  2003-01-01 00:01:00  Wednesday    BAYVIEW   \n",
      "884261  884261  2003-01-01 00:01:00  Wednesday    TARAVAL   \n",
      "\n",
      "                            Address           X          Y  \\\n",
      "884257      2600 Block of BRYANT ST -122.408983  37.751987   \n",
      "884258  1900 Block of WASHINGTON ST -122.425342  37.792681   \n",
      "884259     5500 Block of MISSION ST -122.445418  37.712075   \n",
      "884260      1500 Block of HUDSON AV -122.387394  37.739479   \n",
      "884261       1500 Block of SLOAT BL -122.489714  37.733950   \n",
      "\n",
      "                      List_Date  Year  Month     ...      \\\n",
      "884257  [2003, 01, 01 00:01:00]  2003      1     ...       \n",
      "884258  [2003, 01, 01 00:01:00]  2003      1     ...       \n",
      "884259  [2003, 01, 01 00:01:00]  2003      1     ...       \n",
      "884260  [2003, 01, 01 00:01:00]  2003      1     ...       \n",
      "884261  [2003, 01, 01 00:01:00]  2003      1     ...       \n",
      "\n",
      "        SEX OFFENSES NON FORCIBLE  STOLEN PROPERTY  SUICIDE  SUSPICIOUS OCC  \\\n",
      "884257                          0                0        0               0   \n",
      "884258                          0                0        0               0   \n",
      "884259                          0                0        0               0   \n",
      "884260                          0                0        0               0   \n",
      "884261                          0                0        0               0   \n",
      "\n",
      "        TREA TRESPASS VANDALISM VEHICLE THEFT WARRANTS WEAPON LAWS  \n",
      "884257     0        0         0             0        1           0  \n",
      "884258     0        0         0             0        1           0  \n",
      "884259     0        0         0             0        1           0  \n",
      "884260     0        0         0             0        1           0  \n",
      "884261     0        0         0             0        1           0  \n",
      "\n",
      "[5 rows x 68 columns]\n"
     ]
    }
   ],
   "source": [
    "print(test_submission.tail())\n",
    "# 884262"
   ]
  },
  {
   "cell_type": "code",
   "execution_count": 203,
   "metadata": {},
   "outputs": [
    {
     "name": "stdout",
     "output_type": "stream",
     "text": [
      "['Id', 'Dates', 'DayOfWeek', 'PdDistrict', 'Address', 'X', 'Y', 'List_Date', 'Year', 'Month', 'Day', 'Hour', 'Minute', 'Second', 'Workhour', 'DateTimeModuel', 'isHoliday', 'YearBin', 'MonthBin', 'DayBin', 'HourBin', 'XBin', 'YBin', 'isWeekday', 'Same_Date_Crime_Counter', 'Address_Code', 'isWeekday_Code', 'Workhour_Code', 'isHoliday_Code']\n"
     ]
    }
   ],
   "source": [
    "droping_this_col = []\n",
    "for col in list(test_submission):\n",
    "    if col not in categories:\n",
    "        droping_this_col.append(col)\n",
    "print(droping_this_col)"
   ]
  },
  {
   "cell_type": "code",
   "execution_count": 204,
   "metadata": {},
   "outputs": [],
   "source": [
    "test_submission.drop(droping_this_col, axis=1, inplace=True)"
   ]
  },
  {
   "cell_type": "code",
   "execution_count": 205,
   "metadata": {},
   "outputs": [
    {
     "name": "stdout",
     "output_type": "stream",
     "text": [
      "<class 'pandas.core.frame.DataFrame'>\n",
      "RangeIndex: 884262 entries, 0 to 884261\n",
      "Data columns (total 39 columns):\n",
      "ARSON                          884262 non-null int64\n",
      "ASSAULT                        884262 non-null int64\n",
      "BAD CHECKS                     884262 non-null int64\n",
      "BRIBERY                        884262 non-null int64\n",
      "BURGLARY                       884262 non-null int64\n",
      "DISORDERLY CONDUCT             884262 non-null int64\n",
      "DRIVING UNDER THE INFLUENCE    884262 non-null int64\n",
      "DRUG/NARCOTIC                  884262 non-null int64\n",
      "DRUNKENNESS                    884262 non-null int64\n",
      "EMBEZZLEMENT                   884262 non-null int64\n",
      "EXTORTION                      884262 non-null int64\n",
      "FAMILY OFFENSES                884262 non-null int64\n",
      "FORGERY/COUNTERFEITING         884262 non-null int64\n",
      "FRAUD                          884262 non-null int64\n",
      "GAMBLING                       884262 non-null int64\n",
      "KIDNAPPING                     884262 non-null int64\n",
      "LARCENY/THEFT                  884262 non-null int64\n",
      "LIQUOR LAWS                    884262 non-null int64\n",
      "LOITERING                      884262 non-null int64\n",
      "MISSING PERSON                 884262 non-null int64\n",
      "NON-CRIMINAL                   884262 non-null int64\n",
      "OTHER OFFENSES                 884262 non-null int64\n",
      "PORNOGRAPHY/OBSCENE MAT        884262 non-null int64\n",
      "PROSTITUTION                   884262 non-null int64\n",
      "RECOVERED VEHICLE              884262 non-null int64\n",
      "ROBBERY                        884262 non-null int64\n",
      "RUNAWAY                        884262 non-null int64\n",
      "SECONDARY CODES                884262 non-null int64\n",
      "SEX OFFENSES FORCIBLE          884262 non-null int64\n",
      "SEX OFFENSES NON FORCIBLE      884262 non-null int64\n",
      "STOLEN PROPERTY                884262 non-null int64\n",
      "SUICIDE                        884262 non-null int64\n",
      "SUSPICIOUS OCC                 884262 non-null int64\n",
      "TREA                           884262 non-null int64\n",
      "TRESPASS                       884262 non-null int64\n",
      "VANDALISM                      884262 non-null int64\n",
      "VEHICLE THEFT                  884262 non-null int64\n",
      "WARRANTS                       884262 non-null int64\n",
      "WEAPON LAWS                    884262 non-null int64\n",
      "dtypes: int64(39)\n",
      "memory usage: 263.1 MB\n"
     ]
    }
   ],
   "source": [
    "test_submission.info()"
   ]
  },
  {
   "cell_type": "code",
   "execution_count": 207,
   "metadata": {},
   "outputs": [],
   "source": [
    "test_submission.to_csv('testing_warrants.csv')"
   ]
  }
 ],
 "metadata": {
  "kernelspec": {
   "display_name": "Python 3",
   "language": "python",
   "name": "python3"
  },
  "language_info": {
   "codemirror_mode": {
    "name": "ipython",
    "version": 3
   },
   "file_extension": ".py",
   "mimetype": "text/x-python",
   "name": "python",
   "nbconvert_exporter": "python",
   "pygments_lexer": "ipython3",
   "version": "3.6.2rc1"
  }
 },
 "nbformat": 4,
 "nbformat_minor": 2
}
