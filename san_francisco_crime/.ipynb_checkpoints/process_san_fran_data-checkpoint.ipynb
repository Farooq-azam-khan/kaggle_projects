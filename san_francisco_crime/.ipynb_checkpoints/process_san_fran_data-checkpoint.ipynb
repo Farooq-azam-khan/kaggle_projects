{
 "cells": [
  {
   "cell_type": "code",
   "execution_count": 1,
   "metadata": {},
   "outputs": [],
   "source": [
    "# System modules\n",
    "import sys\n",
    "import random\n",
    "import time\n",
    "import datetime \n",
    "\n",
    "# Data Analysis and Modeling modules\n",
    "import sklearn\n",
    "import pandas as pd\n",
    "import numpy as np\n",
    "import scipy as sp"
   ]
  },
  {
   "cell_type": "code",
   "execution_count": 2,
   "metadata": {},
   "outputs": [],
   "source": [
    "train_data_raw = pd.read_csv(\"./data/train.csv\")\n",
    "test_data = pd.read_csv(\"./data/test.csv\")"
   ]
  },
  {
   "cell_type": "code",
   "execution_count": 139,
   "metadata": {},
   "outputs": [],
   "source": [
    "# Create a copy of the data to work on\n",
    "train_data = train_data_raw.copy(deep=True)\n",
    "data_cleaner = [train_data, test_data]"
   ]
  },
  {
   "cell_type": "code",
   "execution_count": 141,
   "metadata": {},
   "outputs": [
    {
     "name": "stdout",
     "output_type": "stream",
     "text": [
      "<class 'pandas.core.frame.DataFrame'>\n",
      "RangeIndex: 878049 entries, 0 to 878048\n",
      "Data columns (total 9 columns):\n",
      "Dates         878049 non-null object\n",
      "Category      878049 non-null object\n",
      "Descript      878049 non-null object\n",
      "DayOfWeek     878049 non-null object\n",
      "PdDistrict    878049 non-null object\n",
      "Resolution    878049 non-null object\n",
      "Address       878049 non-null object\n",
      "X             878049 non-null float64\n",
      "Y             878049 non-null float64\n",
      "dtypes: float64(2), object(7)\n",
      "memory usage: 60.3+ MB\n"
     ]
    }
   ],
   "source": [
    "train_data.info()"
   ]
  },
  {
   "cell_type": "code",
   "execution_count": 142,
   "metadata": {},
   "outputs": [
    {
     "name": "stdout",
     "output_type": "stream",
     "text": [
      "finished one\n",
      "finished one\n"
     ]
    }
   ],
   "source": [
    "# convert 'Dates' to datetime object\n",
    "for dataset in data_cleaner:\n",
    "    dataset['Datetime_Dates'] = dataset['Dates'].map(lambda x: datetime.datetime.strptime(x, '%Y-%m-%d %H:%M:%S'))\n",
    "    print('finished one')"
   ]
  },
  {
   "cell_type": "code",
   "execution_count": 6,
   "metadata": {},
   "outputs": [
    {
     "name": "stdout",
     "output_type": "stream",
     "text": [
      "0   2015-05-13 23:53:00\n",
      "1   2015-05-13 23:53:00\n",
      "2   2015-05-13 23:33:00\n",
      "3   2015-05-13 23:30:00\n",
      "4   2015-05-13 23:30:00\n",
      "Name: Datetime_Dates, dtype: datetime64[ns]\n",
      "2015\n"
     ]
    }
   ],
   "source": [
    "print(train_data['Datetime_Dates'].head())\n",
    "print(train_data['Datetime_Dates'][0].year)"
   ]
  },
  {
   "cell_type": "code",
   "execution_count": 143,
   "metadata": {},
   "outputs": [],
   "source": [
    "# check if workday, holiday, daytime\n",
    "for dataset in data_cleaner:\n",
    "    dataset['Workhour'] = dataset['Datetime_Dates'].map(lambda x: 1 if x.hour in range(9, 17) else 0)"
   ]
  },
  {
   "cell_type": "code",
   "execution_count": 144,
   "metadata": {},
   "outputs": [
    {
     "name": "stdout",
     "output_type": "stream",
     "text": [
      "       Datetime_Dates  Workhour\n",
      "0 2015-05-13 23:53:00         0\n",
      "1 2015-05-13 23:53:00         0\n",
      "2 2015-05-13 23:33:00         0\n",
      "3 2015-05-13 23:30:00         0\n",
      "4 2015-05-13 23:30:00         0\n",
      "[0 1]\n",
      "count    878049.000000\n",
      "mean          0.397964\n",
      "std           0.489478\n",
      "min           0.000000\n",
      "25%           0.000000\n",
      "50%           0.000000\n",
      "75%           1.000000\n",
      "max           1.000000\n",
      "Name: Workhour, dtype: float64\n"
     ]
    }
   ],
   "source": [
    "print(train_data[['Datetime_Dates','Workhour']].head())\n",
    "print(train_data['Workhour'].unique())\n",
    "print(train_data['Workhour'].describe())"
   ]
  },
  {
   "cell_type": "code",
   "execution_count": 145,
   "metadata": {},
   "outputs": [],
   "source": [
    "# get a list of us federal holidays as a datetime object\n",
    "from pandas.tseries.holiday import USFederalHolidayCalendar\n",
    "days_off = USFederalHolidayCalendar().holidays(start='2003-01-01', end='2015-05-31').to_pydatetime()"
   ]
  },
  {
   "cell_type": "code",
   "execution_count": 146,
   "metadata": {},
   "outputs": [
    {
     "name": "stdout",
     "output_type": "stream",
     "text": [
      "finished one\n",
      "finished one\n"
     ]
    }
   ],
   "source": [
    "for dataset in data_cleaner:\n",
    "    # check if a datetime object is in the days_off list\n",
    "    dataset['isHoliday'] = dataset['Datetime_Dates'].map(lambda x : 1 if x in days_off else 0)\n",
    "    print('finished one')"
   ]
  },
  {
   "cell_type": "code",
   "execution_count": 147,
   "metadata": {},
   "outputs": [
    {
     "name": "stdout",
     "output_type": "stream",
     "text": [
      "       Datetime_Dates  Workhour\n",
      "0 2015-05-13 23:53:00         0\n",
      "1 2015-05-13 23:53:00         0\n",
      "2 2015-05-13 23:33:00         0\n",
      "3 2015-05-13 23:30:00         0\n",
      "4 2015-05-13 23:30:00         0\n",
      "[0 1]\n",
      "count    878049.000000\n",
      "mean          0.397964\n",
      "std           0.489478\n",
      "min           0.000000\n",
      "25%           0.000000\n",
      "50%           0.000000\n",
      "75%           1.000000\n",
      "max           1.000000\n",
      "Name: Workhour, dtype: float64\n"
     ]
    }
   ],
   "source": [
    "print(train_data[['Datetime_Dates','Workhour']].head())\n",
    "print(train_data['Workhour'].unique())\n",
    "print(train_data['Workhour'].describe())"
   ]
  },
  {
   "cell_type": "code",
   "execution_count": 148,
   "metadata": {},
   "outputs": [
    {
     "name": "stdout",
     "output_type": "stream",
     "text": [
      "finished one\n",
      "finished one\n"
     ]
    }
   ],
   "source": [
    "for dataset in data_cleaner:\n",
    "    # create a column for month\n",
    "    dataset['Month'] = dataset['Datetime_Dates'].map(lambda x : x.month)\n",
    "    print('finished one')"
   ]
  },
  {
   "cell_type": "code",
   "execution_count": 45,
   "metadata": {},
   "outputs": [
    {
     "name": "stdout",
     "output_type": "stream",
     "text": [
      "[ 5  4  3  2  1 12 11 10  9  8  7  6]\n"
     ]
    }
   ],
   "source": [
    "print(train_data['Month'].unique())"
   ]
  },
  {
   "cell_type": "code",
   "execution_count": 149,
   "metadata": {},
   "outputs": [
    {
     "name": "stdout",
     "output_type": "stream",
     "text": [
      "finished one\n",
      "finished one\n"
     ]
    }
   ],
   "source": [
    "for dataset in data_cleaner:\n",
    "    # summer: check if month is between june and august (6-8)\n",
    "    dataset['isSummer'] = dataset['Month'].map(lambda x : 1 if x == 6 or x == 7 or x == 8 else 0)\n",
    "    # winter: check if month is between dec and feb (12-2)\n",
    "    dataset['isWinter'] = dataset['Month'].map(lambda x : 1 if x == 12 or x == 1 or x == 2 else 0)\n",
    "    # autumn: check if month is between sept and nov (9-11)\n",
    "    dataset['isAutumn'] = dataset['Month'].map(lambda x : 1 if x == 9 or x == 10 or x == 11 else 0)\n",
    "    # spring: check if month is between march and may (3-5)\n",
    "    dataset['isSpring'] = dataset['Month'].map(lambda x : 1 if x == 3 or x == 4 or x == 5 else 0)\n",
    "    print('finished one')"
   ]
  },
  {
   "cell_type": "code",
   "execution_count": 151,
   "metadata": {},
   "outputs": [
    {
     "name": "stdout",
     "output_type": "stream",
     "text": [
      "            isSummer       isAutumn       isWinter       isSpring\n",
      "count  878049.000000  878049.000000  878049.000000  878049.000000\n",
      "mean        0.238487       0.256513       0.238432       0.266568\n",
      "std         0.426158       0.436708       0.426125       0.442165\n",
      "min         0.000000       0.000000       0.000000       0.000000\n",
      "25%         0.000000       0.000000       0.000000       0.000000\n",
      "50%         0.000000       0.000000       0.000000       0.000000\n",
      "75%         0.000000       1.000000       0.000000       1.000000\n",
      "max         1.000000       1.000000       1.000000       1.000000\n"
     ]
    }
   ],
   "source": [
    "seasons = ['isSummer', 'isAutumn', 'isWinter', 'isSpring']\n",
    "print(train_data[seasons].describe())"
   ]
  },
  {
   "cell_type": "code",
   "execution_count": 152,
   "metadata": {},
   "outputs": [
    {
     "name": "stdout",
     "output_type": "stream",
     "text": [
      "<class 'pandas.core.frame.DataFrame'>\n",
      "RangeIndex: 878049 entries, 0 to 878048\n",
      "Data columns (total 17 columns):\n",
      "Dates             878049 non-null object\n",
      "Category          878049 non-null object\n",
      "Descript          878049 non-null object\n",
      "DayOfWeek         878049 non-null object\n",
      "PdDistrict        878049 non-null object\n",
      "Resolution        878049 non-null object\n",
      "Address           878049 non-null object\n",
      "X                 878049 non-null float64\n",
      "Y                 878049 non-null float64\n",
      "Datetime_Dates    878049 non-null datetime64[ns]\n",
      "Workhour          878049 non-null int64\n",
      "isHoliday         878049 non-null int64\n",
      "Month             878049 non-null int64\n",
      "isSummer          878049 non-null int64\n",
      "isWinter          878049 non-null int64\n",
      "isAutumn          878049 non-null int64\n",
      "isSpring          878049 non-null int64\n",
      "dtypes: datetime64[ns](1), float64(2), int64(7), object(7)\n",
      "memory usage: 113.9+ MB\n",
      "None\n",
      "<class 'pandas.core.frame.DataFrame'>\n",
      "RangeIndex: 884262 entries, 0 to 884261\n",
      "Data columns (total 32 columns):\n",
      "Id                884262 non-null int64\n",
      "Dates             884262 non-null object\n",
      "DayOfWeek         884262 non-null object\n",
      "PdDistrict        884262 non-null object\n",
      "Address           884262 non-null object\n",
      "X                 884262 non-null float64\n",
      "Y                 884262 non-null float64\n",
      "Datetime_Dates    884262 non-null datetime64[ns]\n",
      "Workhour          884262 non-null int64\n",
      "isHoliday         884262 non-null int64\n",
      "Month             884262 non-null int64\n",
      "isSummer          884262 non-null int64\n",
      "isWinter          884262 non-null int64\n",
      "isAutumn          884262 non-null int64\n",
      "isSpring          884262 non-null int64\n",
      "BAYVIEW           884262 non-null uint8\n",
      "CENTRAL           884262 non-null uint8\n",
      "INGLESIDE         884262 non-null uint8\n",
      "MISSION           884262 non-null uint8\n",
      "NORTHERN          884262 non-null uint8\n",
      "PARK              884262 non-null uint8\n",
      "RICHMOND          884262 non-null uint8\n",
      "SOUTHERN          884262 non-null uint8\n",
      "TARAVAL           884262 non-null uint8\n",
      "TENDERLOIN        884262 non-null uint8\n",
      "Friday            884262 non-null uint8\n",
      "Monday            884262 non-null uint8\n",
      "Saturday          884262 non-null uint8\n",
      "Sunday            884262 non-null uint8\n",
      "Thursday          884262 non-null uint8\n",
      "Tuesday           884262 non-null uint8\n",
      "Wednesday         884262 non-null uint8\n",
      "dtypes: datetime64[ns](1), float64(2), int64(8), object(4), uint8(17)\n",
      "memory usage: 115.5+ MB\n",
      "None\n"
     ]
    }
   ],
   "source": [
    "print(train_data.info())\n",
    "print(test_data.info())"
   ]
  },
  {
   "cell_type": "code",
   "execution_count": 153,
   "metadata": {},
   "outputs": [
    {
     "name": "stdout",
     "output_type": "stream",
     "text": [
      "0    NORTHERN\n",
      "1    NORTHERN\n",
      "2    NORTHERN\n",
      "3    NORTHERN\n",
      "4        PARK\n",
      "Name: PdDistrict, dtype: object\n",
      "['NORTHERN' 'PARK' 'INGLESIDE' 'BAYVIEW' 'RICHMOND' 'CENTRAL' 'TARAVAL'\n",
      " 'TENDERLOIN' 'MISSION' 'SOUTHERN']\n"
     ]
    }
   ],
   "source": [
    "print(train_data['PdDistrict'].head())\n",
    "print(train_data['PdDistrict'].unique())"
   ]
  },
  {
   "cell_type": "code",
   "execution_count": 173,
   "metadata": {},
   "outputs": [],
   "source": [
    "# get dummy data for pd_district and concat it to test/train dataframes\n",
    "train_data = pd.concat([train_data, pd.get_dummies(train_data['PdDistrict'])], axis=1)\n",
    "test_data = pd.concat([test_data, pd.get_dummies(test_data['PdDistrict'])], axis=1)\n",
    "# for dataset in data_cleaner:\n",
    "#     dataset = pd.concat([dataset, pd.get_dummies(dataset['PdDistrict'])], axis=1)"
   ]
  },
  {
   "cell_type": "code",
   "execution_count": 175,
   "metadata": {},
   "outputs": [
    {
     "name": "stdout",
     "output_type": "stream",
     "text": [
      "['Dates', 'Category', 'Descript', 'DayOfWeek', 'PdDistrict', 'Resolution', 'Address', 'X', 'Y', 'Datetime_Dates', 'Workhour', 'isHoliday', 'Month', 'isSummer', 'isWinter', 'isAutumn', 'isSpring', 'BAYVIEW', 'CENTRAL', 'INGLESIDE', 'MISSION', 'NORTHERN', 'PARK', 'RICHMOND', 'SOUTHERN', 'TARAVAL', 'TENDERLOIN']\n",
      "   NORTHERN  PARK  INGLESIDE  BAYVIEW  RICHMOND  CENTRAL  TARAVAL  TENDERLOIN  \\\n",
      "0         1     0          0        0         0        0        0           0   \n",
      "1         1     0          0        0         0        0        0           0   \n",
      "2         1     0          0        0         0        0        0           0   \n",
      "3         1     0          0        0         0        0        0           0   \n",
      "4         0     1          0        0         0        0        0           0   \n",
      "\n",
      "   MISSION  SOUTHERN  \n",
      "0        0         0  \n",
      "1        0         0  \n",
      "2        0         0  \n",
      "3        0         0  \n",
      "4        0         0  \n"
     ]
    }
   ],
   "source": [
    "pd_districts = train_data['PdDistrict'].unique()\n",
    "print(train_data.columns.tolist())\n",
    "print(train_data[pd_districts].head())"
   ]
  },
  {
   "cell_type": "code",
   "execution_count": 176,
   "metadata": {},
   "outputs": [],
   "source": [
    "# get train_test data for DayOfWeek for train/test data\n",
    "# for dataset in data_cleaner:\n",
    "#     dataset = pd.concat([dataset, pd.get_dummies(dataset['DayOfWeek'])], axis=1)\n",
    "train_data = pd.concat([train_data, pd.get_dummies(train_data['DayOfWeek'])], axis=1)\n",
    "test_data = pd.concat([test_data, pd.get_dummies(test_data['DayOfWeek'])], axis=1)"
   ]
  },
  {
   "cell_type": "code",
   "execution_count": 177,
   "metadata": {},
   "outputs": [
    {
     "name": "stdout",
     "output_type": "stream",
     "text": [
      "['Id', 'Dates', 'DayOfWeek', 'PdDistrict', 'Address', 'X', 'Y', 'Datetime_Dates', 'Workhour', 'isHoliday', 'Month', 'isSummer', 'isWinter', 'isAutumn', 'isSpring', 'BAYVIEW', 'CENTRAL', 'INGLESIDE', 'MISSION', 'NORTHERN', 'PARK', 'RICHMOND', 'SOUTHERN', 'TARAVAL', 'TENDERLOIN', 'Friday', 'Monday', 'Saturday', 'Sunday', 'Thursday', 'Tuesday', 'Wednesday', 'BAYVIEW', 'CENTRAL', 'INGLESIDE', 'MISSION', 'NORTHERN', 'PARK', 'RICHMOND', 'SOUTHERN', 'TARAVAL', 'TENDERLOIN', 'Friday', 'Monday', 'Saturday', 'Sunday', 'Thursday', 'Tuesday', 'Wednesday']\n",
      "   Sunday  Sunday  Saturday  Saturday  Friday  Friday  Thursday  Thursday  \\\n",
      "0       1       1         0         0       0       0         0         0   \n",
      "1       1       1         0         0       0       0         0         0   \n",
      "2       1       1         0         0       0       0         0         0   \n",
      "3       1       1         0         0       0       0         0         0   \n",
      "4       1       1         0         0       0       0         0         0   \n",
      "\n",
      "   Wednesday  Wednesday  Tuesday  Tuesday  Monday  Monday  \n",
      "0          0          0        0        0       0       0  \n",
      "1          0          0        0        0       0       0  \n",
      "2          0          0        0        0       0       0  \n",
      "3          0          0        0        0       0       0  \n",
      "4          0          0        0        0       0       0  \n"
     ]
    }
   ],
   "source": [
    "week_day = test_data['DayOfWeek'].unique()\n",
    "print(test_data.columns.tolist())\n",
    "print(test_data[week_day].head())"
   ]
  },
  {
   "cell_type": "code",
   "execution_count": 178,
   "metadata": {},
   "outputs": [],
   "source": [
    "data_cleaner = [train_data, test_data]"
   ]
  },
  {
   "cell_type": "code",
   "execution_count": 181,
   "metadata": {},
   "outputs": [
    {
     "name": "stdout",
     "output_type": "stream",
     "text": [
      "            NORTHERN           PARK      INGLESIDE        BAYVIEW  \\\n",
      "count  878049.000000  878049.000000  878049.000000  878049.000000   \n",
      "mean        0.119920       0.056162       0.089796       0.101852   \n",
      "std         0.324869       0.230234       0.285889       0.302454   \n",
      "min         0.000000       0.000000       0.000000       0.000000   \n",
      "25%         0.000000       0.000000       0.000000       0.000000   \n",
      "50%         0.000000       0.000000       0.000000       0.000000   \n",
      "75%         0.000000       0.000000       0.000000       0.000000   \n",
      "max         1.000000       1.000000       1.000000       1.000000   \n",
      "\n",
      "            RICHMOND        CENTRAL        TARAVAL     TENDERLOIN  \\\n",
      "count  878049.000000  878049.000000  878049.000000  878049.000000   \n",
      "mean        0.051488       0.097329       0.074707       0.093171   \n",
      "std         0.220991       0.296406       0.262917       0.290673   \n",
      "min         0.000000       0.000000       0.000000       0.000000   \n",
      "25%         0.000000       0.000000       0.000000       0.000000   \n",
      "50%         0.000000       0.000000       0.000000       0.000000   \n",
      "75%         0.000000       0.000000       0.000000       0.000000   \n",
      "max         1.000000       1.000000       1.000000       1.000000   \n",
      "\n",
      "             MISSION       SOUTHERN  \n",
      "count  878049.000000  878049.000000  \n",
      "mean        0.136562       0.179013  \n",
      "std         0.343384       0.383363  \n",
      "min         0.000000       0.000000  \n",
      "25%         0.000000       0.000000  \n",
      "50%         0.000000       0.000000  \n",
      "75%         0.000000       0.000000  \n",
      "max         1.000000       1.000000  \n",
      "              Sunday       Saturday         Friday       Thursday  \\\n",
      "count  878049.000000  878049.000000  878049.000000  878049.000000   \n",
      "mean        0.132916       0.144422       0.152308       0.142404   \n",
      "std         0.339484       0.351518       0.359320       0.349465   \n",
      "min         0.000000       0.000000       0.000000       0.000000   \n",
      "25%         0.000000       0.000000       0.000000       0.000000   \n",
      "50%         0.000000       0.000000       0.000000       0.000000   \n",
      "75%         0.000000       0.000000       0.000000       0.000000   \n",
      "max         1.000000       1.000000       1.000000       1.000000   \n",
      "\n",
      "           Wednesday        Tuesday         Monday  \n",
      "count  878049.000000  878049.000000  878049.000000  \n",
      "mean        0.147157       0.142321       0.138471  \n",
      "std         0.354262       0.349379       0.345393  \n",
      "min         0.000000       0.000000       0.000000  \n",
      "25%         0.000000       0.000000       0.000000  \n",
      "50%         0.000000       0.000000       0.000000  \n",
      "75%         0.000000       0.000000       0.000000  \n",
      "max         1.000000       1.000000       1.000000  \n"
     ]
    }
   ],
   "source": [
    "print(train_data[pd_districts].describe())\n",
    "print(train_data[week_day].describe())"
   ]
  },
  {
   "cell_type": "code",
   "execution_count": 185,
   "metadata": {},
   "outputs": [
    {
     "name": "stdout",
     "output_type": "stream",
     "text": [
      "finished one\n",
      "finished one\n"
     ]
    }
   ],
   "source": [
    "# make the attributes form Datetime field into int column fields\n",
    "for dataset in data_cleaner:\n",
    "    # create a column for Year\n",
    "    dataset['Year'] = dataset['Datetime_Dates'].map(lambda x : x.year)\n",
    "    # create a column for Day\n",
    "    dataset['Day'] = dataset['Datetime_Dates'].map(lambda x : x.day)\n",
    "    # create a column for Hour\n",
    "    dataset['Hour'] = dataset['Datetime_Dates'].map(lambda x : x.hour)\n",
    "    print('finished one')"
   ]
  },
  {
   "cell_type": "code",
   "execution_count": 184,
   "metadata": {},
   "outputs": [
    {
     "name": "stdout",
     "output_type": "stream",
     "text": [
      "0         2015\n",
      "1         2015\n",
      "2         2015\n",
      "3         2015\n",
      "4         2015\n",
      "5         2015\n",
      "6         2015\n",
      "7         2015\n",
      "8         2015\n",
      "9         2015\n",
      "10        2015\n",
      "11        2015\n",
      "12        2015\n",
      "13        2015\n",
      "14        2015\n",
      "15        2015\n",
      "16        2015\n",
      "17        2015\n",
      "18        2015\n",
      "19        2015\n",
      "20        2015\n",
      "21        2015\n",
      "22        2015\n",
      "23        2015\n",
      "24        2015\n",
      "25        2015\n",
      "26        2015\n",
      "27        2015\n",
      "28        2015\n",
      "29        2015\n",
      "          ... \n",
      "878019    2003\n",
      "878020    2003\n",
      "878021    2003\n",
      "878022    2003\n",
      "878023    2003\n",
      "878024    2003\n",
      "878025    2003\n",
      "878026    2003\n",
      "878027    2003\n",
      "878028    2003\n",
      "878029    2003\n",
      "878030    2003\n",
      "878031    2003\n",
      "878032    2003\n",
      "878033    2003\n",
      "878034    2003\n",
      "878035    2003\n",
      "878036    2003\n",
      "878037    2003\n",
      "878038    2003\n",
      "878039    2003\n",
      "878040    2003\n",
      "878041    2003\n",
      "878042    2003\n",
      "878043    2003\n",
      "878044    2003\n",
      "878045    2003\n",
      "878046    2003\n",
      "878047    2003\n",
      "878048    2003\n",
      "Name: Year, Length: 878049, dtype: int64\n"
     ]
    }
   ],
   "source": [
    "print(train_data['Year'])"
   ]
  },
  {
   "cell_type": "markdown",
   "metadata": {},
   "source": [
    "# Send Data for Data Visualization and Modeling"
   ]
  },
  {
   "cell_type": "code",
   "execution_count": 187,
   "metadata": {},
   "outputs": [],
   "source": [
    "# processed data to csv file done here\n",
    "train_data.to_csv('./data/processed_train_data.csv')\n",
    "test_data.to_csv('./data/processed_test_data.csv')"
   ]
  }
 ],
 "metadata": {
  "kernelspec": {
   "display_name": "Python 3",
   "language": "python",
   "name": "python3"
  },
  "language_info": {
   "codemirror_mode": {
    "name": "ipython",
    "version": 3
   },
   "file_extension": ".py",
   "mimetype": "text/x-python",
   "name": "python",
   "nbconvert_exporter": "python",
   "pygments_lexer": "ipython3",
   "version": "3.6.2rc1"
  }
 },
 "nbformat": 4,
 "nbformat_minor": 2
}
