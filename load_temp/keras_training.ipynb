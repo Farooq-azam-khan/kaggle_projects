{
 "cells": [
  {
   "cell_type": "code",
   "execution_count": 4,
   "metadata": {},
   "outputs": [],
   "source": [
    "import pandas as pd\n",
    "from sklearn import model_selection, metrics"
   ]
  },
  {
   "cell_type": "code",
   "execution_count": 5,
   "metadata": {},
   "outputs": [],
   "source": [
    "train_load_data = pd.read_csv('./data/preprocessed_train_load_data.csv')"
   ]
  },
  {
   "cell_type": "code",
   "execution_count": 6,
   "metadata": {},
   "outputs": [],
   "source": [
    "features_list = ['zone_id', 'year', 'month', 'day', 'weekday', 'week_of_year', 'day_of_year', 'is_month_start', 'is_month_end']\n",
    "features = train_load_data[features_list]\n",
    "targets_list = [f'h{i}' for i in range(1,25)]\n",
    "targets = train_load_data[targets_list]"
   ]
  },
  {
   "cell_type": "code",
   "execution_count": 7,
   "metadata": {},
   "outputs": [],
   "source": [
    "train_X, test_X, train_y, test_y = model_selection.train_test_split(features, targets, random_state=0)"
   ]
  },
  {
   "cell_type": "code",
   "execution_count": 12,
   "metadata": {},
   "outputs": [
    {
     "data": {
      "text/plain": [
       "(23692, 24)"
      ]
     },
     "execution_count": 12,
     "metadata": {},
     "output_type": "execute_result"
    }
   ],
   "source": [
    "train_y.shape"
   ]
  },
  {
   "cell_type": "code",
   "execution_count": 8,
   "metadata": {},
   "outputs": [
    {
     "name": "stderr",
     "output_type": "stream",
     "text": [
      "Using TensorFlow backend.\n"
     ]
    }
   ],
   "source": [
    "from keras.models import Sequential\n",
    "from keras.layers import Dense\n",
    "from sklearn.datasets import make_regression\n",
    "from sklearn.preprocessing import MinMaxScaler"
   ]
  },
  {
   "cell_type": "code",
   "execution_count": 18,
   "metadata": {},
   "outputs": [],
   "source": [
    "model = Sequential()\n",
    "model.add(Dense(512, input_dim=train_X.shape[1], activation='relu'))\n",
    "model.add(Dense(512, activation='relu'))\n",
    "model.add(Dense(512, activation='relu'))\n",
    "model.add(Dense(512, activation='relu'))\n",
    "model.add(Dense(512, activation='relu'))\n",
    "model.add(Dense(train_y.shape[1], activation='linear'))"
   ]
  },
  {
   "cell_type": "code",
   "execution_count": 19,
   "metadata": {},
   "outputs": [],
   "source": [
    "model.compile(loss='mse', optimizer='adam', metrics=['mse'])"
   ]
  },
  {
   "cell_type": "code",
   "execution_count": 20,
   "metadata": {},
   "outputs": [
    {
     "name": "stdout",
     "output_type": "stream",
     "text": [
      "Train on 23692 samples, validate on 7898 samples\n",
      "Epoch 1/10\n",
      "23692/23692 [==============================] - 18s 770us/step - loss: 5918663406.4089 - mean_squared_error: 5918663406.4089 - val_loss: 5443649570.8767 - val_mean_squared_error: 5443649570.8767\n",
      "Epoch 2/10\n",
      "23692/23692 [==============================] - 18s 773us/step - loss: 5756239710.2657 - mean_squared_error: 5756239710.2657 - val_loss: 5445383297.2641 - val_mean_squared_error: 5445383297.2641\n",
      "Epoch 3/10\n",
      "23692/23692 [==============================] - 18s 768us/step - loss: 5757632687.2193 - mean_squared_error: 5757632687.2193 - val_loss: 5411453493.2874 - val_mean_squared_error: 5411453493.2874\n",
      "Epoch 4/10\n",
      "23692/23692 [==============================] - 18s 759us/step - loss: 5755352630.3724 - mean_squared_error: 5755352630.3724 - val_loss: 5472841949.0585 - val_mean_squared_error: 5472841949.0585\n",
      "Epoch 5/10\n",
      "23692/23692 [==============================] - 18s 750us/step - loss: 5724591136.6753 - mean_squared_error: 5724591136.6753 - val_loss: 5547133169.6733 - val_mean_squared_error: 5547133169.6733\n",
      "Epoch 6/10\n",
      "23692/23692 [==============================] - 18s 760us/step - loss: 5717629266.1638 - mean_squared_error: 5717629266.1638 - val_loss: 5386470301.7230 - val_mean_squared_error: 5386470301.7230\n",
      "Epoch 7/10\n",
      "23692/23692 [==============================] - 18s 768us/step - loss: 5703490505.2386 - mean_squared_error: 5703490505.2386 - val_loss: 5388580715.4176 - val_mean_squared_error: 5388580715.4176\n",
      "Epoch 8/10\n",
      "23692/23692 [==============================] - 18s 752us/step - loss: 5697171014.8830 - mean_squared_error: 5697171014.8830 - val_loss: 5592732222.3631 - val_mean_squared_error: 5592732222.3631\n",
      "Epoch 9/10\n",
      "23692/23692 [==============================] - 18s 753us/step - loss: 5688823459.8521 - mean_squared_error: 5688823459.8521 - val_loss: 5381478183.6090 - val_mean_squared_error: 5381478183.6090\n",
      "Epoch 10/10\n",
      "23692/23692 [==============================] - 19s 788us/step - loss: 5699220093.8605 - mean_squared_error: 5699220093.8605 - val_loss: 5437483886.9182 - val_mean_squared_error: 5437483886.9182\n"
     ]
    },
    {
     "data": {
      "text/plain": [
       "<keras.callbacks.History at 0x2525d1b5f98>"
      ]
     },
     "execution_count": 20,
     "metadata": {},
     "output_type": "execute_result"
    }
   ],
   "source": [
    "model.fit(train_X, train_y, epochs=10, validation_data=(test_X, test_y))"
   ]
  },
  {
   "cell_type": "code",
   "execution_count": null,
   "metadata": {},
   "outputs": [],
   "source": []
  },
  {
   "cell_type": "code",
   "execution_count": null,
   "metadata": {},
   "outputs": [],
   "source": []
  }
 ],
 "metadata": {
  "kernelspec": {
   "display_name": "Python 3",
   "language": "python",
   "name": "python3"
  },
  "language_info": {
   "codemirror_mode": {
    "name": "ipython",
    "version": 3
   },
   "file_extension": ".py",
   "mimetype": "text/x-python",
   "name": "python",
   "nbconvert_exporter": "python",
   "pygments_lexer": "ipython3",
   "version": "3.6.6"
  }
 },
 "nbformat": 4,
 "nbformat_minor": 2
}
